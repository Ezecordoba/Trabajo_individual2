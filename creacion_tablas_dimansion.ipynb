{
 "cells": [
  {
   "cell_type": "markdown",
   "metadata": {},
   "source": [
    "# AQUÍ CREAREMOS LAS TABLAS DE DIMENSION Provincia, Partido, Localidad, Trimestre, Año y Tecnología "
   ]
  },
  {
   "cell_type": "code",
   "execution_count": 1,
   "metadata": {},
   "outputs": [],
   "source": [
    "import pandas as pd\n",
    "import unidecode\n"
   ]
  },
  {
   "cell_type": "code",
   "execution_count": 2,
   "metadata": {},
   "outputs": [],
   "source": [
    "def normalizacion_palabras(palabra_corregir):\n",
    "    '''Saca las mayusculas y las tildes de una palabrade las palabras y pone la primera letra de cada palabra en mayúscula \n",
    "    (exceptuando las las palabras que conectan otras palabras como la, el, de, etc).'''\n",
    "    excepciones = [\"la\", \"el\", \"de\", \"y\", \"del\", \"los\", \"las\", \"en\", \"al\", \"por\", \"con\", \"a\", \"para\"]\n",
    "    # Convertimos la palabra a minúsculas para empezar desde una base común\n",
    "    palabras = palabra_corregir.lower().split()\n",
    "    \n",
    "    # Corregimos las palabras y quitamos las tildes\n",
    "    palabras_corregidas = []\n",
    "    for i, palabra in enumerate(palabras):\n",
    "        # Si la palabra está en la lista de excepciones, no la capitalizamos (a menos que sea la primera)\n",
    "        if palabra in excepciones and i != 0:\n",
    "            palabras_corregidas.append(palabra)\n",
    "        else:\n",
    "            # Capitalizamos la palabra\n",
    "            palabra_corregida = palabra.capitalize()\n",
    "            # Quitamos las tildes\n",
    "            palabra_corregida = unidecode.unidecode(palabra_corregida)\n",
    "            palabras_corregidas.append(palabra_corregida)\n",
    "    \n",
    "    # Volver a juntar las palabras\n",
    "    palabras_corregidas = ' '.join(palabras_corregidas)\n",
    "    \n",
    "    return palabras_corregidas"
   ]
  },
  {
   "cell_type": "markdown",
   "metadata": {},
   "source": [
    "<u>TRIMENSTRE</u>"
   ]
  },
  {
   "cell_type": "code",
   "execution_count": 3,
   "metadata": {},
   "outputs": [
    {
     "data": {
      "text/html": [
       "<div>\n",
       "<style scoped>\n",
       "    .dataframe tbody tr th:only-of-type {\n",
       "        vertical-align: middle;\n",
       "    }\n",
       "\n",
       "    .dataframe tbody tr th {\n",
       "        vertical-align: top;\n",
       "    }\n",
       "\n",
       "    .dataframe thead th {\n",
       "        text-align: right;\n",
       "    }\n",
       "</style>\n",
       "<table border=\"1\" class=\"dataframe\">\n",
       "  <thead>\n",
       "    <tr style=\"text-align: right;\">\n",
       "      <th></th>\n",
       "      <th>Trimestre</th>\n",
       "      <th>Meses</th>\n",
       "    </tr>\n",
       "  </thead>\n",
       "  <tbody>\n",
       "    <tr>\n",
       "      <th>0</th>\n",
       "      <td>1</td>\n",
       "      <td>Enero-Marzo</td>\n",
       "    </tr>\n",
       "    <tr>\n",
       "      <th>1</th>\n",
       "      <td>2</td>\n",
       "      <td>Abril-Junio</td>\n",
       "    </tr>\n",
       "    <tr>\n",
       "      <th>2</th>\n",
       "      <td>3</td>\n",
       "      <td>Julio-Septiembre</td>\n",
       "    </tr>\n",
       "    <tr>\n",
       "      <th>3</th>\n",
       "      <td>4</td>\n",
       "      <td>Octubre-Dicimbre</td>\n",
       "    </tr>\n",
       "  </tbody>\n",
       "</table>\n",
       "</div>"
      ],
      "text/plain": [
       "   Trimestre             Meses\n",
       "0          1       Enero-Marzo\n",
       "1          2       Abril-Junio\n",
       "2          3  Julio-Septiembre\n",
       "3          4  Octubre-Dicimbre"
      ]
     },
     "execution_count": 3,
     "metadata": {},
     "output_type": "execute_result"
    }
   ],
   "source": [
    "trimestre=pd.DataFrame({\"Trimestre\":[1,2,3,4],\n",
    "                        \"Meses\":[\"Enero-Marzo\",\"Abril-Junio\",\"Julio-Septiembre\",\"Octubre-Dicimbre\"]})\n",
    "trimestre"
   ]
  },
  {
   "cell_type": "code",
   "execution_count": 4,
   "metadata": {},
   "outputs": [],
   "source": [
    "trimestre.to_csv('./Database/Tablas_de_dimension/Trimestres.csv',index=False)"
   ]
  },
  {
   "cell_type": "markdown",
   "metadata": {},
   "source": [
    "<u>Provincias</u>"
   ]
  },
  {
   "cell_type": "code",
   "execution_count": 5,
   "metadata": {},
   "outputs": [],
   "source": [
    "prov=[\"Caba\",\"Buenos Aires\", \"Catamarca\", \"Chaco\", \"Chubut\", \"Cordoba\", \"Corrientes\", \n",
    "            \"Entre Rios\", \"Formosa\", \"Jujuy\", \"La Pampa\", \"La Rioja\", \"Mendoza\", \n",
    "            \"Misiones\", \"Neuquen\", \"Rio Negro\", \"Salta\", \"San Juan\", \"San Luis\", \n",
    "            \"Santa Cruz\", \"Santa Fe\", \"Santiago del Estero\", \"Tierra del Fuego\", \"Tucuman\"]"
   ]
  },
  {
   "cell_type": "code",
   "execution_count": 6,
   "metadata": {},
   "outputs": [
    {
     "data": {
      "text/html": [
       "<div>\n",
       "<style scoped>\n",
       "    .dataframe tbody tr th:only-of-type {\n",
       "        vertical-align: middle;\n",
       "    }\n",
       "\n",
       "    .dataframe tbody tr th {\n",
       "        vertical-align: top;\n",
       "    }\n",
       "\n",
       "    .dataframe thead th {\n",
       "        text-align: right;\n",
       "    }\n",
       "</style>\n",
       "<table border=\"1\" class=\"dataframe\">\n",
       "  <thead>\n",
       "    <tr style=\"text-align: right;\">\n",
       "      <th></th>\n",
       "      <th>Id_Provincia</th>\n",
       "      <th>Provincia</th>\n",
       "    </tr>\n",
       "  </thead>\n",
       "  <tbody>\n",
       "    <tr>\n",
       "      <th>0</th>\n",
       "      <td>1</td>\n",
       "      <td>Caba</td>\n",
       "    </tr>\n",
       "    <tr>\n",
       "      <th>1</th>\n",
       "      <td>2</td>\n",
       "      <td>Buenos Aires</td>\n",
       "    </tr>\n",
       "    <tr>\n",
       "      <th>2</th>\n",
       "      <td>3</td>\n",
       "      <td>Catamarca</td>\n",
       "    </tr>\n",
       "    <tr>\n",
       "      <th>3</th>\n",
       "      <td>4</td>\n",
       "      <td>Chaco</td>\n",
       "    </tr>\n",
       "    <tr>\n",
       "      <th>4</th>\n",
       "      <td>5</td>\n",
       "      <td>Chubut</td>\n",
       "    </tr>\n",
       "    <tr>\n",
       "      <th>5</th>\n",
       "      <td>6</td>\n",
       "      <td>Cordoba</td>\n",
       "    </tr>\n",
       "    <tr>\n",
       "      <th>6</th>\n",
       "      <td>7</td>\n",
       "      <td>Corrientes</td>\n",
       "    </tr>\n",
       "    <tr>\n",
       "      <th>7</th>\n",
       "      <td>8</td>\n",
       "      <td>Entre Rios</td>\n",
       "    </tr>\n",
       "    <tr>\n",
       "      <th>8</th>\n",
       "      <td>9</td>\n",
       "      <td>Formosa</td>\n",
       "    </tr>\n",
       "    <tr>\n",
       "      <th>9</th>\n",
       "      <td>10</td>\n",
       "      <td>Jujuy</td>\n",
       "    </tr>\n",
       "    <tr>\n",
       "      <th>10</th>\n",
       "      <td>11</td>\n",
       "      <td>La Pampa</td>\n",
       "    </tr>\n",
       "    <tr>\n",
       "      <th>11</th>\n",
       "      <td>12</td>\n",
       "      <td>La Rioja</td>\n",
       "    </tr>\n",
       "    <tr>\n",
       "      <th>12</th>\n",
       "      <td>13</td>\n",
       "      <td>Mendoza</td>\n",
       "    </tr>\n",
       "    <tr>\n",
       "      <th>13</th>\n",
       "      <td>14</td>\n",
       "      <td>Misiones</td>\n",
       "    </tr>\n",
       "    <tr>\n",
       "      <th>14</th>\n",
       "      <td>15</td>\n",
       "      <td>Neuquen</td>\n",
       "    </tr>\n",
       "    <tr>\n",
       "      <th>15</th>\n",
       "      <td>16</td>\n",
       "      <td>Rio Negro</td>\n",
       "    </tr>\n",
       "    <tr>\n",
       "      <th>16</th>\n",
       "      <td>17</td>\n",
       "      <td>Salta</td>\n",
       "    </tr>\n",
       "    <tr>\n",
       "      <th>17</th>\n",
       "      <td>18</td>\n",
       "      <td>San Juan</td>\n",
       "    </tr>\n",
       "    <tr>\n",
       "      <th>18</th>\n",
       "      <td>19</td>\n",
       "      <td>San Luis</td>\n",
       "    </tr>\n",
       "    <tr>\n",
       "      <th>19</th>\n",
       "      <td>20</td>\n",
       "      <td>Santa Cruz</td>\n",
       "    </tr>\n",
       "    <tr>\n",
       "      <th>20</th>\n",
       "      <td>21</td>\n",
       "      <td>Santa Fe</td>\n",
       "    </tr>\n",
       "    <tr>\n",
       "      <th>21</th>\n",
       "      <td>22</td>\n",
       "      <td>Santiago del Estero</td>\n",
       "    </tr>\n",
       "    <tr>\n",
       "      <th>22</th>\n",
       "      <td>23</td>\n",
       "      <td>Tierra del Fuego</td>\n",
       "    </tr>\n",
       "    <tr>\n",
       "      <th>23</th>\n",
       "      <td>24</td>\n",
       "      <td>Tucuman</td>\n",
       "    </tr>\n",
       "  </tbody>\n",
       "</table>\n",
       "</div>"
      ],
      "text/plain": [
       "    Id_Provincia            Provincia\n",
       "0              1                 Caba\n",
       "1              2         Buenos Aires\n",
       "2              3            Catamarca\n",
       "3              4                Chaco\n",
       "4              5               Chubut\n",
       "5              6              Cordoba\n",
       "6              7           Corrientes\n",
       "7              8           Entre Rios\n",
       "8              9              Formosa\n",
       "9             10                Jujuy\n",
       "10            11             La Pampa\n",
       "11            12             La Rioja\n",
       "12            13              Mendoza\n",
       "13            14             Misiones\n",
       "14            15              Neuquen\n",
       "15            16            Rio Negro\n",
       "16            17                Salta\n",
       "17            18             San Juan\n",
       "18            19             San Luis\n",
       "19            20           Santa Cruz\n",
       "20            21             Santa Fe\n",
       "21            22  Santiago del Estero\n",
       "22            23     Tierra del Fuego\n",
       "23            24              Tucuman"
      ]
     },
     "execution_count": 6,
     "metadata": {},
     "output_type": "execute_result"
    }
   ],
   "source": [
    "provincias=pd.DataFrame({\"Id_Provincia\":[i for i in range(1,len(prov)+1)],\n",
    "                         \"Provincia\":prov})\n",
    "provincias"
   ]
  },
  {
   "cell_type": "code",
   "execution_count": 7,
   "metadata": {},
   "outputs": [],
   "source": [
    "provincias.to_csv('./Database/Tablas_de_dimension/Provincias.csv',index=False)"
   ]
  },
  {
   "cell_type": "markdown",
   "metadata": {},
   "source": [
    "<u>Partidos</u>"
   ]
  },
  {
   "cell_type": "markdown",
   "metadata": {},
   "source": [
    "Creamos los dataframe y corregimos los nombres de las columnas de una o de ellos "
   ]
  },
  {
   "cell_type": "code",
   "execution_count": 8,
   "metadata": {},
   "outputs": [],
   "source": [
    "Acc_vel_loc_sinrangos = pd.read_excel(\"./Database/internet.xlsx\", sheet_name=\"Acc_vel_loc_sinrangos\")\n",
    "Acc_vel_loc_sinrangos=Acc_vel_loc_sinrangos.rename(columns={\"Partido\":\"provincia\",\n",
    "                                                 \"Localidad\":\"partido\",\n",
    "                                                 \"link Indec\":\"localidad\",\n",
    "                                                 \"Velocidad (Mbps)\":\"link Indec\",\n",
    "                                                 \"Provincia\":\"velocidad\"})\n",
    "\n",
    "Acc_vel_loc_sinrangos=Acc_vel_loc_sinrangos.rename(columns={\"provincia\":\"Provincia\",\n",
    "                                                 \"partido\":\"Partido\",\n",
    "                                                 \"localidad\":\"Localidad\",\n",
    "                                                 \"velocidad\":\"Velocidad (Mbps)\"})\n",
    "Accesos_tecnologia_localidad = pd.read_excel(\"./Database/internet.xlsx\", sheet_name=\"Accesos_tecnologia_localidad\")"
   ]
  },
  {
   "cell_type": "markdown",
   "metadata": {},
   "source": [
    "Sacamos solo las columnas que nos interesan "
   ]
  },
  {
   "cell_type": "code",
   "execution_count": 9,
   "metadata": {},
   "outputs": [],
   "source": [
    "df1 = Acc_vel_loc_sinrangos[[\"Provincia\",\"Partido\",\"Localidad\"]]\n",
    "df2 = Accesos_tecnologia_localidad[[\"Provincia\",\"Partido\",\"Localidad\"]]"
   ]
  },
  {
   "cell_type": "markdown",
   "metadata": {},
   "source": [
    "Concatenamos ambos verticalmente y creamos el dataset partido sacando la localidad"
   ]
  },
  {
   "cell_type": "code",
   "execution_count": 10,
   "metadata": {},
   "outputs": [],
   "source": [
    "df = pd.concat([df1, df2], ignore_index=True)\n",
    "partido = df.drop(columns=\"Localidad\")"
   ]
  },
  {
   "cell_type": "markdown",
   "metadata": {},
   "source": [
    "Eliminamos los duplicados y los NaN "
   ]
  },
  {
   "cell_type": "code",
   "execution_count": 11,
   "metadata": {},
   "outputs": [],
   "source": [
    "partido = partido.drop_duplicates(subset=[\"Partido\"])\n",
    "partido1 = partido.dropna()"
   ]
  },
  {
   "cell_type": "markdown",
   "metadata": {},
   "source": [
    "Corregimos algunos valores en formato incorrecto"
   ]
  },
  {
   "cell_type": "code",
   "execution_count": 12,
   "metadata": {},
   "outputs": [],
   "source": [
    "partido1[\"Partido\"] = partido1[\"Partido\"].replace(\"Ciudad Autónoma de Buenos Aires\", \"Caba\")\n",
    "partido2 = partido1[partido1['Partido'] != 'ANTARTIDA ARGENTINA']\n",
    "partido3 = partido2[partido2['Partido'] != 'OTROS']"
   ]
  },
  {
   "cell_type": "markdown",
   "metadata": {},
   "source": [
    "Normalizamos el formato de las palabras "
   ]
  },
  {
   "cell_type": "code",
   "execution_count": 13,
   "metadata": {},
   "outputs": [],
   "source": [
    "partido3.loc[:, \"Partido\"]=partido3[\"Partido\"].apply(normalizacion_palabras)\n",
    "partido3.loc[:, \"Provincia\"]=partido3[\"Provincia\"].apply(normalizacion_palabras)"
   ]
  },
  {
   "cell_type": "markdown",
   "metadata": {},
   "source": [
    "Traemos el Id_Provincia y eliminamos la columna Provincia"
   ]
  },
  {
   "cell_type": "code",
   "execution_count": 14,
   "metadata": {},
   "outputs": [
    {
     "data": {
      "text/html": [
       "<div>\n",
       "<style scoped>\n",
       "    .dataframe tbody tr th:only-of-type {\n",
       "        vertical-align: middle;\n",
       "    }\n",
       "\n",
       "    .dataframe tbody tr th {\n",
       "        vertical-align: top;\n",
       "    }\n",
       "\n",
       "    .dataframe thead th {\n",
       "        text-align: right;\n",
       "    }\n",
       "</style>\n",
       "<table border=\"1\" class=\"dataframe\">\n",
       "  <thead>\n",
       "    <tr style=\"text-align: right;\">\n",
       "      <th></th>\n",
       "      <th>Partido</th>\n",
       "      <th>Id_Provincia</th>\n",
       "    </tr>\n",
       "  </thead>\n",
       "  <tbody>\n",
       "    <tr>\n",
       "      <th>0</th>\n",
       "      <td>25 de Mayo</td>\n",
       "      <td>2</td>\n",
       "    </tr>\n",
       "    <tr>\n",
       "      <th>1</th>\n",
       "      <td>9 de Julio</td>\n",
       "      <td>2</td>\n",
       "    </tr>\n",
       "    <tr>\n",
       "      <th>2</th>\n",
       "      <td>Adolfo Alsina</td>\n",
       "      <td>2</td>\n",
       "    </tr>\n",
       "    <tr>\n",
       "      <th>3</th>\n",
       "      <td>Adolfo Gonzales Chaves</td>\n",
       "      <td>2</td>\n",
       "    </tr>\n",
       "    <tr>\n",
       "      <th>4</th>\n",
       "      <td>Alberti</td>\n",
       "      <td>2</td>\n",
       "    </tr>\n",
       "  </tbody>\n",
       "</table>\n",
       "</div>"
      ],
      "text/plain": [
       "                  Partido  Id_Provincia\n",
       "0              25 de Mayo             2\n",
       "1              9 de Julio             2\n",
       "2           Adolfo Alsina             2\n",
       "3  Adolfo Gonzales Chaves             2\n",
       "4                 Alberti             2"
      ]
     },
     "execution_count": 14,
     "metadata": {},
     "output_type": "execute_result"
    }
   ],
   "source": [
    "partido3=partido3.merge(provincias[[\"Provincia\", \"Id_Provincia\"]], left_on=\"Provincia\", right_on=\"Provincia\", how=\"left\")\n",
    "partido4=partido3.drop(columns=\"Provincia\")\n",
    "partido4.head()"
   ]
  },
  {
   "cell_type": "markdown",
   "metadata": {},
   "source": [
    "Corroboramos que no hay duplicados una vez normalizado el formato del texto de Partido "
   ]
  },
  {
   "cell_type": "code",
   "execution_count": 15,
   "metadata": {},
   "outputs": [],
   "source": [
    "partido5 = partido4.drop_duplicates(subset=[\"Partido\"],ignore_index=True)"
   ]
  },
  {
   "cell_type": "markdown",
   "metadata": {},
   "source": [
    "Creamos el Id_Partido"
   ]
  },
  {
   "cell_type": "code",
   "execution_count": 16,
   "metadata": {},
   "outputs": [
    {
     "name": "stderr",
     "output_type": "stream",
     "text": [
      "C:\\Users\\maria\\AppData\\Local\\Temp\\ipykernel_13496\\685838667.py:1: SettingWithCopyWarning: \n",
      "A value is trying to be set on a copy of a slice from a DataFrame.\n",
      "Try using .loc[row_indexer,col_indexer] = value instead\n",
      "\n",
      "See the caveats in the documentation: https://pandas.pydata.org/pandas-docs/stable/user_guide/indexing.html#returning-a-view-versus-a-copy\n",
      "  partido5[\"Id_Partido\"]=[i for i in range(1,partido5.shape[0]+1)]\n"
     ]
    }
   ],
   "source": [
    "partido5[\"Id_Partido\"]=[i for i in range(1,partido5.shape[0]+1)]"
   ]
  },
  {
   "cell_type": "code",
   "execution_count": 17,
   "metadata": {},
   "outputs": [
    {
     "data": {
      "text/html": [
       "<div>\n",
       "<style scoped>\n",
       "    .dataframe tbody tr th:only-of-type {\n",
       "        vertical-align: middle;\n",
       "    }\n",
       "\n",
       "    .dataframe tbody tr th {\n",
       "        vertical-align: top;\n",
       "    }\n",
       "\n",
       "    .dataframe thead th {\n",
       "        text-align: right;\n",
       "    }\n",
       "</style>\n",
       "<table border=\"1\" class=\"dataframe\">\n",
       "  <thead>\n",
       "    <tr style=\"text-align: right;\">\n",
       "      <th></th>\n",
       "      <th>Partido</th>\n",
       "      <th>Id_Provincia</th>\n",
       "      <th>Id_Partido</th>\n",
       "    </tr>\n",
       "  </thead>\n",
       "  <tbody>\n",
       "    <tr>\n",
       "      <th>0</th>\n",
       "      <td>25 de Mayo</td>\n",
       "      <td>2</td>\n",
       "      <td>1</td>\n",
       "    </tr>\n",
       "    <tr>\n",
       "      <th>1</th>\n",
       "      <td>9 de Julio</td>\n",
       "      <td>2</td>\n",
       "      <td>2</td>\n",
       "    </tr>\n",
       "    <tr>\n",
       "      <th>2</th>\n",
       "      <td>Adolfo Alsina</td>\n",
       "      <td>2</td>\n",
       "      <td>3</td>\n",
       "    </tr>\n",
       "    <tr>\n",
       "      <th>3</th>\n",
       "      <td>Adolfo Gonzales Chaves</td>\n",
       "      <td>2</td>\n",
       "      <td>4</td>\n",
       "    </tr>\n",
       "    <tr>\n",
       "      <th>4</th>\n",
       "      <td>Alberti</td>\n",
       "      <td>2</td>\n",
       "      <td>5</td>\n",
       "    </tr>\n",
       "    <tr>\n",
       "      <th>...</th>\n",
       "      <td>...</td>\n",
       "      <td>...</td>\n",
       "      <td>...</td>\n",
       "    </tr>\n",
       "    <tr>\n",
       "      <th>427</th>\n",
       "      <td>Simoca</td>\n",
       "      <td>24</td>\n",
       "      <td>428</td>\n",
       "    </tr>\n",
       "    <tr>\n",
       "      <th>428</th>\n",
       "      <td>Tafi del Valle</td>\n",
       "      <td>24</td>\n",
       "      <td>429</td>\n",
       "    </tr>\n",
       "    <tr>\n",
       "      <th>429</th>\n",
       "      <td>Tafi Viejo</td>\n",
       "      <td>24</td>\n",
       "      <td>430</td>\n",
       "    </tr>\n",
       "    <tr>\n",
       "      <th>430</th>\n",
       "      <td>Trancas</td>\n",
       "      <td>24</td>\n",
       "      <td>431</td>\n",
       "    </tr>\n",
       "    <tr>\n",
       "      <th>431</th>\n",
       "      <td>Yerba Buena</td>\n",
       "      <td>24</td>\n",
       "      <td>432</td>\n",
       "    </tr>\n",
       "  </tbody>\n",
       "</table>\n",
       "<p>432 rows × 3 columns</p>\n",
       "</div>"
      ],
      "text/plain": [
       "                    Partido  Id_Provincia  Id_Partido\n",
       "0                25 de Mayo             2           1\n",
       "1                9 de Julio             2           2\n",
       "2             Adolfo Alsina             2           3\n",
       "3    Adolfo Gonzales Chaves             2           4\n",
       "4                   Alberti             2           5\n",
       "..                      ...           ...         ...\n",
       "427                  Simoca            24         428\n",
       "428          Tafi del Valle            24         429\n",
       "429              Tafi Viejo            24         430\n",
       "430                 Trancas            24         431\n",
       "431             Yerba Buena            24         432\n",
       "\n",
       "[432 rows x 3 columns]"
      ]
     },
     "execution_count": 17,
     "metadata": {},
     "output_type": "execute_result"
    }
   ],
   "source": [
    "partido5"
   ]
  },
  {
   "cell_type": "code",
   "execution_count": 18,
   "metadata": {},
   "outputs": [],
   "source": [
    "partido5.to_csv('./Database/Tablas_de_dimension/Partidos.csv',index=False)"
   ]
  },
  {
   "cell_type": "markdown",
   "metadata": {},
   "source": [
    "<u>Localidades</u>"
   ]
  },
  {
   "cell_type": "markdown",
   "metadata": {},
   "source": [
    "Eliminamos los duplicados de la columna Localidades y los NaN"
   ]
  },
  {
   "cell_type": "code",
   "execution_count": 19,
   "metadata": {},
   "outputs": [],
   "source": [
    "localidad = df.drop_duplicates(subset=[\"Localidad\"])\n",
    "localidad = localidad.dropna()"
   ]
  },
  {
   "cell_type": "markdown",
   "metadata": {},
   "source": [
    "Hacemos las mismas correcciones que antes. Primero normalizamos el formato de las columnas Provincia y Partido"
   ]
  },
  {
   "cell_type": "code",
   "execution_count": 20,
   "metadata": {},
   "outputs": [],
   "source": [
    "localidad.loc[:, \"Partido\"]=df[\"Partido\"].apply(normalizacion_palabras)\n",
    "localidad.loc[:, \"Provincia\"]=df[\"Provincia\"].apply(normalizacion_palabras)\n",
    "localidad.loc[:, \"Localidad\"]=localidad[\"Localidad\"].apply(normalizacion_palabras)\n",
    "localidad[\"Localidad\"] = localidad[\"Localidad\"].replace(\"Ciudad Autonoma de Buenos Aires\", \"Caba\")\n",
    "localidad[\"Partido\"] = localidad[\"Partido\"].replace(\"Ciudad Autonoma de Buenos Aires\", \"Caba\")"
   ]
  },
  {
   "cell_type": "code",
   "execution_count": 21,
   "metadata": {},
   "outputs": [
    {
     "name": "stdout",
     "output_type": "stream",
     "text": [
      "<class 'pandas.core.frame.DataFrame'>\n",
      "Index: 2802 entries, 0 to 24908\n",
      "Data columns (total 3 columns):\n",
      " #   Column     Non-Null Count  Dtype \n",
      "---  ------     --------------  ----- \n",
      " 0   Provincia  2802 non-null   object\n",
      " 1   Partido    2802 non-null   object\n",
      " 2   Localidad  2802 non-null   object\n",
      "dtypes: object(3)\n",
      "memory usage: 87.6+ KB\n"
     ]
    }
   ],
   "source": [
    "localidad.info()"
   ]
  },
  {
   "cell_type": "code",
   "execution_count": 22,
   "metadata": {},
   "outputs": [
    {
     "name": "stdout",
     "output_type": "stream",
     "text": [
      "<class 'pandas.core.frame.DataFrame'>\n",
      "RangeIndex: 2793 entries, 0 to 2792\n",
      "Data columns (total 3 columns):\n",
      " #   Column     Non-Null Count  Dtype \n",
      "---  ------     --------------  ----- \n",
      " 0   Provincia  2793 non-null   object\n",
      " 1   Partido    2793 non-null   object\n",
      " 2   Localidad  2793 non-null   object\n",
      "dtypes: object(3)\n",
      "memory usage: 65.6+ KB\n"
     ]
    }
   ],
   "source": [
    "localidad = localidad.drop_duplicates(subset=[\"Localidad\"],ignore_index=True)\n",
    "localidad.info()"
   ]
  },
  {
   "cell_type": "markdown",
   "metadata": {},
   "source": [
    "Traemos los id de ambos y eliminamos las columnas"
   ]
  },
  {
   "cell_type": "code",
   "execution_count": 23,
   "metadata": {},
   "outputs": [],
   "source": [
    "localidad = localidad.merge(provincias[[\"Provincia\", \"Id_Provincia\"]], left_on=\"Provincia\", right_on=\"Provincia\", how=\"left\")\n",
    "localidad = localidad.merge(partido5[[\"Partido\", \"Id_Partido\"]], left_on=\"Partido\", right_on=\"Partido\", how=\"left\")\n",
    "localidad1 = localidad.drop(columns=[\"Provincia\",\"Partido\"])"
   ]
  },
  {
   "cell_type": "code",
   "execution_count": 24,
   "metadata": {},
   "outputs": [
    {
     "name": "stdout",
     "output_type": "stream",
     "text": [
      "<class 'pandas.core.frame.DataFrame'>\n",
      "RangeIndex: 2793 entries, 0 to 2792\n",
      "Data columns (total 3 columns):\n",
      " #   Column        Non-Null Count  Dtype \n",
      "---  ------        --------------  ----- \n",
      " 0   Localidad     2793 non-null   object\n",
      " 1   Id_Provincia  2793 non-null   int64 \n",
      " 2   Id_Partido    2793 non-null   int64 \n",
      "dtypes: int64(2), object(1)\n",
      "memory usage: 65.6+ KB\n"
     ]
    }
   ],
   "source": [
    "localidad1.info()"
   ]
  },
  {
   "cell_type": "markdown",
   "metadata": {},
   "source": [
    "Creamos la columna Id_Localidad"
   ]
  },
  {
   "cell_type": "code",
   "execution_count": 25,
   "metadata": {},
   "outputs": [],
   "source": [
    "localidad1[\"Id_Localidad\"]=[i for i in range(1,localidad1.shape[0]+1)]"
   ]
  },
  {
   "cell_type": "code",
   "execution_count": 26,
   "metadata": {},
   "outputs": [
    {
     "data": {
      "text/html": [
       "<div>\n",
       "<style scoped>\n",
       "    .dataframe tbody tr th:only-of-type {\n",
       "        vertical-align: middle;\n",
       "    }\n",
       "\n",
       "    .dataframe tbody tr th {\n",
       "        vertical-align: top;\n",
       "    }\n",
       "\n",
       "    .dataframe thead th {\n",
       "        text-align: right;\n",
       "    }\n",
       "</style>\n",
       "<table border=\"1\" class=\"dataframe\">\n",
       "  <thead>\n",
       "    <tr style=\"text-align: right;\">\n",
       "      <th></th>\n",
       "      <th>Localidad</th>\n",
       "      <th>Id_Provincia</th>\n",
       "      <th>Id_Partido</th>\n",
       "      <th>Id_Localidad</th>\n",
       "    </tr>\n",
       "  </thead>\n",
       "  <tbody>\n",
       "    <tr>\n",
       "      <th>0</th>\n",
       "      <td>25 de Mayo</td>\n",
       "      <td>2</td>\n",
       "      <td>1</td>\n",
       "      <td>1</td>\n",
       "    </tr>\n",
       "    <tr>\n",
       "      <th>1</th>\n",
       "      <td>Agustin Mosconi</td>\n",
       "      <td>2</td>\n",
       "      <td>1</td>\n",
       "      <td>2</td>\n",
       "    </tr>\n",
       "    <tr>\n",
       "      <th>2</th>\n",
       "      <td>Del Valle</td>\n",
       "      <td>2</td>\n",
       "      <td>1</td>\n",
       "      <td>3</td>\n",
       "    </tr>\n",
       "    <tr>\n",
       "      <th>3</th>\n",
       "      <td>Ernestina</td>\n",
       "      <td>2</td>\n",
       "      <td>1</td>\n",
       "      <td>4</td>\n",
       "    </tr>\n",
       "    <tr>\n",
       "      <th>4</th>\n",
       "      <td>Gobernador Ugarte</td>\n",
       "      <td>2</td>\n",
       "      <td>1</td>\n",
       "      <td>5</td>\n",
       "    </tr>\n",
       "    <tr>\n",
       "      <th>...</th>\n",
       "      <td>...</td>\n",
       "      <td>...</td>\n",
       "      <td>...</td>\n",
       "      <td>...</td>\n",
       "    </tr>\n",
       "    <tr>\n",
       "      <th>2788</th>\n",
       "      <td>Castro Barros</td>\n",
       "      <td>12</td>\n",
       "      <td>48</td>\n",
       "      <td>2789</td>\n",
       "    </tr>\n",
       "    <tr>\n",
       "      <th>2789</th>\n",
       "      <td>Suriyaco</td>\n",
       "      <td>12</td>\n",
       "      <td>297</td>\n",
       "      <td>2790</td>\n",
       "    </tr>\n",
       "    <tr>\n",
       "      <th>2790</th>\n",
       "      <td>Tuyubil</td>\n",
       "      <td>12</td>\n",
       "      <td>297</td>\n",
       "      <td>2791</td>\n",
       "    </tr>\n",
       "    <tr>\n",
       "      <th>2791</th>\n",
       "      <td>Jague</td>\n",
       "      <td>12</td>\n",
       "      <td>299</td>\n",
       "      <td>2792</td>\n",
       "    </tr>\n",
       "    <tr>\n",
       "      <th>2792</th>\n",
       "      <td>Villa el Salvador</td>\n",
       "      <td>18</td>\n",
       "      <td>362</td>\n",
       "      <td>2793</td>\n",
       "    </tr>\n",
       "  </tbody>\n",
       "</table>\n",
       "<p>2793 rows × 4 columns</p>\n",
       "</div>"
      ],
      "text/plain": [
       "              Localidad  Id_Provincia  Id_Partido  Id_Localidad\n",
       "0            25 de Mayo             2           1             1\n",
       "1       Agustin Mosconi             2           1             2\n",
       "2             Del Valle             2           1             3\n",
       "3             Ernestina             2           1             4\n",
       "4     Gobernador Ugarte             2           1             5\n",
       "...                 ...           ...         ...           ...\n",
       "2788      Castro Barros            12          48          2789\n",
       "2789           Suriyaco            12         297          2790\n",
       "2790            Tuyubil            12         297          2791\n",
       "2791              Jague            12         299          2792\n",
       "2792  Villa el Salvador            18         362          2793\n",
       "\n",
       "[2793 rows x 4 columns]"
      ]
     },
     "execution_count": 26,
     "metadata": {},
     "output_type": "execute_result"
    }
   ],
   "source": [
    "localidad1"
   ]
  },
  {
   "cell_type": "code",
   "execution_count": 58,
   "metadata": {},
   "outputs": [],
   "source": [
    "localidad1.to_csv('./Database/Tablas_de_dimension/Localidades.csv',index=False)"
   ]
  },
  {
   "cell_type": "markdown",
   "metadata": {},
   "source": [
    "<u>Años</u>"
   ]
  },
  {
   "cell_type": "code",
   "execution_count": 31,
   "metadata": {},
   "outputs": [],
   "source": [
    "anios={\"Año\":[i for i in range(2014,2025)]}"
   ]
  },
  {
   "cell_type": "code",
   "execution_count": 32,
   "metadata": {},
   "outputs": [],
   "source": [
    "anios_df=pd.DataFrame(anios)"
   ]
  },
  {
   "cell_type": "code",
   "execution_count": 33,
   "metadata": {},
   "outputs": [
    {
     "data": {
      "text/html": [
       "<div>\n",
       "<style scoped>\n",
       "    .dataframe tbody tr th:only-of-type {\n",
       "        vertical-align: middle;\n",
       "    }\n",
       "\n",
       "    .dataframe tbody tr th {\n",
       "        vertical-align: top;\n",
       "    }\n",
       "\n",
       "    .dataframe thead th {\n",
       "        text-align: right;\n",
       "    }\n",
       "</style>\n",
       "<table border=\"1\" class=\"dataframe\">\n",
       "  <thead>\n",
       "    <tr style=\"text-align: right;\">\n",
       "      <th></th>\n",
       "      <th>Año</th>\n",
       "    </tr>\n",
       "  </thead>\n",
       "  <tbody>\n",
       "    <tr>\n",
       "      <th>0</th>\n",
       "      <td>2014</td>\n",
       "    </tr>\n",
       "    <tr>\n",
       "      <th>1</th>\n",
       "      <td>2015</td>\n",
       "    </tr>\n",
       "    <tr>\n",
       "      <th>2</th>\n",
       "      <td>2016</td>\n",
       "    </tr>\n",
       "    <tr>\n",
       "      <th>3</th>\n",
       "      <td>2017</td>\n",
       "    </tr>\n",
       "    <tr>\n",
       "      <th>4</th>\n",
       "      <td>2018</td>\n",
       "    </tr>\n",
       "    <tr>\n",
       "      <th>5</th>\n",
       "      <td>2019</td>\n",
       "    </tr>\n",
       "    <tr>\n",
       "      <th>6</th>\n",
       "      <td>2020</td>\n",
       "    </tr>\n",
       "    <tr>\n",
       "      <th>7</th>\n",
       "      <td>2021</td>\n",
       "    </tr>\n",
       "    <tr>\n",
       "      <th>8</th>\n",
       "      <td>2022</td>\n",
       "    </tr>\n",
       "    <tr>\n",
       "      <th>9</th>\n",
       "      <td>2023</td>\n",
       "    </tr>\n",
       "    <tr>\n",
       "      <th>10</th>\n",
       "      <td>2024</td>\n",
       "    </tr>\n",
       "  </tbody>\n",
       "</table>\n",
       "</div>"
      ],
      "text/plain": [
       "     Año\n",
       "0   2014\n",
       "1   2015\n",
       "2   2016\n",
       "3   2017\n",
       "4   2018\n",
       "5   2019\n",
       "6   2020\n",
       "7   2021\n",
       "8   2022\n",
       "9   2023\n",
       "10  2024"
      ]
     },
     "execution_count": 33,
     "metadata": {},
     "output_type": "execute_result"
    }
   ],
   "source": [
    "anios_df"
   ]
  },
  {
   "cell_type": "code",
   "execution_count": 34,
   "metadata": {},
   "outputs": [],
   "source": [
    "anios_df.to_csv('./Database/Tablas_de_dimension/Años.csv',index=False)"
   ]
  },
  {
   "cell_type": "markdown",
   "metadata": {},
   "source": [
    "<u>Tecnologías</u>"
   ]
  },
  {
   "cell_type": "code",
   "execution_count": 47,
   "metadata": {},
   "outputs": [],
   "source": [
    "Accesos_tecnologia_localidad=pd.read_excel(\"./Database/internet.xlsx\", sheet_name=\"Accesos_tecnologia_localidad\")"
   ]
  },
  {
   "cell_type": "markdown",
   "metadata": {},
   "source": [
    "Creamos el dataframe"
   ]
  },
  {
   "cell_type": "code",
   "execution_count": 52,
   "metadata": {},
   "outputs": [
    {
     "name": "stdout",
     "output_type": "stream",
     "text": [
      "<class 'pandas.core.frame.DataFrame'>\n",
      "RangeIndex: 7753 entries, 0 to 7752\n",
      "Data columns (total 1 columns):\n",
      " #   Column      Non-Null Count  Dtype \n",
      "---  ------      --------------  ----- \n",
      " 0   Tecnologia  7753 non-null   object\n",
      "dtypes: object(1)\n",
      "memory usage: 60.7+ KB\n"
     ]
    }
   ],
   "source": [
    "tecnologia=pd.DataFrame(Accesos_tecnologia_localidad[\"Tecnologia\"])\n",
    "tecnologia.info()"
   ]
  },
  {
   "cell_type": "markdown",
   "metadata": {},
   "source": [
    "Normalizamos el formato del texto"
   ]
  },
  {
   "cell_type": "code",
   "execution_count": 53,
   "metadata": {},
   "outputs": [],
   "source": [
    "tecnologia.loc[:, \"Tecnologia\"]=tecnologia[\"Tecnologia\"].apply(normalizacion_palabras)"
   ]
  },
  {
   "cell_type": "markdown",
   "metadata": {},
   "source": [
    "Eliminamos los dulicados"
   ]
  },
  {
   "cell_type": "code",
   "execution_count": 54,
   "metadata": {},
   "outputs": [
    {
     "name": "stdout",
     "output_type": "stream",
     "text": [
      "<class 'pandas.core.frame.DataFrame'>\n",
      "RangeIndex: 8 entries, 0 to 7\n",
      "Data columns (total 1 columns):\n",
      " #   Column      Non-Null Count  Dtype \n",
      "---  ------      --------------  ----- \n",
      " 0   Tecnologia  8 non-null      object\n",
      "dtypes: object(1)\n",
      "memory usage: 196.0+ bytes\n"
     ]
    }
   ],
   "source": [
    "tecnologia = tecnologia.drop_duplicates(ignore_index=True)\n",
    "tecnologia.info()"
   ]
  },
  {
   "cell_type": "markdown",
   "metadata": {},
   "source": [
    "Creamos el Id_Tecnologia"
   ]
  },
  {
   "cell_type": "code",
   "execution_count": 55,
   "metadata": {},
   "outputs": [],
   "source": [
    "tecnologia[\"Id_Tecnologia\"]=[i for i in range(1,tecnologia.shape[0]+1)]"
   ]
  },
  {
   "cell_type": "code",
   "execution_count": 56,
   "metadata": {},
   "outputs": [
    {
     "data": {
      "text/html": [
       "<div>\n",
       "<style scoped>\n",
       "    .dataframe tbody tr th:only-of-type {\n",
       "        vertical-align: middle;\n",
       "    }\n",
       "\n",
       "    .dataframe tbody tr th {\n",
       "        vertical-align: top;\n",
       "    }\n",
       "\n",
       "    .dataframe thead th {\n",
       "        text-align: right;\n",
       "    }\n",
       "</style>\n",
       "<table border=\"1\" class=\"dataframe\">\n",
       "  <thead>\n",
       "    <tr style=\"text-align: right;\">\n",
       "      <th></th>\n",
       "      <th>Tecnologia</th>\n",
       "      <th>Id_Tecnologia</th>\n",
       "    </tr>\n",
       "  </thead>\n",
       "  <tbody>\n",
       "    <tr>\n",
       "      <th>0</th>\n",
       "      <td>Adsl</td>\n",
       "      <td>1</td>\n",
       "    </tr>\n",
       "    <tr>\n",
       "      <th>1</th>\n",
       "      <td>Cablemodem</td>\n",
       "      <td>2</td>\n",
       "    </tr>\n",
       "    <tr>\n",
       "      <th>2</th>\n",
       "      <td>Fibra Optica</td>\n",
       "      <td>3</td>\n",
       "    </tr>\n",
       "    <tr>\n",
       "      <th>3</th>\n",
       "      <td>Satelital</td>\n",
       "      <td>4</td>\n",
       "    </tr>\n",
       "    <tr>\n",
       "      <th>4</th>\n",
       "      <td>Wireless</td>\n",
       "      <td>5</td>\n",
       "    </tr>\n",
       "    <tr>\n",
       "      <th>5</th>\n",
       "      <td>Otros</td>\n",
       "      <td>6</td>\n",
       "    </tr>\n",
       "    <tr>\n",
       "      <th>6</th>\n",
       "      <td>Dial Up</td>\n",
       "      <td>7</td>\n",
       "    </tr>\n",
       "    <tr>\n",
       "      <th>7</th>\n",
       "      <td>Wimax</td>\n",
       "      <td>8</td>\n",
       "    </tr>\n",
       "  </tbody>\n",
       "</table>\n",
       "</div>"
      ],
      "text/plain": [
       "     Tecnologia  Id_Tecnologia\n",
       "0          Adsl              1\n",
       "1    Cablemodem              2\n",
       "2  Fibra Optica              3\n",
       "3     Satelital              4\n",
       "4      Wireless              5\n",
       "5         Otros              6\n",
       "6       Dial Up              7\n",
       "7         Wimax              8"
      ]
     },
     "execution_count": 56,
     "metadata": {},
     "output_type": "execute_result"
    }
   ],
   "source": [
    "tecnologia"
   ]
  },
  {
   "cell_type": "code",
   "execution_count": 57,
   "metadata": {},
   "outputs": [],
   "source": [
    "tecnologia.to_csv('./Database/Tablas_de_dimension/Tecnologias.csv',index=False)"
   ]
  }
 ],
 "metadata": {
  "kernelspec": {
   "display_name": "ENTORNO_VIRTUAL",
   "language": "python",
   "name": "python3"
  },
  "language_info": {
   "codemirror_mode": {
    "name": "ipython",
    "version": 3
   },
   "file_extension": ".py",
   "mimetype": "text/x-python",
   "name": "python",
   "nbconvert_exporter": "python",
   "pygments_lexer": "ipython3",
   "version": "3.11.9"
  }
 },
 "nbformat": 4,
 "nbformat_minor": 2
}
