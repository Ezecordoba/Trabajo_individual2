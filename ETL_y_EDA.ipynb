{
 "cells": [
  {
   "cell_type": "markdown",
   "metadata": {},
   "source": [
    "# PROCESAMIENTO DE LOS DATOS DEL DATASET"
   ]
  },
  {
   "cell_type": "code",
   "execution_count": 1,
   "metadata": {},
   "outputs": [],
   "source": [
    "import pandas as pd\n",
    "import numpy as np\n",
    "import ast\n",
    "import matplotlib.pyplot as plt\n",
    "import seaborn as sns\n",
    "import unidecode"
   ]
  },
  {
   "cell_type": "markdown",
   "metadata": {},
   "source": [
    "Importamos las columnas con Id's"
   ]
  },
  {
   "cell_type": "code",
   "execution_count": 2,
   "metadata": {},
   "outputs": [],
   "source": [
    "provincias=pd.read_csv('./Database/Tablas_de_dimension/Provincias.csv',delimiter = ',',encoding = \"utf-8\")\n",
    "partidos=pd.read_csv('./Database/Tablas_de_dimension/Partidos.csv',delimiter = ',',encoding = \"utf-8\")\n",
    "localidades=pd.read_csv('./Database/Tablas_de_dimension/Localidades.csv',delimiter = ',',encoding = \"utf-8\")\n",
    "tecnologias=pd.read_csv('./Database/Tablas_de_dimension/Tecnologias.csv',delimiter = ',',encoding = \"utf-8\")"
   ]
  },
  {
   "cell_type": "code",
   "execution_count": 3,
   "metadata": {},
   "outputs": [],
   "source": [
    "def normalizacion_palabras(palabra_corregir):\n",
    "    '''Saca las mayusculas y las tildes de una palabrade las palabras y pone la primera letra de cada palabra en mayúscula \n",
    "    (exceptuando las las palabras que conectan otras palabras como la, el, de, etc).'''\n",
    "    excepciones = [\"la\", \"el\", \"de\", \"y\", \"del\", \"los\", \"las\", \"en\", \"al\", \"por\", \"con\", \"a\", \"para\"]\n",
    "    # Convertimos la palabra a minúsculas para empezar desde una base común\n",
    "    palabras = palabra_corregir.lower().split()\n",
    "    \n",
    "    # Corregimos las palabras y quitamos las tildes\n",
    "    palabras_corregidas = []\n",
    "    for i, palabra in enumerate(palabras):\n",
    "        # Si la palabra está en la lista de excepciones, no la capitalizamos (a menos que sea la primera)\n",
    "        if palabra in excepciones and i != 0:\n",
    "            palabras_corregidas.append(palabra)\n",
    "        else:\n",
    "            # Capitalizamos la palabra\n",
    "            palabra_corregida = palabra.capitalize()\n",
    "            # Quitamos las tildes\n",
    "            palabra_corregida = unidecode.unidecode(palabra_corregida)\n",
    "            palabras_corregidas.append(palabra_corregida)\n",
    "    \n",
    "    # Volver a juntar las palabras\n",
    "    palabras_corregidas = ' '.join(palabras_corregidas)\n",
    "    \n",
    "    return palabras_corregidas"
   ]
  },
  {
   "cell_type": "markdown",
   "metadata": {},
   "source": [
    "Creamos los dataframes"
   ]
  },
  {
   "cell_type": "code",
   "execution_count": 4,
   "metadata": {},
   "outputs": [],
   "source": [
    "acc_tec = pd.read_excel(\"./Database/internet.xlsx\", sheet_name=\"Accesos Por Tecnología\")\n",
    "pen_pobl = pd.read_excel(\"./Database/internet.xlsx\", sheet_name=\"Penetración-poblacion\")\n",
    "pen_hog = pd.read_excel(\"./Database/internet.xlsx\", sheet_name=\"Penetracion-hogares\")\n",
    "pen_total = pd.read_excel(\"./Database/internet.xlsx\", sheet_name=\"Penetracion-totales\")\n",
    "acc_total_rang = pd.read_excel(\"./Database/internet.xlsx\", sheet_name=\"Totales Accesos por rango\")\n",
    "acc_rang = pd.read_excel(\"./Database/internet.xlsx\", sheet_name=\"Accesos por rangos\")\n",
    "dial_baf_tot = pd.read_excel(\"./Database/internet.xlsx\", sheet_name=\"Totales Dial-BAf\")\n",
    "dial_baf = pd.read_excel(\"./Database/internet.xlsx\", sheet_name=\"Dial-BAf\")\n",
    "Ingresos  = pd.read_excel(\"./Database/internet.xlsx\", sheet_name=\"Ingresos \")\n",
    "acc_vel_sinrang = pd.read_excel(\"./Database/internet.xlsx\", sheet_name=\"Acc_vel_loc_sinrangos\")\n",
    "vel_sinrang = pd.read_excel(\"./Database/internet.xlsx\", sheet_name=\"Velocidad_sin_Rangos\")\n",
    "Acc_tec_loc = pd.read_excel(\"./Database/internet.xlsx\", sheet_name=\"Accesos_tecnologia_localidad\") \n",
    "vel_prov = pd.read_excel(\"./Database/internet.xlsx\", sheet_name=\"Velocidad % por prov\") \n",
    "vmd_tot = pd.read_excel(\"./Database/internet.xlsx\", sheet_name=\"Totales VMD\")\n",
    "acc_total_tec = pd.read_excel(\"./Database/internet.xlsx\", sheet_name=\"Totales Accesos Por Tecnología\")\n",
    "Ingresos_tel_fij = pd.read_excel(\"./Database/Complementarios/telefonia_fija.xlsx\", sheet_name=\"Fija_ingresos\")\n",
    "Ingresos_tel_mov = pd.read_excel(\"./Database/Complementarios/telefonia_movil.xlsx\", sheet_name=\"Ingresos\")"
   ]
  },
  {
   "cell_type": "markdown",
   "metadata": {},
   "source": [
    "<u>ACC_VEL_LOC_SINRANGOS</u>"
   ]
  },
  {
   "cell_type": "markdown",
   "metadata": {},
   "source": [
    "El dataset \"Acc_vel_loc_sinrangos\" tiene las columnas con nombres incorrectos. hacemos el cambio:\n",
    "- partido --> provincia\n",
    "- localidad --> partido\n",
    "- link indec --> localidad\n",
    "- velocidad --> link indec\n",
    "- provincia --> velocidad\n",
    "- acceso --> acceso (esta no se cambia)"
   ]
  },
  {
   "cell_type": "code",
   "execution_count": 5,
   "metadata": {},
   "outputs": [
    {
     "data": {
      "text/html": [
       "<div>\n",
       "<style scoped>\n",
       "    .dataframe tbody tr th:only-of-type {\n",
       "        vertical-align: middle;\n",
       "    }\n",
       "\n",
       "    .dataframe tbody tr th {\n",
       "        vertical-align: top;\n",
       "    }\n",
       "\n",
       "    .dataframe thead th {\n",
       "        text-align: right;\n",
       "    }\n",
       "</style>\n",
       "<table border=\"1\" class=\"dataframe\">\n",
       "  <thead>\n",
       "    <tr style=\"text-align: right;\">\n",
       "      <th></th>\n",
       "      <th>Partido</th>\n",
       "      <th>Localidad</th>\n",
       "      <th>link Indec</th>\n",
       "      <th>Velocidad (Mbps)</th>\n",
       "      <th>Provincia</th>\n",
       "      <th>Accesos</th>\n",
       "    </tr>\n",
       "  </thead>\n",
       "  <tbody>\n",
       "    <tr>\n",
       "      <th>0</th>\n",
       "      <td>BUENOS AIRES</td>\n",
       "      <td>25 de Mayo</td>\n",
       "      <td>25 de Mayo</td>\n",
       "      <td>6854100</td>\n",
       "      <td>0.00</td>\n",
       "      <td>1.0</td>\n",
       "    </tr>\n",
       "    <tr>\n",
       "      <th>1</th>\n",
       "      <td>BUENOS AIRES</td>\n",
       "      <td>25 de Mayo</td>\n",
       "      <td>25 de Mayo</td>\n",
       "      <td>6854100</td>\n",
       "      <td>0.50</td>\n",
       "      <td>2.0</td>\n",
       "    </tr>\n",
       "    <tr>\n",
       "      <th>2</th>\n",
       "      <td>BUENOS AIRES</td>\n",
       "      <td>25 de Mayo</td>\n",
       "      <td>25 de Mayo</td>\n",
       "      <td>6854100</td>\n",
       "      <td>0.75</td>\n",
       "      <td>19.0</td>\n",
       "    </tr>\n",
       "    <tr>\n",
       "      <th>3</th>\n",
       "      <td>BUENOS AIRES</td>\n",
       "      <td>25 de Mayo</td>\n",
       "      <td>25 de Mayo</td>\n",
       "      <td>6854100</td>\n",
       "      <td>3.00</td>\n",
       "      <td>85.0</td>\n",
       "    </tr>\n",
       "    <tr>\n",
       "      <th>4</th>\n",
       "      <td>BUENOS AIRES</td>\n",
       "      <td>25 de Mayo</td>\n",
       "      <td>25 de Mayo</td>\n",
       "      <td>6854100</td>\n",
       "      <td>3.50</td>\n",
       "      <td>145.0</td>\n",
       "    </tr>\n",
       "  </tbody>\n",
       "</table>\n",
       "</div>"
      ],
      "text/plain": [
       "        Partido   Localidad  link Indec Velocidad (Mbps)  Provincia  Accesos\n",
       "0  BUENOS AIRES  25 de Mayo  25 de Mayo          6854100       0.00      1.0\n",
       "1  BUENOS AIRES  25 de Mayo  25 de Mayo          6854100       0.50      2.0\n",
       "2  BUENOS AIRES  25 de Mayo  25 de Mayo          6854100       0.75     19.0\n",
       "3  BUENOS AIRES  25 de Mayo  25 de Mayo          6854100       3.00     85.0\n",
       "4  BUENOS AIRES  25 de Mayo  25 de Mayo          6854100       3.50    145.0"
      ]
     },
     "execution_count": 5,
     "metadata": {},
     "output_type": "execute_result"
    }
   ],
   "source": [
    "acc_vel_sinrang1=acc_vel_sinrang.copy()\n",
    "acc_vel_sinrang1.head()"
   ]
  },
  {
   "cell_type": "code",
   "execution_count": 6,
   "metadata": {},
   "outputs": [
    {
     "data": {
      "text/html": [
       "<div>\n",
       "<style scoped>\n",
       "    .dataframe tbody tr th:only-of-type {\n",
       "        vertical-align: middle;\n",
       "    }\n",
       "\n",
       "    .dataframe tbody tr th {\n",
       "        vertical-align: top;\n",
       "    }\n",
       "\n",
       "    .dataframe thead th {\n",
       "        text-align: right;\n",
       "    }\n",
       "</style>\n",
       "<table border=\"1\" class=\"dataframe\">\n",
       "  <thead>\n",
       "    <tr style=\"text-align: right;\">\n",
       "      <th></th>\n",
       "      <th>Provincia</th>\n",
       "      <th>Partido</th>\n",
       "      <th>Localidad</th>\n",
       "      <th>link Indec</th>\n",
       "      <th>Velocidad (Mbps)</th>\n",
       "      <th>Accesos</th>\n",
       "    </tr>\n",
       "  </thead>\n",
       "  <tbody>\n",
       "    <tr>\n",
       "      <th>0</th>\n",
       "      <td>BUENOS AIRES</td>\n",
       "      <td>25 de Mayo</td>\n",
       "      <td>25 de Mayo</td>\n",
       "      <td>6854100</td>\n",
       "      <td>0.00</td>\n",
       "      <td>1.0</td>\n",
       "    </tr>\n",
       "    <tr>\n",
       "      <th>1</th>\n",
       "      <td>BUENOS AIRES</td>\n",
       "      <td>25 de Mayo</td>\n",
       "      <td>25 de Mayo</td>\n",
       "      <td>6854100</td>\n",
       "      <td>0.50</td>\n",
       "      <td>2.0</td>\n",
       "    </tr>\n",
       "    <tr>\n",
       "      <th>2</th>\n",
       "      <td>BUENOS AIRES</td>\n",
       "      <td>25 de Mayo</td>\n",
       "      <td>25 de Mayo</td>\n",
       "      <td>6854100</td>\n",
       "      <td>0.75</td>\n",
       "      <td>19.0</td>\n",
       "    </tr>\n",
       "    <tr>\n",
       "      <th>3</th>\n",
       "      <td>BUENOS AIRES</td>\n",
       "      <td>25 de Mayo</td>\n",
       "      <td>25 de Mayo</td>\n",
       "      <td>6854100</td>\n",
       "      <td>3.00</td>\n",
       "      <td>85.0</td>\n",
       "    </tr>\n",
       "    <tr>\n",
       "      <th>4</th>\n",
       "      <td>BUENOS AIRES</td>\n",
       "      <td>25 de Mayo</td>\n",
       "      <td>25 de Mayo</td>\n",
       "      <td>6854100</td>\n",
       "      <td>3.50</td>\n",
       "      <td>145.0</td>\n",
       "    </tr>\n",
       "    <tr>\n",
       "      <th>...</th>\n",
       "      <td>...</td>\n",
       "      <td>...</td>\n",
       "      <td>...</td>\n",
       "      <td>...</td>\n",
       "      <td>...</td>\n",
       "      <td>...</td>\n",
       "    </tr>\n",
       "    <tr>\n",
       "      <th>18859</th>\n",
       "      <td>TUCUMAN</td>\n",
       "      <td>Yerba Buena</td>\n",
       "      <td>Yerba Buena - Marcos Paz</td>\n",
       "      <td>90119030</td>\n",
       "      <td>100.00</td>\n",
       "      <td>5779.0</td>\n",
       "    </tr>\n",
       "    <tr>\n",
       "      <th>18860</th>\n",
       "      <td>TUCUMAN</td>\n",
       "      <td>Yerba Buena</td>\n",
       "      <td>Yerba Buena - Marcos Paz</td>\n",
       "      <td>90119030</td>\n",
       "      <td>300.00</td>\n",
       "      <td>4570.0</td>\n",
       "    </tr>\n",
       "    <tr>\n",
       "      <th>18861</th>\n",
       "      <td>TUCUMAN</td>\n",
       "      <td>Yerba Buena</td>\n",
       "      <td>Yerba Buena - Marcos Paz</td>\n",
       "      <td>90119030</td>\n",
       "      <td>500.00</td>\n",
       "      <td>442.0</td>\n",
       "    </tr>\n",
       "    <tr>\n",
       "      <th>18862</th>\n",
       "      <td>TUCUMAN</td>\n",
       "      <td>Yerba Buena</td>\n",
       "      <td>Yerba Buena - Marcos Paz</td>\n",
       "      <td>90119030</td>\n",
       "      <td>600.00</td>\n",
       "      <td>223.0</td>\n",
       "    </tr>\n",
       "    <tr>\n",
       "      <th>18863</th>\n",
       "      <td>TUCUMAN</td>\n",
       "      <td>Yerba Buena</td>\n",
       "      <td>Yerba Buena - Marcos Paz</td>\n",
       "      <td>90119030</td>\n",
       "      <td>1000.00</td>\n",
       "      <td>36.0</td>\n",
       "    </tr>\n",
       "  </tbody>\n",
       "</table>\n",
       "<p>18864 rows × 6 columns</p>\n",
       "</div>"
      ],
      "text/plain": [
       "          Provincia      Partido                 Localidad link Indec  \\\n",
       "0      BUENOS AIRES   25 de Mayo                25 de Mayo    6854100   \n",
       "1      BUENOS AIRES   25 de Mayo                25 de Mayo    6854100   \n",
       "2      BUENOS AIRES   25 de Mayo                25 de Mayo    6854100   \n",
       "3      BUENOS AIRES   25 de Mayo                25 de Mayo    6854100   \n",
       "4      BUENOS AIRES   25 de Mayo                25 de Mayo    6854100   \n",
       "...             ...          ...                       ...        ...   \n",
       "18859       TUCUMAN  Yerba Buena  Yerba Buena - Marcos Paz   90119030   \n",
       "18860       TUCUMAN  Yerba Buena  Yerba Buena - Marcos Paz   90119030   \n",
       "18861       TUCUMAN  Yerba Buena  Yerba Buena - Marcos Paz   90119030   \n",
       "18862       TUCUMAN  Yerba Buena  Yerba Buena - Marcos Paz   90119030   \n",
       "18863       TUCUMAN  Yerba Buena  Yerba Buena - Marcos Paz   90119030   \n",
       "\n",
       "       Velocidad (Mbps)  Accesos  \n",
       "0                  0.00      1.0  \n",
       "1                  0.50      2.0  \n",
       "2                  0.75     19.0  \n",
       "3                  3.00     85.0  \n",
       "4                  3.50    145.0  \n",
       "...                 ...      ...  \n",
       "18859            100.00   5779.0  \n",
       "18860            300.00   4570.0  \n",
       "18861            500.00    442.0  \n",
       "18862            600.00    223.0  \n",
       "18863           1000.00     36.0  \n",
       "\n",
       "[18864 rows x 6 columns]"
      ]
     },
     "execution_count": 6,
     "metadata": {},
     "output_type": "execute_result"
    }
   ],
   "source": [
    "acc_vel_sinrang1=acc_vel_sinrang1.rename(columns={\"Partido\":\"provincia\",\n",
    "                                                 \"Localidad\":\"partido\",\n",
    "                                                 \"link Indec\":\"localidad\",\n",
    "                                                 \"Velocidad (Mbps)\":\"link Indec\",\n",
    "                                                 \"Provincia\":\"velocidad\"})\n",
    "\n",
    "acc_vel_sinrang1=acc_vel_sinrang1.rename(columns={\"provincia\":\"Provincia\",\n",
    "                                                 \"partido\":\"Partido\",\n",
    "                                                 \"localidad\":\"Localidad\",\n",
    "                                                 \"velocidad\":\"Velocidad (Mbps)\"})\n",
    "acc_vel_sinrang1"
   ]
  },
  {
   "cell_type": "markdown",
   "metadata": {},
   "source": [
    "Ahora veamos el dataset en general"
   ]
  },
  {
   "cell_type": "code",
   "execution_count": 7,
   "metadata": {},
   "outputs": [
    {
     "name": "stdout",
     "output_type": "stream",
     "text": [
      "<class 'pandas.core.frame.DataFrame'>\n",
      "RangeIndex: 18864 entries, 0 to 18863\n",
      "Data columns (total 6 columns):\n",
      " #   Column            Non-Null Count  Dtype  \n",
      "---  ------            --------------  -----  \n",
      " 0   Provincia         18864 non-null  object \n",
      " 1   Partido           18864 non-null  object \n",
      " 2   Localidad         18863 non-null  object \n",
      " 3   link Indec        18864 non-null  object \n",
      " 4   Velocidad (Mbps)  18864 non-null  float64\n",
      " 5   Accesos           18857 non-null  float64\n",
      "dtypes: float64(2), object(4)\n",
      "memory usage: 884.4+ KB\n"
     ]
    }
   ],
   "source": [
    "acc_vel_sinrang1.info()"
   ]
  },
  {
   "cell_type": "markdown",
   "metadata": {},
   "source": [
    "La columna \"link indec\" no tiene informacion reelevante, ya que es un link de internet asociado a una localidad. Por lo que se lo eliminará "
   ]
  },
  {
   "cell_type": "code",
   "execution_count": 8,
   "metadata": {},
   "outputs": [],
   "source": [
    "acc_vel_sinrang2=acc_vel_sinrang1.drop(columns=\"link Indec\")"
   ]
  },
  {
   "cell_type": "markdown",
   "metadata": {},
   "source": [
    "Convertimos la columnas que no tienen str's al tipo que deberían ser"
   ]
  },
  {
   "cell_type": "code",
   "execution_count": 9,
   "metadata": {},
   "outputs": [],
   "source": [
    "acc_vel_sinrang2[\"Accesos\"]=acc_vel_sinrang2[\"Accesos\"].apply(lambda x: ast.literal_eval(x) if isinstance(x, str) else x)\n",
    "acc_vel_sinrang2[\"Velocidad (Mbps)\"]=acc_vel_sinrang2[\"Velocidad (Mbps)\"].apply(lambda x: ast.literal_eval(x) if isinstance(x, str) else x)"
   ]
  },
  {
   "cell_type": "markdown",
   "metadata": {},
   "source": [
    "Veamo que pasa con los valores vacíos de las distintas columnas. Primero analicemos la columna Acceso:"
   ]
  },
  {
   "cell_type": "code",
   "execution_count": 10,
   "metadata": {},
   "outputs": [
    {
     "name": "stdout",
     "output_type": "stream",
     "text": [
      "                 Provincia     Partido         Localidad  Velocidad (Mbps)  \\\n",
      "10510           CORRIENTES   Ituzaingó  Colonia Liebig's               0.0   \n",
      "11288           ENTRE RIOS        Tala  Rosario del Tala               0.0   \n",
      "14784                SALTA    Cafayate          Tolombón               0.0   \n",
      "15288                SALTA  San Carlos           Animaná               0.0   \n",
      "15294                SALTA  San Carlos        San Carlos               0.0   \n",
      "17235             SANTA FE     Rosario     General Lagos               0.0   \n",
      "18090  SANTIAGO DEL ESTERO       Choya             Frías               0.0   \n",
      "\n",
      "       Accesos  \n",
      "10510      NaN  \n",
      "11288      NaN  \n",
      "14784      NaN  \n",
      "15288      NaN  \n",
      "15294      NaN  \n",
      "17235      NaN  \n",
      "18090      NaN  \n"
     ]
    }
   ],
   "source": [
    "nan = acc_vel_sinrang2[acc_vel_sinrang2['Accesos'].isna()]\n",
    "print(nan)"
   ]
  },
  {
   "cell_type": "markdown",
   "metadata": {},
   "source": [
    "Vemos que los valores NaN de esta columna estan asociados a unos valores 0.0 en la velocidad, pero hay mas velores asi en la velocidad que tienen accesos no nulos. Por lo que los reemplazaremos los NaN de Accesos por ceros."
   ]
  },
  {
   "cell_type": "code",
   "execution_count": 11,
   "metadata": {},
   "outputs": [],
   "source": [
    "acc_vel_sinrang2[\"Accesos\"]=acc_vel_sinrang2[\"Accesos\"].fillna(0.0)"
   ]
  },
  {
   "cell_type": "markdown",
   "metadata": {},
   "source": [
    "Veamos ahora que pasa con el NaN de la columna Localidad"
   ]
  },
  {
   "cell_type": "code",
   "execution_count": 12,
   "metadata": {},
   "outputs": [
    {
     "name": "stdout",
     "output_type": "stream",
     "text": [
      "     Provincia                          Partido Localidad  Velocidad (Mbps)  \\\n",
      "7172      CABA  Ciudad Autónoma de Buenos Aires       NaN             300.0   \n",
      "\n",
      "      Accesos  \n",
      "7172  -5582.0  \n"
     ]
    }
   ],
   "source": [
    "nan = acc_vel_sinrang2[acc_vel_sinrang2['Localidad'].isna()]\n",
    "print(nan)"
   ]
  },
  {
   "cell_type": "markdown",
   "metadata": {},
   "source": [
    "Para la Provincia CABA, tanto el partido, como la localidad son \"Ciudad Autónoma de Buenos Aires\". Eso nos lleva a pensar que este valor NaN es un error y debería tener el valor \"Ciudad Autónoma de Buenos Aires\"."
   ]
  },
  {
   "cell_type": "code",
   "execution_count": 13,
   "metadata": {},
   "outputs": [],
   "source": [
    "acc_vel_sinrang2[\"Localidad\"]=acc_vel_sinrang2[\"Localidad\"].fillna(\"Ciudad Autónoma de Buenos Aires\")"
   ]
  },
  {
   "cell_type": "markdown",
   "metadata": {},
   "source": [
    "Veamos que pasa con los valores de velocidad=0"
   ]
  },
  {
   "cell_type": "code",
   "execution_count": 14,
   "metadata": {},
   "outputs": [
    {
     "data": {
      "image/png": "[encoded data removed]",
      "text/plain": [
       "<Figure size 1000x600 with 1 Axes>"
      ]
     },
     "metadata": {},
     "output_type": "display_data"
    }
   ],
   "source": [
    "# Filtrar las filas donde la columna 'Velocidad (Mbps)' es igual a 0.0\n",
    "df_zero_speed = acc_vel_sinrang2[acc_vel_sinrang2['Velocidad (Mbps)'] == 0.0]\n",
    "#df_zero_speed = df_zero_speed[df_zero_speed['Accesos'] >1000]\n",
    "# Crear un histograma con la columna 'Accesos' en el eje X\n",
    "plt.figure(figsize=(10, 6))\n",
    "plt.hist(df_zero_speed['Accesos'], bins=20, color='skyblue', edgecolor='black')\n",
    "plt.title('Histograma de Accesos para filas con Velocidad = 0.0 Mbps')\n",
    "plt.xlabel('Accesos')\n",
    "plt.ylabel('Número de filas')\n",
    "plt.grid(True)\n",
    "plt.show()"
   ]
  },
  {
   "cell_type": "code",
   "execution_count": 15,
   "metadata": {},
   "outputs": [
    {
     "name": "stdout",
     "output_type": "stream",
     "text": [
      "              Provincia Partido Localidad  Velocidad (Mbps)  Accesos\n",
      "7226               CABA   Otros     Otros               0.0   -590.0\n",
      "7340          CATAMARCA   Otros     Otros               0.0      4.0\n",
      "8042             CHUBUT   Otros     Otros               0.0    820.0\n",
      "8937            CORDOBA   Otros     Otros               0.0    480.0\n",
      "10597        CORRIENTES   Otros     Otros               0.0   -830.0\n",
      "11093        ENTRE RIOS   Otros     Otros               0.0   7251.0\n",
      "11536           FORMOSA   Otros     Otros               0.0     36.0\n",
      "11861             JUJUY   Otros     Otros               0.0   1374.0\n",
      "12699          LA RIOJA   Otros     Otros               0.0     -1.0\n",
      "13166           MENDOZA   Otros     Otros               0.0   1709.0\n",
      "14148           NEUQUEN   Otros     Otros               0.0   8221.0\n",
      "14607         RIO NEGRO   Otros     Otros               0.0    408.0\n",
      "15192             SALTA   Otros     Otros               0.0    185.0\n",
      "15497          SAN JUAN   Otros     Otros               0.0   5617.0\n",
      "15874          SAN LUIS   Otros     Otros               0.0   5963.0\n",
      "17139          SANTA FE   Otros     Otros               0.0  10553.0\n",
      "18424  TIERRA DEL FUEGO   Otros     Otros               0.0      4.0\n",
      "18750           TUCUMAN   Otros     Otros               0.0    134.0\n"
     ]
    }
   ],
   "source": [
    "otros = acc_vel_sinrang2[acc_vel_sinrang2['Partido']==\"Otros\"]\n",
    "print(otros)"
   ]
  },
  {
   "cell_type": "markdown",
   "metadata": {},
   "source": [
    "Como podemos ver, las filas con velocidad=0 abarcar un rango muy amplio de números de Accesos, asi que, lo mas probable, es que esos valores 0 seas una forma de simbolizar la falta de información en la velocidad. Esto también explicaría el por qué todas las filas con Partido y Localidad con entrada \"Otros\", tienen velocidad 0."
   ]
  },
  {
   "cell_type": "markdown",
   "metadata": {},
   "source": [
    "También hay valores negativos en la columna Accesos"
   ]
  },
  {
   "cell_type": "code",
   "execution_count": 16,
   "metadata": {},
   "outputs": [
    {
     "name": "stdout",
     "output_type": "stream",
     "text": [
      "        Provincia                          Partido  \\\n",
      "7172         CABA  Ciudad Autónoma de Buenos Aires   \n",
      "7226         CABA                            Otros   \n",
      "10597  CORRIENTES                            Otros   \n",
      "12699    LA RIOJA                            Otros   \n",
      "\n",
      "                             Localidad  Velocidad (Mbps)  Accesos  \n",
      "7172   Ciudad Autónoma de Buenos Aires             300.0  -5582.0  \n",
      "7226                             Otros               0.0   -590.0  \n",
      "10597                            Otros               0.0   -830.0  \n",
      "12699                            Otros               0.0     -1.0  \n"
     ]
    }
   ],
   "source": [
    "neg = acc_vel_sinrang2[acc_vel_sinrang2['Accesos']<0]\n",
    "print(neg)"
   ]
  },
  {
   "cell_type": "markdown",
   "metadata": {},
   "source": [
    "El hecho de que el número de entradas con Accesos negativos sean tan pocos hace pensar en que pueden ser un error en el ingreso de datos. Por lo que se los cambiará de signo."
   ]
  },
  {
   "cell_type": "code",
   "execution_count": 17,
   "metadata": {},
   "outputs": [],
   "source": [
    "acc_vel_sinrang2.loc[acc_vel_sinrang2['Accesos'] < 0, 'Accesos'] = acc_vel_sinrang2['Accesos'].abs()"
   ]
  },
  {
   "cell_type": "markdown",
   "metadata": {},
   "source": [
    "Ahora normalizamos el texto de las columnas Provinvia, Partido y Localidad"
   ]
  },
  {
   "cell_type": "code",
   "execution_count": 18,
   "metadata": {},
   "outputs": [],
   "source": [
    "acc_vel_sinrang2.loc[:, \"Partido\"]=acc_vel_sinrang2[\"Partido\"].apply(normalizacion_palabras)\n",
    "acc_vel_sinrang2.loc[:, \"Provincia\"]=acc_vel_sinrang2[\"Provincia\"].apply(normalizacion_palabras)\n",
    "acc_vel_sinrang2.loc[:, \"Localidad\"]=acc_vel_sinrang2[\"Localidad\"].apply(normalizacion_palabras)"
   ]
  },
  {
   "cell_type": "code",
   "execution_count": 19,
   "metadata": {},
   "outputs": [],
   "source": [
    "acc_vel_sinrang2[\"Localidad\"] = acc_vel_sinrang2[\"Localidad\"].replace(\"Ciudad Autonoma de Buenos Aires\", \"Caba\")\n",
    "acc_vel_sinrang2[\"Partido\"] = acc_vel_sinrang2[\"Partido\"].replace(\"Ciudad Autonoma de Buenos Aires\", \"Caba\")\n",
    "acc_vel_sinrang2[\"Provincia\"] = acc_vel_sinrang2[\"Provincia\"].replace(\"Ciudad Autonoma de Buenos Aires\", \"Caba\")"
   ]
  },
  {
   "cell_type": "markdown",
   "metadata": {},
   "source": [
    "Veamos la distribucion de la columna Acceso para velocidades distintas de cero"
   ]
  },
  {
   "cell_type": "code",
   "execution_count": 20,
   "metadata": {},
   "outputs": [
    {
     "data": {
      "image/png": "[encoded data removed]",
      "text/plain": [
       "<Figure size 1000x800 with 3 Axes>"
      ]
     },
     "metadata": {},
     "output_type": "display_data"
    },
    {
     "name": "stdout",
     "output_type": "stream",
     "text": [
      "          Provincia             Partido                             Localidad  \\\n",
      "633    Buenos Aires        Bahia Blanca                          Bahia Blanca   \n",
      "2433   Buenos Aires  General Pueyrredon                         Mar del Plata   \n",
      "2435   Buenos Aires  General Pueyrredon                         Mar del Plata   \n",
      "2437   Buenos Aires  General Pueyrredon                         Mar del Plata   \n",
      "3657   Buenos Aires            La Plata                              La Plata   \n",
      "3662   Buenos Aires            La Plata                              La Plata   \n",
      "7196           Caba                Caba                                  Caba   \n",
      "7199           Caba                Caba                                  Caba   \n",
      "7206           Caba                Caba                                  Caba   \n",
      "7210           Caba                Caba                                  Caba   \n",
      "7217           Caba                Caba                                  Caba   \n",
      "7220           Caba                Caba                                  Caba   \n",
      "7225           Caba                Caba                                  Caba   \n",
      "8287        Cordoba             Capital                               Cordoba   \n",
      "8290        Cordoba             Capital                               Cordoba   \n",
      "8294        Cordoba             Capital                               Cordoba   \n",
      "12767       Mendoza             Capital                               Mendoza   \n",
      "17322      Santa Fe             Rosario                               Rosario   \n",
      "17328      Santa Fe             Rosario                               Rosario   \n",
      "17329      Santa Fe             Rosario                               Rosario   \n",
      "17331      Santa Fe             Rosario                               Rosario   \n",
      "18524       Tucuman             Capital  San Miguel de Tucuman (est. Tucuman)   \n",
      "18527       Tucuman             Capital  San Miguel de Tucuman (est. Tucuman)   \n",
      "\n",
      "       Velocidad (Mbps)   Accesos  \n",
      "633               100.0   63075.0  \n",
      "2433               50.0   67627.0  \n",
      "2435              100.0   84600.0  \n",
      "2437              300.0   51094.0  \n",
      "3657              100.0   56109.0  \n",
      "3662              300.0   54390.0  \n",
      "7196               30.0   58419.0  \n",
      "7199               50.0   64416.0  \n",
      "7206              100.0  396858.0  \n",
      "7210              150.0  116134.0  \n",
      "7217              300.0  576789.0  \n",
      "7220              500.0   77839.0  \n",
      "7225             1000.0   65689.0  \n",
      "8287               50.0  168993.0  \n",
      "8290              100.0  177459.0  \n",
      "8294              300.0  126295.0  \n",
      "12767              50.0   59536.0  \n",
      "17322              10.0   73652.0  \n",
      "17328              50.0  101555.0  \n",
      "17329             100.0   98886.0  \n",
      "17331             300.0   74203.0  \n",
      "18524              50.0   71659.0  \n",
      "18527             100.0   53660.0  \n"
     ]
    }
   ],
   "source": [
    "df = acc_vel_sinrang2[acc_vel_sinrang2['Velocidad (Mbps)'] != 0.0]\n",
    "df1 = df[df['Accesos'] > 50000]\n",
    "df2 = df[df['Accesos'] < 50000]\n",
    "# Crear la figura y los ejes\n",
    "fig, axes = plt.subplots(nrows=3, ncols=1, figsize=(10, 8), sharex=False)\n",
    "\n",
    "sns.histplot(df['Accesos'], bins=30, ax=axes[0], color='blue', alpha=0.7)\n",
    "axes[0].set_title('Distribución de Accesos (Todo)')\n",
    "axes[0].set_xlabel('Accesos')\n",
    "axes[0].set_ylabel('Frecuencia')\n",
    "\n",
    "sns.histplot(df1['Accesos'], bins=30, ax=axes[1], color='blue', alpha=0.7)\n",
    "axes[1].set_title('Distribución de Accesos (Mayor a 50000 accesos)')\n",
    "axes[1].set_xlabel('Accesos')\n",
    "axes[1].set_ylabel('Frecuencia')\n",
    "\n",
    "sns.histplot(df2['Accesos'], bins=30, ax=axes[2], color='blue', alpha=0.7)\n",
    "axes[2].set_title('Distribución de Accesos (Menor a 50000 accesos)')\n",
    "axes[2].set_xlabel('Accesos')\n",
    "axes[2].set_ylabel('Frecuencia')\n",
    "#axes[1].set_xlim(0, 50)\n",
    "\n",
    "plt.tight_layout()\n",
    "plt.suptitle('Distribución de Accesos', fontsize=14, y=1.02)\n",
    "\n",
    "plt.show()\n",
    "\n",
    "print(df1)"
   ]
  },
  {
   "cell_type": "markdown",
   "metadata": {},
   "source": [
    "Tienen sentido los accesos totales por encima de 50000, ya que estan localizadas en las localidades mas pobladas de la argentina. El top en población es \n",
    "1) Ciudad de Buenos Aires (incluye Caba)\n",
    "2) Cordoba\n",
    "3) Rosario\n",
    "4) Mendoza\n",
    "5) La Plata\n",
    "6) San Miguel de Tucuman\n",
    "\n",
    "Por lo que podemos concluir que, por más que son outliers, no tiene sentido eliminarlos ya que tienen sentido."
   ]
  },
  {
   "cell_type": "markdown",
   "metadata": {},
   "source": [
    "Ahrora queremos ver que velocidades de internet tienen los mayores accesos"
   ]
  },
  {
   "cell_type": "code",
   "execution_count": 21,
   "metadata": {},
   "outputs": [
    {
     "name": "stdout",
     "output_type": "stream",
     "text": [
      "   Velocidad (Mbps)    Accesos\n",
      "0             300.0  2380674.0\n",
      "1             100.0  2334841.0\n",
      "2              50.0  1590798.0\n",
      "3              30.0   994521.0\n",
      "4              10.0   697905.0\n",
      "5             150.0   507523.0\n",
      "6               6.0   304032.0\n",
      "7              20.0   287032.0\n",
      "8              15.0   263774.0\n",
      "9             500.0   257407.0\n"
     ]
    }
   ],
   "source": [
    "# Suponiendo que tienes un DataFrame 'df' con las columnas 'Velocidad (Mbps)' y 'Accesos'\n",
    "# Agrupar los datos por \"Velocidad (Mbps)\" y sumar los \"Accesos\"\n",
    "df_agrupado = acc_vel_sinrang2.groupby('Velocidad (Mbps)')['Accesos'].sum().reset_index()\n",
    "\n",
    "# Ordenar los resultados por la cantidad de accesos en orden descendente\n",
    "df_sorted = df_agrupado.sort_values(by='Accesos', ascending=False)\n",
    "\n",
    "# Mostrar las primeras filas con las mayores cantidades de accesos\n",
    "top_velocidades = df_sorted[['Velocidad (Mbps)', 'Accesos']]\n",
    "\n",
    "# Imprimir las primeras filas\n",
    "top_velocidades_sin_cero=top_velocidades[top_velocidades[\"Velocidad (Mbps)\"]>0]\n",
    "print(top_velocidades_sin_cero.head(10).reset_index(drop=True))"
   ]
  },
  {
   "cell_type": "markdown",
   "metadata": {},
   "source": [
    "Cosa coherente, ya que 300 Mb/s es la velocidad de internet que tiene, en Caba (dentro de la Ciudad de Buenos Aires), mas de 500000 de accesos "
   ]
  },
  {
   "cell_type": "markdown",
   "metadata": {},
   "source": [
    "Traemos los Id's"
   ]
  },
  {
   "cell_type": "code",
   "execution_count": 22,
   "metadata": {},
   "outputs": [
    {
     "name": "stdout",
     "output_type": "stream",
     "text": [
      "<class 'pandas.core.frame.DataFrame'>\n",
      "RangeIndex: 18864 entries, 0 to 18863\n",
      "Data columns (total 5 columns):\n",
      " #   Column            Non-Null Count  Dtype  \n",
      "---  ------            --------------  -----  \n",
      " 0   Velocidad (Mbps)  18864 non-null  float64\n",
      " 1   Accesos           18864 non-null  float64\n",
      " 2   Id_Provincia      18864 non-null  int64  \n",
      " 3   Id_Partido        18864 non-null  int64  \n",
      " 4   Id_Localidad      18864 non-null  int64  \n",
      "dtypes: float64(2), int64(3)\n",
      "memory usage: 737.0 KB\n"
     ]
    }
   ],
   "source": [
    "acc_vel_sinrang2 = acc_vel_sinrang2.merge(provincias[[\"Provincia\", \"Id_Provincia\"]], left_on=\"Provincia\", right_on=\"Provincia\", how=\"left\")\n",
    "acc_vel_sinrang2 = acc_vel_sinrang2.merge(partidos[[\"Partido\", \"Id_Partido\"]], left_on=\"Partido\", right_on=\"Partido\", how=\"left\")\n",
    "acc_vel_sinrang2 = acc_vel_sinrang2.merge(localidades[[\"Localidad\", \"Id_Localidad\"]], left_on=\"Localidad\", right_on=\"Localidad\", how=\"left\")\n",
    "acc_vel_sinrang3 = acc_vel_sinrang2.drop(columns=[\"Provincia\",\"Partido\",\"Localidad\"])\n",
    "acc_vel_sinrang3.info()"
   ]
  },
  {
   "cell_type": "code",
   "execution_count": 23,
   "metadata": {},
   "outputs": [],
   "source": [
    "acc_vel_sinrang3.to_csv('./Database/Tablas_de_hecho/Acc_vel_loc_sinrangos.csv',index=False, decimal=',')"
   ]
  },
  {
   "cell_type": "markdown",
   "metadata": {},
   "source": [
    "<u>ACCESO POR TECNOLOGÍA</u>"
   ]
  },
  {
   "cell_type": "code",
   "execution_count": 24,
   "metadata": {},
   "outputs": [
    {
     "data": {
      "text/html": [
       "<div>\n",
       "<style scoped>\n",
       "    .dataframe tbody tr th:only-of-type {\n",
       "        vertical-align: middle;\n",
       "    }\n",
       "\n",
       "    .dataframe tbody tr th {\n",
       "        vertical-align: top;\n",
       "    }\n",
       "\n",
       "    .dataframe thead th {\n",
       "        text-align: right;\n",
       "    }\n",
       "</style>\n",
       "<table border=\"1\" class=\"dataframe\">\n",
       "  <thead>\n",
       "    <tr style=\"text-align: right;\">\n",
       "      <th></th>\n",
       "      <th>Año</th>\n",
       "      <th>Trimestre</th>\n",
       "      <th>Provincia</th>\n",
       "      <th>ADSL</th>\n",
       "      <th>Cablemodem</th>\n",
       "      <th>Fibra óptica</th>\n",
       "      <th>Wireless</th>\n",
       "      <th>Otros</th>\n",
       "      <th>Total</th>\n",
       "    </tr>\n",
       "  </thead>\n",
       "  <tbody>\n",
       "    <tr>\n",
       "      <th>0</th>\n",
       "      <td>2024</td>\n",
       "      <td>2</td>\n",
       "      <td>Buenos Aires</td>\n",
       "      <td>214055</td>\n",
       "      <td>2722466</td>\n",
       "      <td>1849476</td>\n",
       "      <td>138638</td>\n",
       "      <td>64745</td>\n",
       "      <td>4989380</td>\n",
       "    </tr>\n",
       "    <tr>\n",
       "      <th>1</th>\n",
       "      <td>2024</td>\n",
       "      <td>2</td>\n",
       "      <td>Capital Federal</td>\n",
       "      <td>54102</td>\n",
       "      <td>1144781</td>\n",
       "      <td>230402</td>\n",
       "      <td>4493</td>\n",
       "      <td>29821</td>\n",
       "      <td>1463599</td>\n",
       "    </tr>\n",
       "    <tr>\n",
       "      <th>2</th>\n",
       "      <td>2024</td>\n",
       "      <td>2</td>\n",
       "      <td>Catamarca</td>\n",
       "      <td>4951</td>\n",
       "      <td>10303</td>\n",
       "      <td>58355</td>\n",
       "      <td>1384</td>\n",
       "      <td>81</td>\n",
       "      <td>75074</td>\n",
       "    </tr>\n",
       "    <tr>\n",
       "      <th>3</th>\n",
       "      <td>2024</td>\n",
       "      <td>2</td>\n",
       "      <td>Chaco</td>\n",
       "      <td>9448</td>\n",
       "      <td>57935</td>\n",
       "      <td>68944</td>\n",
       "      <td>8407</td>\n",
       "      <td>2358</td>\n",
       "      <td>147092</td>\n",
       "    </tr>\n",
       "    <tr>\n",
       "      <th>4</th>\n",
       "      <td>2024</td>\n",
       "      <td>2</td>\n",
       "      <td>Chubut</td>\n",
       "      <td>25955</td>\n",
       "      <td>80704</td>\n",
       "      <td>26516</td>\n",
       "      <td>31118</td>\n",
       "      <td>9930</td>\n",
       "      <td>174223</td>\n",
       "    </tr>\n",
       "  </tbody>\n",
       "</table>\n",
       "</div>"
      ],
      "text/plain": [
       "    Año  Trimestre        Provincia    ADSL  Cablemodem  Fibra óptica  \\\n",
       "0  2024          2     Buenos Aires  214055     2722466       1849476   \n",
       "1  2024          2  Capital Federal   54102     1144781        230402   \n",
       "2  2024          2        Catamarca    4951       10303         58355   \n",
       "3  2024          2            Chaco    9448       57935         68944   \n",
       "4  2024          2           Chubut   25955       80704         26516   \n",
       "\n",
       "   Wireless  Otros    Total  \n",
       "0    138638  64745  4989380  \n",
       "1      4493  29821  1463599  \n",
       "2      1384     81    75074  \n",
       "3      8407   2358   147092  \n",
       "4     31118   9930   174223  "
      ]
     },
     "execution_count": 24,
     "metadata": {},
     "output_type": "execute_result"
    }
   ],
   "source": [
    "acc_tec1=acc_tec.copy()\n",
    "acc_tec1.head()"
   ]
  },
  {
   "cell_type": "markdown",
   "metadata": {},
   "source": [
    "Veamos los valores NaN"
   ]
  },
  {
   "cell_type": "code",
   "execution_count": 25,
   "metadata": {},
   "outputs": [
    {
     "name": "stdout",
     "output_type": "stream",
     "text": [
      "<class 'pandas.core.frame.DataFrame'>\n",
      "RangeIndex: 1007 entries, 0 to 1006\n",
      "Data columns (total 9 columns):\n",
      " #   Column        Non-Null Count  Dtype \n",
      "---  ------        --------------  ----- \n",
      " 0   Año           1007 non-null   int64 \n",
      " 1   Trimestre     1007 non-null   int64 \n",
      " 2   Provincia     1007 non-null   object\n",
      " 3   ADSL          1007 non-null   int64 \n",
      " 4   Cablemodem    1007 non-null   int64 \n",
      " 5   Fibra óptica  1007 non-null   int64 \n",
      " 6   Wireless      1007 non-null   int64 \n",
      " 7   Otros         1007 non-null   int64 \n",
      " 8   Total         1007 non-null   int64 \n",
      "dtypes: int64(8), object(1)\n",
      "memory usage: 70.9+ KB\n"
     ]
    }
   ],
   "source": [
    "acc_tec1.info()"
   ]
  },
  {
   "cell_type": "code",
   "execution_count": 26,
   "metadata": {},
   "outputs": [],
   "source": [
    "acc_tec1=acc_tec1.rename(columns={\"Trimestre\":\"Trimestre\",\n",
    "                        \"ADSL\":\"Adsl\",\n",
    "                        \"Fibra óptica\":\"Fibra Optica\"})"
   ]
  },
  {
   "cell_type": "markdown",
   "metadata": {},
   "source": [
    "Creamos una columna que tenga el número del año y el número del trimestre concatenado. Esta nos permitirá hacer lineas de tiempo en las cuales se separen los trimestres dentro de los años."
   ]
  },
  {
   "cell_type": "code",
   "execution_count": 27,
   "metadata": {},
   "outputs": [],
   "source": [
    "acc_tec1['Año-Trimestre'] = acc_tec1['Año'].astype(str) + acc_tec1['Trimestre'].astype(str)\n",
    "acc_tec1['Año-Trimestre'] = acc_tec1['Año-Trimestre'].astype(int)"
   ]
  },
  {
   "cell_type": "markdown",
   "metadata": {},
   "source": [
    "Creemos un dataframe con los porcentajes del total de accesos por provincia para cada tecnología (en el 2024)"
   ]
  },
  {
   "cell_type": "code",
   "execution_count": 28,
   "metadata": {},
   "outputs": [
    {
     "name": "stdout",
     "output_type": "stream",
     "text": [
      "Porcentajes del numero de accesos accesos totales para cada tecnologia, por provincia en el año 2024: \n",
      " \n",
      "\n"
     ]
    },
    {
     "data": {
      "text/html": [
       "<div>\n",
       "<style scoped>\n",
       "    .dataframe tbody tr th:only-of-type {\n",
       "        vertical-align: middle;\n",
       "    }\n",
       "\n",
       "    .dataframe tbody tr th {\n",
       "        vertical-align: top;\n",
       "    }\n",
       "\n",
       "    .dataframe thead th {\n",
       "        text-align: right;\n",
       "    }\n",
       "</style>\n",
       "<table border=\"1\" class=\"dataframe\">\n",
       "  <thead>\n",
       "    <tr style=\"text-align: right;\">\n",
       "      <th></th>\n",
       "      <th>Provincia</th>\n",
       "      <th>Adsl</th>\n",
       "      <th>Cablemodem</th>\n",
       "      <th>Fibra Optica</th>\n",
       "      <th>Wireless</th>\n",
       "      <th>Otros</th>\n",
       "      <th>TOTAL DE ACCESOS</th>\n",
       "    </tr>\n",
       "  </thead>\n",
       "  <tbody>\n",
       "    <tr>\n",
       "      <th>0</th>\n",
       "      <td>Buenos Aires</td>\n",
       "      <td>4.3</td>\n",
       "      <td>54.6</td>\n",
       "      <td>37.1</td>\n",
       "      <td>2.8</td>\n",
       "      <td>1.3</td>\n",
       "      <td>4989380</td>\n",
       "    </tr>\n",
       "    <tr>\n",
       "      <th>1</th>\n",
       "      <td>Capital Federal</td>\n",
       "      <td>4.2</td>\n",
       "      <td>78.2</td>\n",
       "      <td>14.6</td>\n",
       "      <td>0.3</td>\n",
       "      <td>2.7</td>\n",
       "      <td>2968310</td>\n",
       "    </tr>\n",
       "    <tr>\n",
       "      <th>2</th>\n",
       "      <td>Córdoba</td>\n",
       "      <td>9.1</td>\n",
       "      <td>41.2</td>\n",
       "      <td>43.2</td>\n",
       "      <td>5.7</td>\n",
       "      <td>0.9</td>\n",
       "      <td>2167973</td>\n",
       "    </tr>\n",
       "    <tr>\n",
       "      <th>3</th>\n",
       "      <td>Santa Fe</td>\n",
       "      <td>9.5</td>\n",
       "      <td>43.0</td>\n",
       "      <td>41.3</td>\n",
       "      <td>4.8</td>\n",
       "      <td>1.5</td>\n",
       "      <td>1849561</td>\n",
       "    </tr>\n",
       "    <tr>\n",
       "      <th>4</th>\n",
       "      <td>Mendoza</td>\n",
       "      <td>5.8</td>\n",
       "      <td>22.8</td>\n",
       "      <td>61.9</td>\n",
       "      <td>9.1</td>\n",
       "      <td>0.3</td>\n",
       "      <td>604250</td>\n",
       "    </tr>\n",
       "    <tr>\n",
       "      <th>5</th>\n",
       "      <td>Entre Ríos</td>\n",
       "      <td>11.5</td>\n",
       "      <td>53.7</td>\n",
       "      <td>22.8</td>\n",
       "      <td>8.1</td>\n",
       "      <td>3.9</td>\n",
       "      <td>590863</td>\n",
       "    </tr>\n",
       "    <tr>\n",
       "      <th>6</th>\n",
       "      <td>Tucumán</td>\n",
       "      <td>11.6</td>\n",
       "      <td>7.7</td>\n",
       "      <td>79.0</td>\n",
       "      <td>1.5</td>\n",
       "      <td>0.2</td>\n",
       "      <td>531509</td>\n",
       "    </tr>\n",
       "    <tr>\n",
       "      <th>7</th>\n",
       "      <td>Misiones</td>\n",
       "      <td>10.8</td>\n",
       "      <td>37.6</td>\n",
       "      <td>41.3</td>\n",
       "      <td>6.9</td>\n",
       "      <td>3.4</td>\n",
       "      <td>409110</td>\n",
       "    </tr>\n",
       "    <tr>\n",
       "      <th>8</th>\n",
       "      <td>Salta</td>\n",
       "      <td>10.8</td>\n",
       "      <td>48.9</td>\n",
       "      <td>31.2</td>\n",
       "      <td>5.8</td>\n",
       "      <td>3.2</td>\n",
       "      <td>404202</td>\n",
       "    </tr>\n",
       "    <tr>\n",
       "      <th>9</th>\n",
       "      <td>Chubut</td>\n",
       "      <td>15.2</td>\n",
       "      <td>45.8</td>\n",
       "      <td>15.3</td>\n",
       "      <td>18.0</td>\n",
       "      <td>5.8</td>\n",
       "      <td>344899</td>\n",
       "    </tr>\n",
       "    <tr>\n",
       "      <th>10</th>\n",
       "      <td>Río Negro</td>\n",
       "      <td>12.1</td>\n",
       "      <td>29.0</td>\n",
       "      <td>39.2</td>\n",
       "      <td>10.4</td>\n",
       "      <td>9.2</td>\n",
       "      <td>343060</td>\n",
       "    </tr>\n",
       "    <tr>\n",
       "      <th>11</th>\n",
       "      <td>Neuquén</td>\n",
       "      <td>14.5</td>\n",
       "      <td>44.5</td>\n",
       "      <td>25.4</td>\n",
       "      <td>14.9</td>\n",
       "      <td>0.6</td>\n",
       "      <td>327788</td>\n",
       "    </tr>\n",
       "    <tr>\n",
       "      <th>12</th>\n",
       "      <td>Corrientes</td>\n",
       "      <td>10.6</td>\n",
       "      <td>54.7</td>\n",
       "      <td>24.8</td>\n",
       "      <td>6.6</td>\n",
       "      <td>3.4</td>\n",
       "      <td>314369</td>\n",
       "    </tr>\n",
       "    <tr>\n",
       "      <th>13</th>\n",
       "      <td>San Luis</td>\n",
       "      <td>2.6</td>\n",
       "      <td>25.9</td>\n",
       "      <td>21.0</td>\n",
       "      <td>50.3</td>\n",
       "      <td>0.2</td>\n",
       "      <td>313699</td>\n",
       "    </tr>\n",
       "    <tr>\n",
       "      <th>14</th>\n",
       "      <td>Chaco</td>\n",
       "      <td>6.9</td>\n",
       "      <td>38.6</td>\n",
       "      <td>44.1</td>\n",
       "      <td>5.6</td>\n",
       "      <td>4.9</td>\n",
       "      <td>302635</td>\n",
       "    </tr>\n",
       "    <tr>\n",
       "      <th>15</th>\n",
       "      <td>Santiago Del Estero</td>\n",
       "      <td>4.8</td>\n",
       "      <td>64.4</td>\n",
       "      <td>22.8</td>\n",
       "      <td>5.7</td>\n",
       "      <td>2.3</td>\n",
       "      <td>249676</td>\n",
       "    </tr>\n",
       "    <tr>\n",
       "      <th>16</th>\n",
       "      <td>La Pampa</td>\n",
       "      <td>5.5</td>\n",
       "      <td>47.9</td>\n",
       "      <td>29.7</td>\n",
       "      <td>16.0</td>\n",
       "      <td>0.9</td>\n",
       "      <td>245458</td>\n",
       "    </tr>\n",
       "    <tr>\n",
       "      <th>17</th>\n",
       "      <td>Jujuy</td>\n",
       "      <td>8.4</td>\n",
       "      <td>43.1</td>\n",
       "      <td>44.0</td>\n",
       "      <td>3.5</td>\n",
       "      <td>1.0</td>\n",
       "      <td>237737</td>\n",
       "    </tr>\n",
       "    <tr>\n",
       "      <th>18</th>\n",
       "      <td>San Juan</td>\n",
       "      <td>11.9</td>\n",
       "      <td>16.7</td>\n",
       "      <td>42.6</td>\n",
       "      <td>22.2</td>\n",
       "      <td>6.5</td>\n",
       "      <td>212656</td>\n",
       "    </tr>\n",
       "    <tr>\n",
       "      <th>19</th>\n",
       "      <td>La Rioja</td>\n",
       "      <td>2.9</td>\n",
       "      <td>63.3</td>\n",
       "      <td>26.5</td>\n",
       "      <td>7.3</td>\n",
       "      <td>0.0</td>\n",
       "      <td>175263</td>\n",
       "    </tr>\n",
       "    <tr>\n",
       "      <th>20</th>\n",
       "      <td>Santa Cruz</td>\n",
       "      <td>9.5</td>\n",
       "      <td>17.5</td>\n",
       "      <td>60.5</td>\n",
       "      <td>11.7</td>\n",
       "      <td>0.8</td>\n",
       "      <td>163669</td>\n",
       "    </tr>\n",
       "    <tr>\n",
       "      <th>21</th>\n",
       "      <td>Catamarca</td>\n",
       "      <td>7.2</td>\n",
       "      <td>14.2</td>\n",
       "      <td>76.6</td>\n",
       "      <td>1.8</td>\n",
       "      <td>0.1</td>\n",
       "      <td>150007</td>\n",
       "    </tr>\n",
       "    <tr>\n",
       "      <th>22</th>\n",
       "      <td>Formosa</td>\n",
       "      <td>14.0</td>\n",
       "      <td>29.8</td>\n",
       "      <td>29.4</td>\n",
       "      <td>26.5</td>\n",
       "      <td>0.4</td>\n",
       "      <td>125668</td>\n",
       "    </tr>\n",
       "    <tr>\n",
       "      <th>23</th>\n",
       "      <td>Tierra Del Fuego</td>\n",
       "      <td>15.2</td>\n",
       "      <td>78.0</td>\n",
       "      <td>6.0</td>\n",
       "      <td>0.3</td>\n",
       "      <td>0.5</td>\n",
       "      <td>122964</td>\n",
       "    </tr>\n",
       "    <tr>\n",
       "      <th>24</th>\n",
       "      <td>TOTAL DE ACCESOS</td>\n",
       "      <td>1304669.0</td>\n",
       "      <td>9063798.0</td>\n",
       "      <td>6386046.0</td>\n",
       "      <td>1041589.0</td>\n",
       "      <td>348604.0</td>\n",
       "      <td>18144706</td>\n",
       "    </tr>\n",
       "  </tbody>\n",
       "</table>\n",
       "</div>"
      ],
      "text/plain": [
       "              Provincia       Adsl  Cablemodem  Fibra Optica   Wireless  \\\n",
       "0          Buenos Aires        4.3        54.6          37.1        2.8   \n",
       "1       Capital Federal        4.2        78.2          14.6        0.3   \n",
       "2               Córdoba        9.1        41.2          43.2        5.7   \n",
       "3              Santa Fe        9.5        43.0          41.3        4.8   \n",
       "4               Mendoza        5.8        22.8          61.9        9.1   \n",
       "5            Entre Ríos       11.5        53.7          22.8        8.1   \n",
       "6               Tucumán       11.6         7.7          79.0        1.5   \n",
       "7              Misiones       10.8        37.6          41.3        6.9   \n",
       "8                 Salta       10.8        48.9          31.2        5.8   \n",
       "9                Chubut       15.2        45.8          15.3       18.0   \n",
       "10            Río Negro       12.1        29.0          39.2       10.4   \n",
       "11              Neuquén       14.5        44.5          25.4       14.9   \n",
       "12           Corrientes       10.6        54.7          24.8        6.6   \n",
       "13             San Luis        2.6        25.9          21.0       50.3   \n",
       "14                Chaco        6.9        38.6          44.1        5.6   \n",
       "15  Santiago Del Estero        4.8        64.4          22.8        5.7   \n",
       "16             La Pampa        5.5        47.9          29.7       16.0   \n",
       "17                Jujuy        8.4        43.1          44.0        3.5   \n",
       "18             San Juan       11.9        16.7          42.6       22.2   \n",
       "19             La Rioja        2.9        63.3          26.5        7.3   \n",
       "20           Santa Cruz        9.5        17.5          60.5       11.7   \n",
       "21            Catamarca        7.2        14.2          76.6        1.8   \n",
       "22              Formosa       14.0        29.8          29.4       26.5   \n",
       "23     Tierra Del Fuego       15.2        78.0           6.0        0.3   \n",
       "24     TOTAL DE ACCESOS  1304669.0   9063798.0     6386046.0  1041589.0   \n",
       "\n",
       "       Otros  TOTAL DE ACCESOS  \n",
       "0        1.3           4989380  \n",
       "1        2.7           2968310  \n",
       "2        0.9           2167973  \n",
       "3        1.5           1849561  \n",
       "4        0.3            604250  \n",
       "5        3.9            590863  \n",
       "6        0.2            531509  \n",
       "7        3.4            409110  \n",
       "8        3.2            404202  \n",
       "9        5.8            344899  \n",
       "10       9.2            343060  \n",
       "11       0.6            327788  \n",
       "12       3.4            314369  \n",
       "13       0.2            313699  \n",
       "14       4.9            302635  \n",
       "15       2.3            249676  \n",
       "16       0.9            245458  \n",
       "17       1.0            237737  \n",
       "18       6.5            212656  \n",
       "19       0.0            175263  \n",
       "20       0.8            163669  \n",
       "21       0.1            150007  \n",
       "22       0.4            125668  \n",
       "23       0.5            122964  \n",
       "24  348604.0          18144706  "
      ]
     },
     "execution_count": 28,
     "metadata": {},
     "output_type": "execute_result"
    }
   ],
   "source": [
    "# Supongamos que tu tabla se llama df\n",
    "# Filtramos los datos por el año 2024\n",
    "acc_tec1_2024 = acc_tec1[acc_tec1['Año'] == 2024]\n",
    "\n",
    "# Agrupamos por provincia y sumamos los accesos de cada tecnología\n",
    "accesos_2024 = acc_tec1_2024.groupby('Provincia')[['Adsl', 'Cablemodem', 'Fibra Optica', 'Wireless', 'Otros']].sum()\n",
    "accesos_2024.reset_index(inplace=True)\n",
    "# Calculamos el total de accesos por provincia\n",
    "accesos_2024['TOTAL DE ACCESOS'] = accesos_2024[['Adsl', 'Cablemodem', 'Fibra Optica', 'Wireless', 'Otros']].sum(axis=1)\n",
    "\n",
    "# Calculamos el porcentaje de cada tecnología con respecto al total\n",
    "accesos_2024_porcentage = accesos_2024.copy()\n",
    "\n",
    "# Dividimos cada columna de tecnología por el total de accesos y multiplicamos por 100\n",
    "for tecnologia in ['Adsl', 'Cablemodem', 'Fibra Optica', 'Wireless', 'Otros']:\n",
    "    accesos_2024_porcentage[tecnologia] = round((accesos_2024[tecnologia] / accesos_2024['TOTAL DE ACCESOS']) * 100,1)\n",
    "\n",
    "# Ordenamos el dataframe por la columna 'TOTAL DE ACCESOS POR PROVINCIA' de mayor a menor\n",
    "accesos_2024_porcentage = accesos_2024_porcentage.sort_values(by='TOTAL DE ACCESOS', ascending=False)\n",
    "\n",
    "# Mostramos el nuevo dataframe con los porcentajes\n",
    "print(\"Porcentajes del numero de accesos accesos totales para cada tecnologia, por provincia en el año 2024:\",\"\\n\",\"\\n\")\n",
    "accesos_2024_porcentage\n",
    "\n",
    "# Calcular el total de accesos por tecnología en 'accesos_2024'\n",
    "total_accesos = accesos_2024[['Adsl', 'Cablemodem', 'Fibra Optica', 'Wireless', 'Otros','TOTAL DE ACCESOS']].sum()\n",
    "\n",
    "total_accesos_df=pd.DataFrame(total_accesos).T\n",
    "total_accesos_df['Provincia']=[\"TOTAL DE ACCESOS\"]\n",
    "accesos_2024_porcentage_con_total = pd.concat([accesos_2024_porcentage, total_accesos_df], ignore_index=True)\n",
    "accesos_2024_porcentage_con_total"
   ]
  },
  {
   "cell_type": "markdown",
   "metadata": {},
   "source": [
    "Como podemos ver, nuevamente, las provincias con mayor número de accesos a internet coincide con las que tienen mayor población, cosa que tiene sentido. Por otro lado, La tecnología con mayor cantidad de accesos asociados es la de Cablemodem, seguido por la Fibra óptica y la Asymmetric Digital Subscriber Line (ADSL). Esto tiene lógica, ya que se puede ver que en su matoría, las provincias mas pobladas tienen un mayor porcentage de Cablemodem."
   ]
  },
  {
   "cell_type": "markdown",
   "metadata": {},
   "source": [
    "Ahora normalizamos la tabla usando las tablas de dimansión"
   ]
  },
  {
   "cell_type": "code",
   "execution_count": 29,
   "metadata": {},
   "outputs": [],
   "source": [
    "acc_tec1.loc[:, \"Provincia\"]=acc_tec1[\"Provincia\"].apply(normalizacion_palabras)\n",
    "acc_tec1[\"Provincia\"] = acc_tec1[\"Provincia\"].replace(\"Ciudad Autonoma de Buenos Aires\", \"Caba\")\n",
    "acc_tec1[\"Provincia\"] = acc_tec1[\"Provincia\"].replace(\"Capital Federal\", \"Caba\")\n",
    "acc_tec1 = acc_tec1.merge(provincias[[\"Provincia\", \"Id_Provincia\"]], left_on=\"Provincia\", right_on=\"Provincia\", how=\"left\")\n",
    "acc_tec2=acc_tec1.drop(columns=\"Provincia\")"
   ]
  },
  {
   "cell_type": "code",
   "execution_count": 30,
   "metadata": {},
   "outputs": [
    {
     "name": "stdout",
     "output_type": "stream",
     "text": [
      "<class 'pandas.core.frame.DataFrame'>\n",
      "RangeIndex: 1007 entries, 0 to 1006\n",
      "Data columns (total 10 columns):\n",
      " #   Column         Non-Null Count  Dtype\n",
      "---  ------         --------------  -----\n",
      " 0   Año            1007 non-null   int64\n",
      " 1   Trimestre      1007 non-null   int64\n",
      " 2   Adsl           1007 non-null   int64\n",
      " 3   Cablemodem     1007 non-null   int64\n",
      " 4   Fibra Optica   1007 non-null   int64\n",
      " 5   Wireless       1007 non-null   int64\n",
      " 6   Otros          1007 non-null   int64\n",
      " 7   Total          1007 non-null   int64\n",
      " 8   Año-Trimestre  1007 non-null   int64\n",
      " 9   Id_Provincia   1007 non-null   int64\n",
      "dtypes: int64(10)\n",
      "memory usage: 78.8 KB\n"
     ]
    }
   ],
   "source": [
    "acc_tec2.info()"
   ]
  },
  {
   "cell_type": "code",
   "execution_count": 31,
   "metadata": {},
   "outputs": [],
   "source": [
    "acc_tec2.to_csv('./Database/Tablas_de_hecho/Acceso_por_Tecnología.csv',index=False, decimal=',')"
   ]
  },
  {
   "cell_type": "markdown",
   "metadata": {},
   "source": [
    "<u>PENETRACION_POBLACION</u>"
   ]
  },
  {
   "cell_type": "code",
   "execution_count": 32,
   "metadata": {},
   "outputs": [
    {
     "data": {
      "text/html": [
       "<div>\n",
       "<style scoped>\n",
       "    .dataframe tbody tr th:only-of-type {\n",
       "        vertical-align: middle;\n",
       "    }\n",
       "\n",
       "    .dataframe tbody tr th {\n",
       "        vertical-align: top;\n",
       "    }\n",
       "\n",
       "    .dataframe thead th {\n",
       "        text-align: right;\n",
       "    }\n",
       "</style>\n",
       "<table border=\"1\" class=\"dataframe\">\n",
       "  <thead>\n",
       "    <tr style=\"text-align: right;\">\n",
       "      <th></th>\n",
       "      <th>Año</th>\n",
       "      <th>Trimestre</th>\n",
       "      <th>Provincia</th>\n",
       "      <th>Accesos por cada 100 hab</th>\n",
       "    </tr>\n",
       "  </thead>\n",
       "  <tbody>\n",
       "    <tr>\n",
       "      <th>0</th>\n",
       "      <td>2024</td>\n",
       "      <td>2</td>\n",
       "      <td>Buenos Aires</td>\n",
       "      <td>27.43</td>\n",
       "    </tr>\n",
       "    <tr>\n",
       "      <th>1</th>\n",
       "      <td>2024</td>\n",
       "      <td>2</td>\n",
       "      <td>Capital Federal</td>\n",
       "      <td>47.44</td>\n",
       "    </tr>\n",
       "    <tr>\n",
       "      <th>2</th>\n",
       "      <td>2024</td>\n",
       "      <td>2</td>\n",
       "      <td>Catamarca</td>\n",
       "      <td>17.50</td>\n",
       "    </tr>\n",
       "    <tr>\n",
       "      <th>3</th>\n",
       "      <td>2024</td>\n",
       "      <td>2</td>\n",
       "      <td>Chaco</td>\n",
       "      <td>11.78</td>\n",
       "    </tr>\n",
       "    <tr>\n",
       "      <th>4</th>\n",
       "      <td>2024</td>\n",
       "      <td>2</td>\n",
       "      <td>Chubut</td>\n",
       "      <td>26.46</td>\n",
       "    </tr>\n",
       "  </tbody>\n",
       "</table>\n",
       "</div>"
      ],
      "text/plain": [
       "    Año  Trimestre        Provincia  Accesos por cada 100 hab\n",
       "0  2024          2     Buenos Aires                     27.43\n",
       "1  2024          2  Capital Federal                     47.44\n",
       "2  2024          2        Catamarca                     17.50\n",
       "3  2024          2            Chaco                     11.78\n",
       "4  2024          2           Chubut                     26.46"
      ]
     },
     "execution_count": 32,
     "metadata": {},
     "output_type": "execute_result"
    }
   ],
   "source": [
    "pen_pobl1=pen_pobl.copy()\n",
    "pen_pobl1.head()"
   ]
  },
  {
   "cell_type": "code",
   "execution_count": 33,
   "metadata": {},
   "outputs": [
    {
     "name": "stdout",
     "output_type": "stream",
     "text": [
      "<class 'pandas.core.frame.DataFrame'>\n",
      "RangeIndex: 1000 entries, 0 to 999\n",
      "Data columns (total 4 columns):\n",
      " #   Column                    Non-Null Count  Dtype  \n",
      "---  ------                    --------------  -----  \n",
      " 0   Año                       1000 non-null   int64  \n",
      " 1   Trimestre                 1000 non-null   int64  \n",
      " 2   Provincia                 1000 non-null   object \n",
      " 3   Accesos por cada 100 hab  1000 non-null   float64\n",
      "dtypes: float64(1), int64(2), object(1)\n",
      "memory usage: 31.4+ KB\n"
     ]
    }
   ],
   "source": [
    "pen_pobl1.info()"
   ]
  },
  {
   "cell_type": "code",
   "execution_count": 34,
   "metadata": {},
   "outputs": [],
   "source": [
    "pen_pobl1['Año-Trimestre'] = pen_pobl1['Año'].astype(str) + pen_pobl1['Trimestre'].astype(str)\n",
    "pen_pobl1['Año-Trimestre'] = pen_pobl1['Año-Trimestre'].astype(int)"
   ]
  },
  {
   "cell_type": "markdown",
   "metadata": {},
   "source": [
    "Normalizamos el formato de texto en la columna Provincias, traemos la columna Id_Provinvias y eliminamos la anterior"
   ]
  },
  {
   "cell_type": "code",
   "execution_count": 35,
   "metadata": {},
   "outputs": [],
   "source": [
    "pen_pobl1.loc[:, \"Provincia\"]=pen_pobl1[\"Provincia\"].apply(normalizacion_palabras)\n",
    "pen_pobl1[\"Provincia\"] = pen_pobl1[\"Provincia\"].replace(\"Ciudad Autonoma de Buenos Aires\", \"Caba\")\n",
    "pen_pobl1[\"Provincia\"] = pen_pobl1[\"Provincia\"].replace(\"Capital Federal\", \"Caba\")\n",
    "pen_pobl1 = pen_pobl1.merge(provincias[[\"Provincia\", \"Id_Provincia\"]], left_on=\"Provincia\", right_on=\"Provincia\", how=\"left\")\n",
    "pen_pobl2=pen_pobl1.drop(columns=\"Provincia\")"
   ]
  },
  {
   "cell_type": "code",
   "execution_count": 36,
   "metadata": {},
   "outputs": [
    {
     "name": "stdout",
     "output_type": "stream",
     "text": [
      "<class 'pandas.core.frame.DataFrame'>\n",
      "RangeIndex: 1000 entries, 0 to 999\n",
      "Data columns (total 5 columns):\n",
      " #   Column                    Non-Null Count  Dtype  \n",
      "---  ------                    --------------  -----  \n",
      " 0   Año                       1000 non-null   int64  \n",
      " 1   Trimestre                 1000 non-null   int64  \n",
      " 2   Accesos por cada 100 hab  1000 non-null   float64\n",
      " 3   Año-Trimestre             1000 non-null   int64  \n",
      " 4   Id_Provincia              1000 non-null   int64  \n",
      "dtypes: float64(1), int64(4)\n",
      "memory usage: 39.2 KB\n"
     ]
    }
   ],
   "source": [
    "pen_pobl2.info()"
   ]
  },
  {
   "cell_type": "markdown",
   "metadata": {},
   "source": [
    "Para el año 2014, primer trimestre, solo hay info hasta la provincia con Id_Provincia=16. Rellenaremos los valores faltantes de cada columna con el promedio correspondiente a los valores dentro de ese año y trimestre correspondiente a cada columna."
   ]
  },
  {
   "cell_type": "code",
   "execution_count": 37,
   "metadata": {},
   "outputs": [
    {
     "data": {
      "text/html": [
       "<div>\n",
       "<style scoped>\n",
       "    .dataframe tbody tr th:only-of-type {\n",
       "        vertical-align: middle;\n",
       "    }\n",
       "\n",
       "    .dataframe tbody tr th {\n",
       "        vertical-align: top;\n",
       "    }\n",
       "\n",
       "    .dataframe thead th {\n",
       "        text-align: right;\n",
       "    }\n",
       "</style>\n",
       "<table border=\"1\" class=\"dataframe\">\n",
       "  <thead>\n",
       "    <tr style=\"text-align: right;\">\n",
       "      <th></th>\n",
       "      <th>Año</th>\n",
       "      <th>Trimestre</th>\n",
       "      <th>Accesos por cada 100 hab</th>\n",
       "      <th>Año-Trimestre</th>\n",
       "      <th>Id_Provincia</th>\n",
       "    </tr>\n",
       "  </thead>\n",
       "  <tbody>\n",
       "    <tr>\n",
       "      <th>0</th>\n",
       "      <td>2024</td>\n",
       "      <td>2</td>\n",
       "      <td>27.43</td>\n",
       "      <td>20242</td>\n",
       "      <td>2</td>\n",
       "    </tr>\n",
       "    <tr>\n",
       "      <th>1</th>\n",
       "      <td>2024</td>\n",
       "      <td>2</td>\n",
       "      <td>47.44</td>\n",
       "      <td>20242</td>\n",
       "      <td>1</td>\n",
       "    </tr>\n",
       "    <tr>\n",
       "      <th>2</th>\n",
       "      <td>2024</td>\n",
       "      <td>2</td>\n",
       "      <td>17.50</td>\n",
       "      <td>20242</td>\n",
       "      <td>3</td>\n",
       "    </tr>\n",
       "    <tr>\n",
       "      <th>3</th>\n",
       "      <td>2024</td>\n",
       "      <td>2</td>\n",
       "      <td>11.78</td>\n",
       "      <td>20242</td>\n",
       "      <td>4</td>\n",
       "    </tr>\n",
       "    <tr>\n",
       "      <th>4</th>\n",
       "      <td>2024</td>\n",
       "      <td>2</td>\n",
       "      <td>26.46</td>\n",
       "      <td>20242</td>\n",
       "      <td>5</td>\n",
       "    </tr>\n",
       "    <tr>\n",
       "      <th>...</th>\n",
       "      <td>...</td>\n",
       "      <td>...</td>\n",
       "      <td>...</td>\n",
       "      <td>...</td>\n",
       "      <td>...</td>\n",
       "    </tr>\n",
       "    <tr>\n",
       "      <th>1003</th>\n",
       "      <td>2014</td>\n",
       "      <td>1</td>\n",
       "      <td>11.85</td>\n",
       "      <td>20141</td>\n",
       "      <td>20</td>\n",
       "    </tr>\n",
       "    <tr>\n",
       "      <th>1004</th>\n",
       "      <td>2014</td>\n",
       "      <td>1</td>\n",
       "      <td>11.85</td>\n",
       "      <td>20141</td>\n",
       "      <td>21</td>\n",
       "    </tr>\n",
       "    <tr>\n",
       "      <th>1005</th>\n",
       "      <td>2014</td>\n",
       "      <td>1</td>\n",
       "      <td>11.85</td>\n",
       "      <td>20141</td>\n",
       "      <td>22</td>\n",
       "    </tr>\n",
       "    <tr>\n",
       "      <th>1006</th>\n",
       "      <td>2014</td>\n",
       "      <td>1</td>\n",
       "      <td>11.85</td>\n",
       "      <td>20141</td>\n",
       "      <td>23</td>\n",
       "    </tr>\n",
       "    <tr>\n",
       "      <th>1007</th>\n",
       "      <td>2014</td>\n",
       "      <td>1</td>\n",
       "      <td>11.85</td>\n",
       "      <td>20141</td>\n",
       "      <td>24</td>\n",
       "    </tr>\n",
       "  </tbody>\n",
       "</table>\n",
       "<p>1008 rows × 5 columns</p>\n",
       "</div>"
      ],
      "text/plain": [
       "       Año  Trimestre  Accesos por cada 100 hab  Año-Trimestre  Id_Provincia\n",
       "0     2024          2                     27.43          20242             2\n",
       "1     2024          2                     47.44          20242             1\n",
       "2     2024          2                     17.50          20242             3\n",
       "3     2024          2                     11.78          20242             4\n",
       "4     2024          2                     26.46          20242             5\n",
       "...    ...        ...                       ...            ...           ...\n",
       "1003  2014          1                     11.85          20141            20\n",
       "1004  2014          1                     11.85          20141            21\n",
       "1005  2014          1                     11.85          20141            22\n",
       "1006  2014          1                     11.85          20141            23\n",
       "1007  2014          1                     11.85          20141            24\n",
       "\n",
       "[1008 rows x 5 columns]"
      ]
     },
     "execution_count": 37,
     "metadata": {},
     "output_type": "execute_result"
    }
   ],
   "source": [
    "dicc={\"Año\":[2014 for i in range(8)],\n",
    "      \"Trimestre\":[1 for i in range(8)],\n",
    "      \"Accesos por cada 100 hab\":[round(pen_pobl2.loc[999-15:999,\"Accesos por cada 100 hab\"].mean(),2) for i in range(8)],\n",
    "      \"Año-Trimestre\":[20141 for i in range(8)],\n",
    "      \"Id_Provincia\":[i for i in range(17,25)]}\n",
    "df=pd.DataFrame(dicc)\n",
    "pen_pobl3=pd.concat([pen_pobl2, df], ignore_index=True)\n",
    "pen_pobl3"
   ]
  },
  {
   "cell_type": "markdown",
   "metadata": {},
   "source": [
    "Hacemos que los números enteros, queden solo con dos cifras decimales."
   ]
  },
  {
   "cell_type": "code",
   "execution_count": 38,
   "metadata": {},
   "outputs": [],
   "source": [
    "pen_pobl3[\"Accesos por cada 100 hab\"]=pen_pobl3[\"Accesos por cada 100 hab\"].round(2)"
   ]
  },
  {
   "cell_type": "code",
   "execution_count": 39,
   "metadata": {},
   "outputs": [],
   "source": [
    "pen_pobl3.to_csv('./Database/Tablas_de_hecho/Penetracion_poblacion.csv',index=False, decimal=',')"
   ]
  },
  {
   "cell_type": "markdown",
   "metadata": {},
   "source": [
    "<u>PENETRACION_HOGARES</u>"
   ]
  },
  {
   "cell_type": "code",
   "execution_count": 40,
   "metadata": {},
   "outputs": [
    {
     "data": {
      "text/html": [
       "<div>\n",
       "<style scoped>\n",
       "    .dataframe tbody tr th:only-of-type {\n",
       "        vertical-align: middle;\n",
       "    }\n",
       "\n",
       "    .dataframe tbody tr th {\n",
       "        vertical-align: top;\n",
       "    }\n",
       "\n",
       "    .dataframe thead th {\n",
       "        text-align: right;\n",
       "    }\n",
       "</style>\n",
       "<table border=\"1\" class=\"dataframe\">\n",
       "  <thead>\n",
       "    <tr style=\"text-align: right;\">\n",
       "      <th></th>\n",
       "      <th>Año</th>\n",
       "      <th>Trimestre</th>\n",
       "      <th>Provincia</th>\n",
       "      <th>Accesos por cada 100 hogares</th>\n",
       "    </tr>\n",
       "  </thead>\n",
       "  <tbody>\n",
       "    <tr>\n",
       "      <th>0</th>\n",
       "      <td>2024</td>\n",
       "      <td>2</td>\n",
       "      <td>Buenos Aires</td>\n",
       "      <td>79.84</td>\n",
       "    </tr>\n",
       "    <tr>\n",
       "      <th>1</th>\n",
       "      <td>2024</td>\n",
       "      <td>2</td>\n",
       "      <td>Capital Federal</td>\n",
       "      <td>116.37</td>\n",
       "    </tr>\n",
       "    <tr>\n",
       "      <th>2</th>\n",
       "      <td>2024</td>\n",
       "      <td>2</td>\n",
       "      <td>Catamarca</td>\n",
       "      <td>68.81</td>\n",
       "    </tr>\n",
       "    <tr>\n",
       "      <th>3</th>\n",
       "      <td>2024</td>\n",
       "      <td>2</td>\n",
       "      <td>Chaco</td>\n",
       "      <td>44.06</td>\n",
       "    </tr>\n",
       "    <tr>\n",
       "      <th>4</th>\n",
       "      <td>2024</td>\n",
       "      <td>2</td>\n",
       "      <td>Chubut</td>\n",
       "      <td>86.33</td>\n",
       "    </tr>\n",
       "  </tbody>\n",
       "</table>\n",
       "</div>"
      ],
      "text/plain": [
       "    Año  Trimestre        Provincia  Accesos por cada 100 hogares\n",
       "0  2024          2     Buenos Aires                         79.84\n",
       "1  2024          2  Capital Federal                        116.37\n",
       "2  2024          2        Catamarca                         68.81\n",
       "3  2024          2            Chaco                         44.06\n",
       "4  2024          2           Chubut                         86.33"
      ]
     },
     "execution_count": 40,
     "metadata": {},
     "output_type": "execute_result"
    }
   ],
   "source": [
    "pen_hog1=pen_hog.copy()\n",
    "pen_hog1.head()"
   ]
  },
  {
   "cell_type": "code",
   "execution_count": 41,
   "metadata": {},
   "outputs": [
    {
     "name": "stdout",
     "output_type": "stream",
     "text": [
      "<class 'pandas.core.frame.DataFrame'>\n",
      "RangeIndex: 1000 entries, 0 to 999\n",
      "Data columns (total 4 columns):\n",
      " #   Column                        Non-Null Count  Dtype  \n",
      "---  ------                        --------------  -----  \n",
      " 0   Año                           1000 non-null   int64  \n",
      " 1   Trimestre                     1000 non-null   int64  \n",
      " 2   Provincia                     1000 non-null   object \n",
      " 3   Accesos por cada 100 hogares  1000 non-null   float64\n",
      "dtypes: float64(1), int64(2), object(1)\n",
      "memory usage: 31.4+ KB\n"
     ]
    }
   ],
   "source": [
    "pen_hog1.info()"
   ]
  },
  {
   "cell_type": "code",
   "execution_count": 42,
   "metadata": {},
   "outputs": [
    {
     "data": {
      "text/html": [
       "<div>\n",
       "<style scoped>\n",
       "    .dataframe tbody tr th:only-of-type {\n",
       "        vertical-align: middle;\n",
       "    }\n",
       "\n",
       "    .dataframe tbody tr th {\n",
       "        vertical-align: top;\n",
       "    }\n",
       "\n",
       "    .dataframe thead th {\n",
       "        text-align: right;\n",
       "    }\n",
       "</style>\n",
       "<table border=\"1\" class=\"dataframe\">\n",
       "  <thead>\n",
       "    <tr style=\"text-align: right;\">\n",
       "      <th></th>\n",
       "      <th>Año</th>\n",
       "      <th>Trimestre</th>\n",
       "      <th>Provincia</th>\n",
       "      <th>Accesos por cada 100 hogares</th>\n",
       "    </tr>\n",
       "  </thead>\n",
       "  <tbody>\n",
       "    <tr>\n",
       "      <th>0</th>\n",
       "      <td>2024</td>\n",
       "      <td>2</td>\n",
       "      <td>Buenos Aires</td>\n",
       "      <td>79.840000</td>\n",
       "    </tr>\n",
       "    <tr>\n",
       "      <th>1</th>\n",
       "      <td>2024</td>\n",
       "      <td>2</td>\n",
       "      <td>Capital Federal</td>\n",
       "      <td>116.370000</td>\n",
       "    </tr>\n",
       "    <tr>\n",
       "      <th>2</th>\n",
       "      <td>2024</td>\n",
       "      <td>2</td>\n",
       "      <td>Catamarca</td>\n",
       "      <td>68.810000</td>\n",
       "    </tr>\n",
       "    <tr>\n",
       "      <th>3</th>\n",
       "      <td>2024</td>\n",
       "      <td>2</td>\n",
       "      <td>Chaco</td>\n",
       "      <td>44.060000</td>\n",
       "    </tr>\n",
       "    <tr>\n",
       "      <th>4</th>\n",
       "      <td>2024</td>\n",
       "      <td>2</td>\n",
       "      <td>Chubut</td>\n",
       "      <td>86.330000</td>\n",
       "    </tr>\n",
       "    <tr>\n",
       "      <th>...</th>\n",
       "      <td>...</td>\n",
       "      <td>...</td>\n",
       "      <td>...</td>\n",
       "      <td>...</td>\n",
       "    </tr>\n",
       "    <tr>\n",
       "      <th>995</th>\n",
       "      <td>2014</td>\n",
       "      <td>1</td>\n",
       "      <td>La Rioja</td>\n",
       "      <td>16.294105</td>\n",
       "    </tr>\n",
       "    <tr>\n",
       "      <th>996</th>\n",
       "      <td>2014</td>\n",
       "      <td>1</td>\n",
       "      <td>Mendoza</td>\n",
       "      <td>31.913123</td>\n",
       "    </tr>\n",
       "    <tr>\n",
       "      <th>997</th>\n",
       "      <td>2014</td>\n",
       "      <td>1</td>\n",
       "      <td>Misiones</td>\n",
       "      <td>23.136539</td>\n",
       "    </tr>\n",
       "    <tr>\n",
       "      <th>998</th>\n",
       "      <td>2014</td>\n",
       "      <td>1</td>\n",
       "      <td>Neuquén</td>\n",
       "      <td>49.791605</td>\n",
       "    </tr>\n",
       "    <tr>\n",
       "      <th>999</th>\n",
       "      <td>2014</td>\n",
       "      <td>1</td>\n",
       "      <td>Río Negro</td>\n",
       "      <td>44.913957</td>\n",
       "    </tr>\n",
       "  </tbody>\n",
       "</table>\n",
       "<p>1000 rows × 4 columns</p>\n",
       "</div>"
      ],
      "text/plain": [
       "      Año  Trimestre        Provincia  Accesos por cada 100 hogares\n",
       "0    2024          2     Buenos Aires                     79.840000\n",
       "1    2024          2  Capital Federal                    116.370000\n",
       "2    2024          2        Catamarca                     68.810000\n",
       "3    2024          2            Chaco                     44.060000\n",
       "4    2024          2           Chubut                     86.330000\n",
       "..    ...        ...              ...                           ...\n",
       "995  2014          1         La Rioja                     16.294105\n",
       "996  2014          1          Mendoza                     31.913123\n",
       "997  2014          1         Misiones                     23.136539\n",
       "998  2014          1          Neuquén                     49.791605\n",
       "999  2014          1        Río Negro                     44.913957\n",
       "\n",
       "[1000 rows x 4 columns]"
      ]
     },
     "execution_count": 42,
     "metadata": {},
     "output_type": "execute_result"
    }
   ],
   "source": [
    "pen_hog1"
   ]
  },
  {
   "cell_type": "code",
   "execution_count": 43,
   "metadata": {},
   "outputs": [],
   "source": [
    "pen_hog1['Año-Trimestre'] = pen_hog1['Año'].astype(str) + pen_hog1['Trimestre'].astype(str)\n",
    "pen_hog1['Año-Trimestre'] = pen_hog1['Año-Trimestre'].astype(int)"
   ]
  },
  {
   "cell_type": "markdown",
   "metadata": {},
   "source": [
    "Normalizamos el formato de texto en la columna Provincias, traemos la columna Id_Provinvias y eliminamos la anterior"
   ]
  },
  {
   "cell_type": "code",
   "execution_count": 44,
   "metadata": {},
   "outputs": [],
   "source": [
    "pen_hog1.loc[:, \"Provincia\"]=pen_hog1[\"Provincia\"].apply(normalizacion_palabras)\n",
    "pen_hog1[\"Provincia\"] = pen_hog1[\"Provincia\"].replace(\"Ciudad Autonoma de Buenos Aires\", \"Caba\")\n",
    "pen_hog1[\"Provincia\"] = pen_hog1[\"Provincia\"].replace(\"Capital Federal\", \"Caba\")\n",
    "pen_hog1 = pen_hog1.merge(provincias[[\"Provincia\", \"Id_Provincia\"]], left_on=\"Provincia\", right_on=\"Provincia\", how=\"left\")\n",
    "pen_hog2=pen_hog1.drop(columns=\"Provincia\")"
   ]
  },
  {
   "cell_type": "code",
   "execution_count": 45,
   "metadata": {},
   "outputs": [
    {
     "name": "stdout",
     "output_type": "stream",
     "text": [
      "<class 'pandas.core.frame.DataFrame'>\n",
      "RangeIndex: 1000 entries, 0 to 999\n",
      "Data columns (total 5 columns):\n",
      " #   Column                        Non-Null Count  Dtype  \n",
      "---  ------                        --------------  -----  \n",
      " 0   Año                           1000 non-null   int64  \n",
      " 1   Trimestre                     1000 non-null   int64  \n",
      " 2   Accesos por cada 100 hogares  1000 non-null   float64\n",
      " 3   Año-Trimestre                 1000 non-null   int64  \n",
      " 4   Id_Provincia                  1000 non-null   int64  \n",
      "dtypes: float64(1), int64(4)\n",
      "memory usage: 39.2 KB\n"
     ]
    }
   ],
   "source": [
    "pen_hog2.info()"
   ]
  },
  {
   "cell_type": "markdown",
   "metadata": {},
   "source": [
    "Para el año 2014, primer trimestre, solo hay info hasta la provincia con Id_Provincia=16. Rellenaremos los valores faltantes de cada columna con el promedio correspondiente a los valores dentro de ese año y trimestre correspondiente a cada columna."
   ]
  },
  {
   "cell_type": "code",
   "execution_count": 46,
   "metadata": {},
   "outputs": [
    {
     "data": {
      "text/html": [
       "<div>\n",
       "<style scoped>\n",
       "    .dataframe tbody tr th:only-of-type {\n",
       "        vertical-align: middle;\n",
       "    }\n",
       "\n",
       "    .dataframe tbody tr th {\n",
       "        vertical-align: top;\n",
       "    }\n",
       "\n",
       "    .dataframe thead th {\n",
       "        text-align: right;\n",
       "    }\n",
       "</style>\n",
       "<table border=\"1\" class=\"dataframe\">\n",
       "  <thead>\n",
       "    <tr style=\"text-align: right;\">\n",
       "      <th></th>\n",
       "      <th>Año</th>\n",
       "      <th>Trimestre</th>\n",
       "      <th>Accesos por cada 100 hogares</th>\n",
       "      <th>Año-Trimestre</th>\n",
       "      <th>Id_Provincia</th>\n",
       "    </tr>\n",
       "  </thead>\n",
       "  <tbody>\n",
       "    <tr>\n",
       "      <th>0</th>\n",
       "      <td>2024</td>\n",
       "      <td>2</td>\n",
       "      <td>79.84</td>\n",
       "      <td>20242</td>\n",
       "      <td>2</td>\n",
       "    </tr>\n",
       "    <tr>\n",
       "      <th>1</th>\n",
       "      <td>2024</td>\n",
       "      <td>2</td>\n",
       "      <td>116.37</td>\n",
       "      <td>20242</td>\n",
       "      <td>1</td>\n",
       "    </tr>\n",
       "    <tr>\n",
       "      <th>2</th>\n",
       "      <td>2024</td>\n",
       "      <td>2</td>\n",
       "      <td>68.81</td>\n",
       "      <td>20242</td>\n",
       "      <td>3</td>\n",
       "    </tr>\n",
       "    <tr>\n",
       "      <th>3</th>\n",
       "      <td>2024</td>\n",
       "      <td>2</td>\n",
       "      <td>44.06</td>\n",
       "      <td>20242</td>\n",
       "      <td>4</td>\n",
       "    </tr>\n",
       "    <tr>\n",
       "      <th>4</th>\n",
       "      <td>2024</td>\n",
       "      <td>2</td>\n",
       "      <td>86.33</td>\n",
       "      <td>20242</td>\n",
       "      <td>5</td>\n",
       "    </tr>\n",
       "    <tr>\n",
       "      <th>...</th>\n",
       "      <td>...</td>\n",
       "      <td>...</td>\n",
       "      <td>...</td>\n",
       "      <td>...</td>\n",
       "      <td>...</td>\n",
       "    </tr>\n",
       "    <tr>\n",
       "      <th>1003</th>\n",
       "      <td>2014</td>\n",
       "      <td>1</td>\n",
       "      <td>38.28</td>\n",
       "      <td>20141</td>\n",
       "      <td>20</td>\n",
       "    </tr>\n",
       "    <tr>\n",
       "      <th>1004</th>\n",
       "      <td>2014</td>\n",
       "      <td>1</td>\n",
       "      <td>38.28</td>\n",
       "      <td>20141</td>\n",
       "      <td>21</td>\n",
       "    </tr>\n",
       "    <tr>\n",
       "      <th>1005</th>\n",
       "      <td>2014</td>\n",
       "      <td>1</td>\n",
       "      <td>38.28</td>\n",
       "      <td>20141</td>\n",
       "      <td>22</td>\n",
       "    </tr>\n",
       "    <tr>\n",
       "      <th>1006</th>\n",
       "      <td>2014</td>\n",
       "      <td>1</td>\n",
       "      <td>38.28</td>\n",
       "      <td>20141</td>\n",
       "      <td>23</td>\n",
       "    </tr>\n",
       "    <tr>\n",
       "      <th>1007</th>\n",
       "      <td>2014</td>\n",
       "      <td>1</td>\n",
       "      <td>38.28</td>\n",
       "      <td>20141</td>\n",
       "      <td>24</td>\n",
       "    </tr>\n",
       "  </tbody>\n",
       "</table>\n",
       "<p>1008 rows × 5 columns</p>\n",
       "</div>"
      ],
      "text/plain": [
       "       Año  Trimestre  Accesos por cada 100 hogares  Año-Trimestre  \\\n",
       "0     2024          2                         79.84          20242   \n",
       "1     2024          2                        116.37          20242   \n",
       "2     2024          2                         68.81          20242   \n",
       "3     2024          2                         44.06          20242   \n",
       "4     2024          2                         86.33          20242   \n",
       "...    ...        ...                           ...            ...   \n",
       "1003  2014          1                         38.28          20141   \n",
       "1004  2014          1                         38.28          20141   \n",
       "1005  2014          1                         38.28          20141   \n",
       "1006  2014          1                         38.28          20141   \n",
       "1007  2014          1                         38.28          20141   \n",
       "\n",
       "      Id_Provincia  \n",
       "0                2  \n",
       "1                1  \n",
       "2                3  \n",
       "3                4  \n",
       "4                5  \n",
       "...            ...  \n",
       "1003            20  \n",
       "1004            21  \n",
       "1005            22  \n",
       "1006            23  \n",
       "1007            24  \n",
       "\n",
       "[1008 rows x 5 columns]"
      ]
     },
     "execution_count": 46,
     "metadata": {},
     "output_type": "execute_result"
    }
   ],
   "source": [
    "dicc={\"Año\":[2014 for i in range(8)],\n",
    "      \"Trimestre\":[1 for i in range(8)],\n",
    "      \"Accesos por cada 100 hogares\":[round(pen_hog2.loc[999-15:999,\"Accesos por cada 100 hogares\"].mean(),2) for i in range(8)],\n",
    "      \"Año-Trimestre\":[20141 for i in range(8)],\n",
    "      \"Id_Provincia\":[i for i in range(17,25)]}\n",
    "df=pd.DataFrame(dicc)\n",
    "pen_hog3=pd.concat([pen_hog2, df], ignore_index=True)\n",
    "pen_hog3"
   ]
  },
  {
   "cell_type": "markdown",
   "metadata": {},
   "source": [
    "Hacemos que los números enteros, queden solo con dos cifras decimales."
   ]
  },
  {
   "cell_type": "code",
   "execution_count": 47,
   "metadata": {},
   "outputs": [],
   "source": [
    "pen_hog3[\"Accesos por cada 100 hogares\"]=pen_hog3[\"Accesos por cada 100 hogares\"].round(2)"
   ]
  },
  {
   "cell_type": "code",
   "execution_count": 48,
   "metadata": {},
   "outputs": [],
   "source": [
    "pen_hog3.to_csv('./Database/Tablas_de_hecho/Penetracion_hogares.csv',index=False, decimal=',')"
   ]
  },
  {
   "cell_type": "markdown",
   "metadata": {},
   "source": [
    "<u>PENETRACION_TOTALES</u>"
   ]
  },
  {
   "cell_type": "code",
   "execution_count": 49,
   "metadata": {},
   "outputs": [
    {
     "data": {
      "text/html": [
       "<div>\n",
       "<style scoped>\n",
       "    .dataframe tbody tr th:only-of-type {\n",
       "        vertical-align: middle;\n",
       "    }\n",
       "\n",
       "    .dataframe tbody tr th {\n",
       "        vertical-align: top;\n",
       "    }\n",
       "\n",
       "    .dataframe thead th {\n",
       "        text-align: right;\n",
       "    }\n",
       "</style>\n",
       "<table border=\"1\" class=\"dataframe\">\n",
       "  <thead>\n",
       "    <tr style=\"text-align: right;\">\n",
       "      <th></th>\n",
       "      <th>Año</th>\n",
       "      <th>Trimestre</th>\n",
       "      <th>Accesos por cada 100 hogares</th>\n",
       "      <th>Accesos por cada 100 hab</th>\n",
       "      <th>Periodo</th>\n",
       "    </tr>\n",
       "  </thead>\n",
       "  <tbody>\n",
       "    <tr>\n",
       "      <th>0</th>\n",
       "      <td>2024</td>\n",
       "      <td>2</td>\n",
       "      <td>78.13</td>\n",
       "      <td>24.57</td>\n",
       "      <td>Abr-Jun 2024</td>\n",
       "    </tr>\n",
       "    <tr>\n",
       "      <th>1</th>\n",
       "      <td>2024</td>\n",
       "      <td>1</td>\n",
       "      <td>78.89</td>\n",
       "      <td>24.79</td>\n",
       "      <td>Ene-Mar 2024</td>\n",
       "    </tr>\n",
       "    <tr>\n",
       "      <th>2</th>\n",
       "      <td>2023</td>\n",
       "      <td>4</td>\n",
       "      <td>78.56</td>\n",
       "      <td>24.66</td>\n",
       "      <td>Oct-Dic 2023</td>\n",
       "    </tr>\n",
       "    <tr>\n",
       "      <th>3</th>\n",
       "      <td>2023</td>\n",
       "      <td>3</td>\n",
       "      <td>77.84</td>\n",
       "      <td>24.41</td>\n",
       "      <td>Jul-Sept 2023</td>\n",
       "    </tr>\n",
       "    <tr>\n",
       "      <th>4</th>\n",
       "      <td>2023</td>\n",
       "      <td>2</td>\n",
       "      <td>77.02</td>\n",
       "      <td>24.14</td>\n",
       "      <td>Abr-Jun 2023</td>\n",
       "    </tr>\n",
       "  </tbody>\n",
       "</table>\n",
       "</div>"
      ],
      "text/plain": [
       "    Año  Trimestre  Accesos por cada 100 hogares  Accesos por cada 100 hab  \\\n",
       "0  2024          2                         78.13                     24.57   \n",
       "1  2024          1                         78.89                     24.79   \n",
       "2  2023          4                         78.56                     24.66   \n",
       "3  2023          3                         77.84                     24.41   \n",
       "4  2023          2                         77.02                     24.14   \n",
       "\n",
       "         Periodo  \n",
       "0   Abr-Jun 2024  \n",
       "1   Ene-Mar 2024  \n",
       "2   Oct-Dic 2023  \n",
       "3  Jul-Sept 2023  \n",
       "4   Abr-Jun 2023  "
      ]
     },
     "execution_count": 49,
     "metadata": {},
     "output_type": "execute_result"
    }
   ],
   "source": [
    "pen_total1=pen_total.copy()\n",
    "pen_total1.head()"
   ]
  },
  {
   "cell_type": "markdown",
   "metadata": {},
   "source": [
    "La columna Periodo es irrelevante y ya está en la tabla de dimension Trimestre"
   ]
  },
  {
   "cell_type": "code",
   "execution_count": 50,
   "metadata": {},
   "outputs": [],
   "source": [
    "pen_total1=pen_total1.drop(columns=\"Periodo\")"
   ]
  },
  {
   "cell_type": "code",
   "execution_count": 51,
   "metadata": {},
   "outputs": [
    {
     "data": {
      "text/html": [
       "<div>\n",
       "<style scoped>\n",
       "    .dataframe tbody tr th:only-of-type {\n",
       "        vertical-align: middle;\n",
       "    }\n",
       "\n",
       "    .dataframe tbody tr th {\n",
       "        vertical-align: top;\n",
       "    }\n",
       "\n",
       "    .dataframe thead th {\n",
       "        text-align: right;\n",
       "    }\n",
       "</style>\n",
       "<table border=\"1\" class=\"dataframe\">\n",
       "  <thead>\n",
       "    <tr style=\"text-align: right;\">\n",
       "      <th></th>\n",
       "      <th>Año</th>\n",
       "      <th>Trimestre</th>\n",
       "      <th>Accesos por cada 100 hogares</th>\n",
       "      <th>Accesos por cada 100 hab</th>\n",
       "    </tr>\n",
       "  </thead>\n",
       "  <tbody>\n",
       "    <tr>\n",
       "      <th>0</th>\n",
       "      <td>2024</td>\n",
       "      <td>2</td>\n",
       "      <td>78.13</td>\n",
       "      <td>24.57</td>\n",
       "    </tr>\n",
       "    <tr>\n",
       "      <th>1</th>\n",
       "      <td>2024</td>\n",
       "      <td>1</td>\n",
       "      <td>78.89</td>\n",
       "      <td>24.79</td>\n",
       "    </tr>\n",
       "    <tr>\n",
       "      <th>2</th>\n",
       "      <td>2023</td>\n",
       "      <td>4</td>\n",
       "      <td>78.56</td>\n",
       "      <td>24.66</td>\n",
       "    </tr>\n",
       "    <tr>\n",
       "      <th>3</th>\n",
       "      <td>2023</td>\n",
       "      <td>3</td>\n",
       "      <td>77.84</td>\n",
       "      <td>24.41</td>\n",
       "    </tr>\n",
       "    <tr>\n",
       "      <th>4</th>\n",
       "      <td>2023</td>\n",
       "      <td>2</td>\n",
       "      <td>77.02</td>\n",
       "      <td>24.14</td>\n",
       "    </tr>\n",
       "  </tbody>\n",
       "</table>\n",
       "</div>"
      ],
      "text/plain": [
       "    Año  Trimestre  Accesos por cada 100 hogares  Accesos por cada 100 hab\n",
       "0  2024          2                         78.13                     24.57\n",
       "1  2024          1                         78.89                     24.79\n",
       "2  2023          4                         78.56                     24.66\n",
       "3  2023          3                         77.84                     24.41\n",
       "4  2023          2                         77.02                     24.14"
      ]
     },
     "execution_count": 51,
     "metadata": {},
     "output_type": "execute_result"
    }
   ],
   "source": [
    "pen_total1.head()"
   ]
  },
  {
   "cell_type": "markdown",
   "metadata": {},
   "source": [
    "Hacemos que los números enteros, queden solo con dos cifras decimales."
   ]
  },
  {
   "cell_type": "code",
   "execution_count": 52,
   "metadata": {},
   "outputs": [],
   "source": [
    "pen_total1[[\"Accesos por cada 100 hogares\",\"Accesos por cada 100 hab\"]]=pen_total1[[\"Accesos por cada 100 hogares\",\"Accesos por cada 100 hab\"]].round(2)"
   ]
  },
  {
   "cell_type": "markdown",
   "metadata": {},
   "source": [
    "Veamos lineas de tiempo de las columnas de accesos. Para esto primero creamos una columna Año-Trimestre que es el número del año concatenado con el número de trimestre. Esto nos permite hacer una linea histórica que tambien muestre el cambio intertrimestral."
   ]
  },
  {
   "cell_type": "code",
   "execution_count": 53,
   "metadata": {},
   "outputs": [
    {
     "data": {
      "image/png": "[encoded data removed]",
      "text/plain": [
       "<Figure size 1000x1200 with 2 Axes>"
      ]
     },
     "metadata": {},
     "output_type": "display_data"
    }
   ],
   "source": [
    "# Creamos la nueva columna 'Año-Trimestre'\n",
    "pen_total1['Año-Trimestre'] = pen_total1['Año'].astype(str) + pen_total1['Trimestre'].astype(str)\n",
    "\n",
    "# Convertir la nueva columna a tipo numérico \n",
    "pen_total1['Año-Trimestre'] = pen_total1['Año-Trimestre'].astype(int)\n",
    "\n",
    "#Agrupamos por 'Año-Trimestre' y sumar los valores de ambas columnas\n",
    "pen_total1_agrupado = pen_total1.groupby('Año-Trimestre')[['Accesos por cada 100 hogares', 'Accesos por cada 100 hab']].sum()\n",
    "\n",
    "# Crear dos gráficos de línea separados\n",
    "fig, ax = plt.subplots(2, 1, figsize=(10, 12))  # Dos filas, una columna\n",
    "\n",
    "# Gráfico 1: 'Accesos por cada 100 hogares'\n",
    "ax[0].plot(pen_total1_agrupado.index, pen_total1_agrupado['Accesos por cada 100 hogares'], marker='o', linestyle='-', color='b')\n",
    "ax[0].set_title('Accesos por cada 100 hogares')\n",
    "ax[0].set_xlabel('Año-Trimestre')\n",
    "ax[0].set_ylabel('Accesos por cada 100 hogares')\n",
    "ax[0].grid(True)\n",
    "\n",
    "# Gráfico 2: 'Accesos por cada 100 hab'\n",
    "ax[1].plot(pen_total1_agrupado.index, pen_total1_agrupado['Accesos por cada 100 hab'], marker='o', linestyle='-', color='g')\n",
    "ax[1].set_title('Accesos por cada 100 hab')\n",
    "ax[1].set_xlabel('Año-Trimestre')\n",
    "ax[1].set_ylabel('Accesos por cada 100 hab')\n",
    "ax[1].grid(True)\n",
    "\n",
    "# Obtener solo las etiquetas correspondientes al primer trimestre de cada año\n",
    "# Aquí se extraen los valores de 'Año' de los primeros trimestres de cada año\n",
    "xticks = sorted(set([int(str(x)[:4] + '1') for x in pen_total1_agrupado.index]))  # Año + 1\n",
    "\n",
    "# Establecer los ticks del eje X para que solo muestren los primeros trimestres de cada año\n",
    "for axis in ax:\n",
    "    axis.set_xticks(xticks)\n",
    "    axis.set_xticklabels([str(x) for x in xticks])  # Convertir los valores a cadenas si es necesario\n",
    "    axis.tick_params(axis='x', rotation=45)  # Rotar las etiquetas del eje X para mayor legibilidad\n",
    "\n",
    "\n",
    "# Ajustar la visualización\n",
    "plt.tight_layout()\n",
    "\n",
    "# Mostrar los gráficos\n",
    "plt.show()"
   ]
  },
  {
   "cell_type": "markdown",
   "metadata": {},
   "source": [
    "Como puede verse, ambas gráficas son casi iguales si lo analizamos de forma relativa a su respectiva escala. Esto tiene sentido, ya que ambas deberían medir el mismo crecimiento desde un marco de referencia distinto. "
   ]
  },
  {
   "cell_type": "code",
   "execution_count": 54,
   "metadata": {},
   "outputs": [
    {
     "data": {
      "text/html": [
       "<div>\n",
       "<style scoped>\n",
       "    .dataframe tbody tr th:only-of-type {\n",
       "        vertical-align: middle;\n",
       "    }\n",
       "\n",
       "    .dataframe tbody tr th {\n",
       "        vertical-align: top;\n",
       "    }\n",
       "\n",
       "    .dataframe thead th {\n",
       "        text-align: right;\n",
       "    }\n",
       "</style>\n",
       "<table border=\"1\" class=\"dataframe\">\n",
       "  <thead>\n",
       "    <tr style=\"text-align: right;\">\n",
       "      <th></th>\n",
       "      <th>Año</th>\n",
       "      <th>Trimestre</th>\n",
       "      <th>Accesos por cada 100 hogares</th>\n",
       "      <th>Accesos por cada 100 hab</th>\n",
       "      <th>Año-Trimestre</th>\n",
       "    </tr>\n",
       "  </thead>\n",
       "  <tbody>\n",
       "    <tr>\n",
       "      <th>0</th>\n",
       "      <td>2024</td>\n",
       "      <td>2</td>\n",
       "      <td>78.13</td>\n",
       "      <td>24.57</td>\n",
       "      <td>20242</td>\n",
       "    </tr>\n",
       "    <tr>\n",
       "      <th>1</th>\n",
       "      <td>2024</td>\n",
       "      <td>1</td>\n",
       "      <td>78.89</td>\n",
       "      <td>24.79</td>\n",
       "      <td>20241</td>\n",
       "    </tr>\n",
       "    <tr>\n",
       "      <th>2</th>\n",
       "      <td>2023</td>\n",
       "      <td>4</td>\n",
       "      <td>78.56</td>\n",
       "      <td>24.66</td>\n",
       "      <td>20234</td>\n",
       "    </tr>\n",
       "    <tr>\n",
       "      <th>3</th>\n",
       "      <td>2023</td>\n",
       "      <td>3</td>\n",
       "      <td>77.84</td>\n",
       "      <td>24.41</td>\n",
       "      <td>20233</td>\n",
       "    </tr>\n",
       "    <tr>\n",
       "      <th>4</th>\n",
       "      <td>2023</td>\n",
       "      <td>2</td>\n",
       "      <td>77.02</td>\n",
       "      <td>24.14</td>\n",
       "      <td>20232</td>\n",
       "    </tr>\n",
       "  </tbody>\n",
       "</table>\n",
       "</div>"
      ],
      "text/plain": [
       "    Año  Trimestre  Accesos por cada 100 hogares  Accesos por cada 100 hab  \\\n",
       "0  2024          2                         78.13                     24.57   \n",
       "1  2024          1                         78.89                     24.79   \n",
       "2  2023          4                         78.56                     24.66   \n",
       "3  2023          3                         77.84                     24.41   \n",
       "4  2023          2                         77.02                     24.14   \n",
       "\n",
       "   Año-Trimestre  \n",
       "0          20242  \n",
       "1          20241  \n",
       "2          20234  \n",
       "3          20233  \n",
       "4          20232  "
      ]
     },
     "execution_count": 54,
     "metadata": {},
     "output_type": "execute_result"
    }
   ],
   "source": [
    "pen_total1.head()"
   ]
  },
  {
   "cell_type": "code",
   "execution_count": 55,
   "metadata": {},
   "outputs": [],
   "source": [
    "pen_total1.to_csv('./Database/Tablas_de_hecho/Penetracion_total.csv',index=False, decimal=',')"
   ]
  },
  {
   "cell_type": "markdown",
   "metadata": {},
   "source": [
    "<u>ACCESO TOTAL POR RANGO</u>"
   ]
  },
  {
   "cell_type": "code",
   "execution_count": 56,
   "metadata": {},
   "outputs": [
    {
     "data": {
      "text/html": [
       "<div>\n",
       "<style scoped>\n",
       "    .dataframe tbody tr th:only-of-type {\n",
       "        vertical-align: middle;\n",
       "    }\n",
       "\n",
       "    .dataframe tbody tr th {\n",
       "        vertical-align: top;\n",
       "    }\n",
       "\n",
       "    .dataframe thead th {\n",
       "        text-align: right;\n",
       "    }\n",
       "</style>\n",
       "<table border=\"1\" class=\"dataframe\">\n",
       "  <thead>\n",
       "    <tr style=\"text-align: right;\">\n",
       "      <th></th>\n",
       "      <th>Año</th>\n",
       "      <th>Trimestre</th>\n",
       "      <th>Hasta 512 kbps</th>\n",
       "      <th>Entre 512 Kbps y 1 Mbps</th>\n",
       "      <th>Entre 1 Mbps y 6 Mbps</th>\n",
       "      <th>Entre 6 Mbps y 10 Mbps</th>\n",
       "      <th>Entre 10 Mbps y 20 Mbps</th>\n",
       "      <th>Entre 20 Mbps y 30 Mbps</th>\n",
       "      <th>Más de 30 Mbps</th>\n",
       "      <th>OTROS</th>\n",
       "      <th>Total</th>\n",
       "    </tr>\n",
       "  </thead>\n",
       "  <tbody>\n",
       "    <tr>\n",
       "      <th>0</th>\n",
       "      <td>2024</td>\n",
       "      <td>2</td>\n",
       "      <td>28151</td>\n",
       "      <td>67024</td>\n",
       "      <td>840200</td>\n",
       "      <td>911374</td>\n",
       "      <td>662649</td>\n",
       "      <td>348253</td>\n",
       "      <td>8357088</td>\n",
       "      <td>341368</td>\n",
       "      <td>11556107</td>\n",
       "    </tr>\n",
       "    <tr>\n",
       "      <th>1</th>\n",
       "      <td>2024</td>\n",
       "      <td>1</td>\n",
       "      <td>28801</td>\n",
       "      <td>69355</td>\n",
       "      <td>866152</td>\n",
       "      <td>950930</td>\n",
       "      <td>672155</td>\n",
       "      <td>353896</td>\n",
       "      <td>8363694</td>\n",
       "      <td>328173</td>\n",
       "      <td>11633156</td>\n",
       "    </tr>\n",
       "    <tr>\n",
       "      <th>2</th>\n",
       "      <td>2023</td>\n",
       "      <td>4</td>\n",
       "      <td>29708</td>\n",
       "      <td>71742</td>\n",
       "      <td>900253</td>\n",
       "      <td>978108</td>\n",
       "      <td>697232</td>\n",
       "      <td>350290</td>\n",
       "      <td>8224736</td>\n",
       "      <td>295592</td>\n",
       "      <td>11547661</td>\n",
       "    </tr>\n",
       "    <tr>\n",
       "      <th>3</th>\n",
       "      <td>2023</td>\n",
       "      <td>3</td>\n",
       "      <td>30274</td>\n",
       "      <td>80609</td>\n",
       "      <td>945608</td>\n",
       "      <td>998725</td>\n",
       "      <td>720084</td>\n",
       "      <td>350918</td>\n",
       "      <td>8003269</td>\n",
       "      <td>277421</td>\n",
       "      <td>11406908</td>\n",
       "    </tr>\n",
       "    <tr>\n",
       "      <th>4</th>\n",
       "      <td>2023</td>\n",
       "      <td>2</td>\n",
       "      <td>30827</td>\n",
       "      <td>79405</td>\n",
       "      <td>963510</td>\n",
       "      <td>1028250</td>\n",
       "      <td>734125</td>\n",
       "      <td>364730</td>\n",
       "      <td>7775095</td>\n",
       "      <td>275955</td>\n",
       "      <td>11251897</td>\n",
       "    </tr>\n",
       "  </tbody>\n",
       "</table>\n",
       "</div>"
      ],
      "text/plain": [
       "    Año  Trimestre  Hasta 512 kbps  Entre 512 Kbps y 1 Mbps  \\\n",
       "0  2024          2           28151                    67024   \n",
       "1  2024          1           28801                    69355   \n",
       "2  2023          4           29708                    71742   \n",
       "3  2023          3           30274                    80609   \n",
       "4  2023          2           30827                    79405   \n",
       "\n",
       "   Entre 1 Mbps y 6 Mbps  Entre 6 Mbps y 10 Mbps  Entre 10 Mbps y 20 Mbps  \\\n",
       "0                 840200                  911374                   662649   \n",
       "1                 866152                  950930                   672155   \n",
       "2                 900253                  978108                   697232   \n",
       "3                 945608                  998725                   720084   \n",
       "4                 963510                 1028250                   734125   \n",
       "\n",
       "   Entre 20 Mbps y 30 Mbps  Más de 30 Mbps   OTROS     Total  \n",
       "0                   348253         8357088  341368  11556107  \n",
       "1                   353896         8363694  328173  11633156  \n",
       "2                   350290         8224736  295592  11547661  \n",
       "3                   350918         8003269  277421  11406908  \n",
       "4                   364730         7775095  275955  11251897  "
      ]
     },
     "execution_count": 56,
     "metadata": {},
     "output_type": "execute_result"
    }
   ],
   "source": [
    "acc_total_rang3=acc_total_rang.copy()\n",
    "acc_total_rang3.head()"
   ]
  },
  {
   "cell_type": "code",
   "execution_count": 57,
   "metadata": {},
   "outputs": [
    {
     "name": "stdout",
     "output_type": "stream",
     "text": [
      "<class 'pandas.core.frame.DataFrame'>\n",
      "RangeIndex: 42 entries, 0 to 41\n",
      "Data columns (total 11 columns):\n",
      " #   Column                   Non-Null Count  Dtype\n",
      "---  ------                   --------------  -----\n",
      " 0   Año                      42 non-null     int64\n",
      " 1   Trimestre                42 non-null     int64\n",
      " 2   Hasta 512 kbps           42 non-null     int64\n",
      " 3   Entre 512 Kbps y 1 Mbps  42 non-null     int64\n",
      " 4   Entre 1 Mbps y 6 Mbps    42 non-null     int64\n",
      " 5   Entre 6 Mbps y 10 Mbps   42 non-null     int64\n",
      " 6   Entre 10 Mbps y 20 Mbps  42 non-null     int64\n",
      " 7   Entre 20 Mbps y 30 Mbps  42 non-null     int64\n",
      " 8   Más de 30 Mbps           42 non-null     int64\n",
      " 9   OTROS                    42 non-null     int64\n",
      " 10  Total                    42 non-null     int64\n",
      "dtypes: int64(11)\n",
      "memory usage: 3.7 KB\n"
     ]
    }
   ],
   "source": [
    "acc_total_rang3.info()"
   ]
  },
  {
   "cell_type": "markdown",
   "metadata": {},
   "source": [
    "Renombramos algunas columnas"
   ]
  },
  {
   "cell_type": "code",
   "execution_count": 58,
   "metadata": {},
   "outputs": [],
   "source": [
    "acc_total_rang3=acc_total_rang3.rename(columns={\"Hasta 512 kbps\":\"Menos 0.512 Mb/s\",\n",
    "                                                \"Entre 512 Kbps y 1 Mbps\":\"[0.512 , 1] Mb/s\",\n",
    "                                                \"Entre 1 Mbps y 6 Mbps\":\"[1 , 6] Mb/s\",\n",
    "                                                \"Entre 6 Mbps y 10 Mbps\":\"[6 , 10] Mb/s\",\n",
    "                                                \"Entre 10 Mbps y 20 Mbps\":\"[10 , 20] Mb/s\",\n",
    "                                                \"Entre 20 Mbps y 30 Mbps\":\"[20 , 30] Mb/s\",\n",
    "                                                \"Más de 30 Mbps\":\"Más 30 Mb/s\",\n",
    "                                                \"OTROS\":\"Otros\"})"
   ]
  },
  {
   "cell_type": "markdown",
   "metadata": {},
   "source": [
    "Hagamos una linea histórica de las mismas características que antes para cada rango de velocidad."
   ]
  },
  {
   "cell_type": "code",
   "execution_count": 59,
   "metadata": {},
   "outputs": [
    {
     "data": {
      "image/png": "[encoded data removed]",
      "text/plain": [
       "<Figure size 1000x600 with 1 Axes>"
      ]
     },
     "metadata": {},
     "output_type": "display_data"
    }
   ],
   "source": [
    "acc_total_rang3['Año-Trimestre'] = acc_total_rang3['Año'].astype(str) + acc_total_rang3['Trimestre'].astype(str)\n",
    "\n",
    "acc_total_rang3['Año-Trimestre'] = acc_total_rang3['Año-Trimestre'].astype(int)\n",
    "\n",
    "acc_total_rang3_agrupado = acc_total_rang3.groupby('Año-Trimestre')[['Menos 0.512 Mb/s','[0.512 , 1] Mb/s','[1 , 6] Mb/s','[10 , 20] Mb/s',\n",
    "                                                                     '[20 , 30] Mb/s','Más 30 Mb/s','Otros']].sum()\n",
    "punto=5\n",
    "\n",
    "plt.figure(figsize=(10, 6))\n",
    "\n",
    "plt.plot(acc_total_rang3_agrupado.index, acc_total_rang3_agrupado['Menos 0.512 Mb/s'], marker='o', linestyle='-', label='Menos 0.512 Mb/s', color='b',markersize=punto)\n",
    "plt.plot(acc_total_rang3_agrupado.index, acc_total_rang3_agrupado['[0.512 , 1] Mb/s'], marker='o', linestyle='-', label='[0.512 , 1] Mb/s', color='g',markersize=punto)\n",
    "plt.plot(acc_total_rang3_agrupado.index, acc_total_rang3_agrupado['[1 , 6] Mb/s'], marker='o', linestyle='-', label='[1 , 6] Mb/s', color='r',markersize=punto)\n",
    "plt.plot(acc_total_rang3_agrupado.index, acc_total_rang3_agrupado['[10 , 20] Mb/s'], marker='o', linestyle='-', label='[10 , 20] Mb/s', color='c',markersize=punto)\n",
    "plt.plot(acc_total_rang3_agrupado.index, acc_total_rang3_agrupado['[20 , 30] Mb/s'], marker='o', linestyle='-', label='[20 , 30] Mb/s', color='m',markersize=punto)\n",
    "plt.plot(acc_total_rang3_agrupado.index, acc_total_rang3_agrupado['Más 30 Mb/s'], marker='o', linestyle='-', label='Más 30 Mb/s', color='y',markersize=punto)\n",
    "plt.plot(acc_total_rang3_agrupado.index, acc_total_rang3_agrupado['Otros'], marker='o', linestyle='-', label='Otros', color='k',markersize=punto)\n",
    "\n",
    "# Etiquetas y título\n",
    "plt.xlabel('Año-Trimestre')\n",
    "plt.ylabel('Velocidades de conección')\n",
    "plt.title('Evolución histórica de los accesos a internet Velocidades de conección')\n",
    "plt.xticks(rotation=45) \n",
    "\n",
    "xticks = sorted(set([int(str(x)[:4] + '1') for x in acc_total_rang3_agrupado.index]))\n",
    "plt.xticks(xticks, [str(x) for x in xticks], rotation=45)\n",
    "\n",
    "plt.grid(True)\n",
    "\n",
    "# Mostrar la leyenda\n",
    "plt.legend()\n",
    "\n",
    "# Ajuste de la visualización\n",
    "plt.tight_layout()\n",
    "\n",
    "# Mostrar el gráfico\n",
    "plt.show()\n"
   ]
  },
  {
   "cell_type": "markdown",
   "metadata": {},
   "source": [
    "Con una vista general podemos ver que los accesos a las volidades del rango [1,6] han disminuído de forma muy brusca a lo largo de los años, miestras que los del rango \"Mas 30\" han aumentado en gran medida. Esto tiene sentido ya que, con el correr de los años, la estructura tecnológica de las ciudades tambien ha aumentado, lo que puede haber facilitado el acceso a mayores velocidades de conección para todo el público. Esto tambíen explicaría el periodo de crecimiento de los rangos de velocidades [10,20] y [20,30] y que su periodo de mayor caida coincida con el de mayor crecimiento del \"Mas 30\". El resto de rangos de velocidades, en general han terminado con mayores accesos de los que comenzaron, pero su variación no ha sido tan destacable."
   ]
  },
  {
   "cell_type": "code",
   "execution_count": 60,
   "metadata": {},
   "outputs": [
    {
     "name": "stdout",
     "output_type": "stream",
     "text": [
      "<class 'pandas.core.frame.DataFrame'>\n",
      "RangeIndex: 42 entries, 0 to 41\n",
      "Data columns (total 12 columns):\n",
      " #   Column            Non-Null Count  Dtype\n",
      "---  ------            --------------  -----\n",
      " 0   Año               42 non-null     int64\n",
      " 1   Trimestre         42 non-null     int64\n",
      " 2   Menos 0.512 Mb/s  42 non-null     int64\n",
      " 3   [0.512 , 1] Mb/s  42 non-null     int64\n",
      " 4   [1 , 6] Mb/s      42 non-null     int64\n",
      " 5   [6 , 10] Mb/s     42 non-null     int64\n",
      " 6   [10 , 20] Mb/s    42 non-null     int64\n",
      " 7   [20 , 30] Mb/s    42 non-null     int64\n",
      " 8   Más 30 Mb/s       42 non-null     int64\n",
      " 9   Otros             42 non-null     int64\n",
      " 10  Total             42 non-null     int64\n",
      " 11  Año-Trimestre     42 non-null     int64\n",
      "dtypes: int64(12)\n",
      "memory usage: 4.1 KB\n"
     ]
    }
   ],
   "source": [
    "acc_total_rang3.info()"
   ]
  },
  {
   "cell_type": "code",
   "execution_count": 61,
   "metadata": {},
   "outputs": [],
   "source": [
    "acc_total_rang3.to_csv('./Database/Tablas_de_hecho/Acceso_total_por_rango.csv',index=False, decimal=',')"
   ]
  },
  {
   "cell_type": "markdown",
   "metadata": {},
   "source": [
    "<u>ACCESO POR RANGO</u>"
   ]
  },
  {
   "cell_type": "code",
   "execution_count": 62,
   "metadata": {},
   "outputs": [
    {
     "data": {
      "text/html": [
       "<div>\n",
       "<style scoped>\n",
       "    .dataframe tbody tr th:only-of-type {\n",
       "        vertical-align: middle;\n",
       "    }\n",
       "\n",
       "    .dataframe tbody tr th {\n",
       "        vertical-align: top;\n",
       "    }\n",
       "\n",
       "    .dataframe thead th {\n",
       "        text-align: right;\n",
       "    }\n",
       "</style>\n",
       "<table border=\"1\" class=\"dataframe\">\n",
       "  <thead>\n",
       "    <tr style=\"text-align: right;\">\n",
       "      <th></th>\n",
       "      <th>Año</th>\n",
       "      <th>Trimestre</th>\n",
       "      <th>Provincia</th>\n",
       "      <th>HASTA 512 kbps</th>\n",
       "      <th>+ 512 Kbps - 1 Mbps</th>\n",
       "      <th>+ 1 Mbps - 6 Mbps</th>\n",
       "      <th>+ 6 Mbps - 10 Mbps</th>\n",
       "      <th>+ 10 Mbps - 20 Mbps</th>\n",
       "      <th>+ 20 Mbps - 30 Mbps</th>\n",
       "      <th>+ 30 Mbps</th>\n",
       "      <th>OTROS</th>\n",
       "      <th>Total</th>\n",
       "    </tr>\n",
       "  </thead>\n",
       "  <tbody>\n",
       "    <tr>\n",
       "      <th>0</th>\n",
       "      <td>2024</td>\n",
       "      <td>2</td>\n",
       "      <td>Buenos Aires</td>\n",
       "      <td>25287.0</td>\n",
       "      <td>23034.0</td>\n",
       "      <td>222627.0</td>\n",
       "      <td>221660.0</td>\n",
       "      <td>244528.0</td>\n",
       "      <td>106302.0</td>\n",
       "      <td>4020395.0</td>\n",
       "      <td>125547.0</td>\n",
       "      <td>4989380.0</td>\n",
       "    </tr>\n",
       "    <tr>\n",
       "      <th>1</th>\n",
       "      <td>2024</td>\n",
       "      <td>2</td>\n",
       "      <td>Capital Federal</td>\n",
       "      <td>518.0</td>\n",
       "      <td>4122.0</td>\n",
       "      <td>24539.0</td>\n",
       "      <td>40296.0</td>\n",
       "      <td>33158.0</td>\n",
       "      <td>5633.0</td>\n",
       "      <td>1355333.0</td>\n",
       "      <td>0.0</td>\n",
       "      <td>1463599.0</td>\n",
       "    </tr>\n",
       "    <tr>\n",
       "      <th>2</th>\n",
       "      <td>2024</td>\n",
       "      <td>2</td>\n",
       "      <td>Catamarca</td>\n",
       "      <td>72.0</td>\n",
       "      <td>164.0</td>\n",
       "      <td>2660.0</td>\n",
       "      <td>3093.0</td>\n",
       "      <td>3799.0</td>\n",
       "      <td>1279.0</td>\n",
       "      <td>63954.0</td>\n",
       "      <td>53.0</td>\n",
       "      <td>75074.0</td>\n",
       "    </tr>\n",
       "    <tr>\n",
       "      <th>3</th>\n",
       "      <td>2024</td>\n",
       "      <td>2</td>\n",
       "      <td>Chaco</td>\n",
       "      <td>236.0</td>\n",
       "      <td>349.0</td>\n",
       "      <td>14594.0</td>\n",
       "      <td>8336.0</td>\n",
       "      <td>6208.0</td>\n",
       "      <td>6454.0</td>\n",
       "      <td>107707.0</td>\n",
       "      <td>3208.0</td>\n",
       "      <td>147092.0</td>\n",
       "    </tr>\n",
       "    <tr>\n",
       "      <th>4</th>\n",
       "      <td>2024</td>\n",
       "      <td>2</td>\n",
       "      <td>Chubut</td>\n",
       "      <td>125.0</td>\n",
       "      <td>1139.0</td>\n",
       "      <td>43699.0</td>\n",
       "      <td>31971.0</td>\n",
       "      <td>22696.0</td>\n",
       "      <td>19827.0</td>\n",
       "      <td>38212.0</td>\n",
       "      <td>16554.0</td>\n",
       "      <td>174223.0</td>\n",
       "    </tr>\n",
       "  </tbody>\n",
       "</table>\n",
       "</div>"
      ],
      "text/plain": [
       "    Año  Trimestre        Provincia  HASTA 512 kbps  + 512 Kbps - 1 Mbps  \\\n",
       "0  2024          2     Buenos Aires         25287.0              23034.0   \n",
       "1  2024          2  Capital Federal           518.0               4122.0   \n",
       "2  2024          2        Catamarca            72.0                164.0   \n",
       "3  2024          2            Chaco           236.0                349.0   \n",
       "4  2024          2           Chubut           125.0               1139.0   \n",
       "\n",
       "   + 1 Mbps - 6 Mbps  + 6 Mbps - 10 Mbps  + 10 Mbps - 20 Mbps  \\\n",
       "0           222627.0            221660.0             244528.0   \n",
       "1            24539.0             40296.0              33158.0   \n",
       "2             2660.0              3093.0               3799.0   \n",
       "3            14594.0              8336.0               6208.0   \n",
       "4            43699.0             31971.0              22696.0   \n",
       "\n",
       "   + 20 Mbps - 30 Mbps  + 30 Mbps     OTROS      Total  \n",
       "0             106302.0  4020395.0  125547.0  4989380.0  \n",
       "1               5633.0  1355333.0       0.0  1463599.0  \n",
       "2               1279.0    63954.0      53.0    75074.0  \n",
       "3               6454.0   107707.0    3208.0   147092.0  \n",
       "4              19827.0    38212.0   16554.0   174223.0  "
      ]
     },
     "execution_count": 62,
     "metadata": {},
     "output_type": "execute_result"
    }
   ],
   "source": [
    "acc_rang1=acc_rang.copy()\n",
    "acc_rang1.head()"
   ]
  },
  {
   "cell_type": "code",
   "execution_count": 63,
   "metadata": {},
   "outputs": [
    {
     "name": "stdout",
     "output_type": "stream",
     "text": [
      "<class 'pandas.core.frame.DataFrame'>\n",
      "RangeIndex: 1000 entries, 0 to 999\n",
      "Data columns (total 12 columns):\n",
      " #   Column               Non-Null Count  Dtype  \n",
      "---  ------               --------------  -----  \n",
      " 0   Año                  1000 non-null   int64  \n",
      " 1   Trimestre            1000 non-null   int64  \n",
      " 2   Provincia            1000 non-null   object \n",
      " 3   HASTA 512 kbps       1000 non-null   float64\n",
      " 4   + 512 Kbps - 1 Mbps  1000 non-null   float64\n",
      " 5   + 1 Mbps - 6 Mbps    1000 non-null   float64\n",
      " 6   + 6 Mbps - 10 Mbps   1000 non-null   float64\n",
      " 7   + 10 Mbps - 20 Mbps  1000 non-null   float64\n",
      " 8   + 20 Mbps - 30 Mbps  1000 non-null   float64\n",
      " 9   + 30 Mbps            1000 non-null   float64\n",
      " 10  OTROS                994 non-null    float64\n",
      " 11  Total                1000 non-null   float64\n",
      "dtypes: float64(9), int64(2), object(1)\n",
      "memory usage: 93.9+ KB\n"
     ]
    }
   ],
   "source": [
    "acc_rang1.info()"
   ]
  },
  {
   "cell_type": "markdown",
   "metadata": {},
   "source": [
    "¿Qué podemos hacer con los NaN de la columna OTROS?"
   ]
  },
  {
   "cell_type": "code",
   "execution_count": 64,
   "metadata": {},
   "outputs": [
    {
     "name": "stdout",
     "output_type": "stream",
     "text": [
      "481    0.0\n",
      "491    0.0\n",
      "492    0.0\n",
      "499    0.0\n",
      "502    0.0\n",
      "503    0.0\n",
      "dtype: float64\n"
     ]
    }
   ],
   "source": [
    "nan = acc_rang1[acc_rang1['OTROS'].isna()]\n",
    "print(nan[\"HASTA 512 kbps\"]+nan[\"+ 512 Kbps - 1 Mbps\"]+nan[\"+ 1 Mbps - 6 Mbps\"]+nan[\"+ 6 Mbps - 10 Mbps\"]+nan[\"+ 10 Mbps - 20 Mbps\"]+\n",
    "      nan[\"+ 20 Mbps - 30 Mbps\"]+nan[\"+ 30 Mbps\"]-nan[\"Total\"])"
   ]
  },
  {
   "cell_type": "markdown",
   "metadata": {},
   "source": [
    "Como se puede ver, si sumamos toas las columnas menos OTROS, para las filas que tienen nulos allí, el resultado es la columna Total. Por lo que podemos reemplazar los NaN de OTROS por ceros"
   ]
  },
  {
   "cell_type": "code",
   "execution_count": 65,
   "metadata": {},
   "outputs": [],
   "source": [
    "acc_rang1.fillna(0,inplace=True)"
   ]
  },
  {
   "cell_type": "code",
   "execution_count": 66,
   "metadata": {},
   "outputs": [
    {
     "name": "stdout",
     "output_type": "stream",
     "text": [
      "<class 'pandas.core.frame.DataFrame'>\n",
      "RangeIndex: 1000 entries, 0 to 999\n",
      "Data columns (total 12 columns):\n",
      " #   Column               Non-Null Count  Dtype  \n",
      "---  ------               --------------  -----  \n",
      " 0   Año                  1000 non-null   int64  \n",
      " 1   Trimestre            1000 non-null   int64  \n",
      " 2   Provincia            1000 non-null   object \n",
      " 3   HASTA 512 kbps       1000 non-null   float64\n",
      " 4   + 512 Kbps - 1 Mbps  1000 non-null   float64\n",
      " 5   + 1 Mbps - 6 Mbps    1000 non-null   float64\n",
      " 6   + 6 Mbps - 10 Mbps   1000 non-null   float64\n",
      " 7   + 10 Mbps - 20 Mbps  1000 non-null   float64\n",
      " 8   + 20 Mbps - 30 Mbps  1000 non-null   float64\n",
      " 9   + 30 Mbps            1000 non-null   float64\n",
      " 10  OTROS                1000 non-null   float64\n",
      " 11  Total                1000 non-null   float64\n",
      "dtypes: float64(9), int64(2), object(1)\n",
      "memory usage: 93.9+ KB\n"
     ]
    }
   ],
   "source": [
    "acc_rang1.info()"
   ]
  },
  {
   "cell_type": "markdown",
   "metadata": {},
   "source": [
    "Renombramos algunas columnas"
   ]
  },
  {
   "cell_type": "code",
   "execution_count": 67,
   "metadata": {},
   "outputs": [],
   "source": [
    "acc_rang1=acc_rang1.rename(columns={\"HASTA 512 kbps\":\"Menos 0.512 Mb/s\",\n",
    "                                    \"+ 512 Kbps - 1 Mbps\":\"[0.512 , 1] Mb/s\",\n",
    "                                    \"+ 1 Mbps - 6 Mbps\":\"[1 , 6] Mb/s\",\n",
    "                                    \"+ 6 Mbps - 10 Mbps\":\"[6 , 10] Mb/s\",\n",
    "                                    \"+ 10 Mbps - 20 Mbps\":\"[10 , 20] Mb/s\",\n",
    "                                    \"+ 20 Mbps - 30 Mbps\":\"[20 , 30] Mb/s\",\n",
    "                                    \"+ 30 Mbps\":\"Más 30 Mb/s\",\n",
    "                                    \"OTROS\":\"Otros\"})"
   ]
  },
  {
   "cell_type": "code",
   "execution_count": 68,
   "metadata": {},
   "outputs": [],
   "source": [
    "acc_rang1['Año-Trimestre'] = acc_rang1['Año'].astype(str) + acc_rang1['Trimestre'].astype(str)\n",
    "acc_rang1['Año-Trimestre'] = acc_rang1['Año-Trimestre'].astype(int)"
   ]
  },
  {
   "cell_type": "markdown",
   "metadata": {},
   "source": [
    "Normalizamos el formato de texto en la columna Provincias, traemos la columna Id_Provinvias y eliminamos la anterior"
   ]
  },
  {
   "cell_type": "code",
   "execution_count": 69,
   "metadata": {},
   "outputs": [],
   "source": [
    "acc_rang1.loc[:, \"Provincia\"]=acc_rang1[\"Provincia\"].apply(normalizacion_palabras)\n",
    "acc_rang1[\"Provincia\"] = acc_rang1[\"Provincia\"].replace(\"Ciudad Autonoma de Buenos Aires\", \"Caba\")\n",
    "acc_rang1[\"Provincia\"] = acc_rang1[\"Provincia\"].replace(\"Capital Federal\", \"Caba\")\n",
    "acc_rang1 = acc_rang1.merge(provincias[[\"Provincia\", \"Id_Provincia\"]], left_on=\"Provincia\", right_on=\"Provincia\", how=\"left\")\n",
    "acc_rang2=acc_rang1.drop(columns=\"Provincia\")"
   ]
  },
  {
   "cell_type": "code",
   "execution_count": 70,
   "metadata": {},
   "outputs": [
    {
     "name": "stdout",
     "output_type": "stream",
     "text": [
      "<class 'pandas.core.frame.DataFrame'>\n",
      "RangeIndex: 1000 entries, 0 to 999\n",
      "Data columns (total 13 columns):\n",
      " #   Column            Non-Null Count  Dtype  \n",
      "---  ------            --------------  -----  \n",
      " 0   Año               1000 non-null   int64  \n",
      " 1   Trimestre         1000 non-null   int64  \n",
      " 2   Menos 0.512 Mb/s  1000 non-null   float64\n",
      " 3   [0.512 , 1] Mb/s  1000 non-null   float64\n",
      " 4   [1 , 6] Mb/s      1000 non-null   float64\n",
      " 5   [6 , 10] Mb/s     1000 non-null   float64\n",
      " 6   [10 , 20] Mb/s    1000 non-null   float64\n",
      " 7   [20 , 30] Mb/s    1000 non-null   float64\n",
      " 8   Más 30 Mb/s       1000 non-null   float64\n",
      " 9   Otros             1000 non-null   float64\n",
      " 10  Total             1000 non-null   float64\n",
      " 11  Año-Trimestre     1000 non-null   int64  \n",
      " 12  Id_Provincia      1000 non-null   int64  \n",
      "dtypes: float64(9), int64(4)\n",
      "memory usage: 101.7 KB\n"
     ]
    }
   ],
   "source": [
    "acc_rang2.info()"
   ]
  },
  {
   "cell_type": "code",
   "execution_count": 71,
   "metadata": {},
   "outputs": [],
   "source": [
    "for column in acc_rang2.columns:\n",
    "    acc_rang2[column]=acc_rang2[column].astype(int)"
   ]
  },
  {
   "cell_type": "markdown",
   "metadata": {},
   "source": [
    "Para el año 2014, primer trimestre, solo hay info hasta la provincia con Id_Provincia=16. Rellenaremos los valores faltantes de cada columna con el promedio correspondiente a los valores dentro de ese año y trimestre correspondiente a cada columna."
   ]
  },
  {
   "cell_type": "code",
   "execution_count": 72,
   "metadata": {},
   "outputs": [
    {
     "data": {
      "text/html": [
       "<div>\n",
       "<style scoped>\n",
       "    .dataframe tbody tr th:only-of-type {\n",
       "        vertical-align: middle;\n",
       "    }\n",
       "\n",
       "    .dataframe tbody tr th {\n",
       "        vertical-align: top;\n",
       "    }\n",
       "\n",
       "    .dataframe thead th {\n",
       "        text-align: right;\n",
       "    }\n",
       "</style>\n",
       "<table border=\"1\" class=\"dataframe\">\n",
       "  <thead>\n",
       "    <tr style=\"text-align: right;\">\n",
       "      <th></th>\n",
       "      <th>Año</th>\n",
       "      <th>Trimestre</th>\n",
       "      <th>Menos 0.512 Mb/s</th>\n",
       "      <th>[0.512 , 1] Mb/s</th>\n",
       "      <th>[1 , 6] Mb/s</th>\n",
       "      <th>[6 , 10] Mb/s</th>\n",
       "      <th>[10 , 20] Mb/s</th>\n",
       "      <th>[20 , 30] Mb/s</th>\n",
       "      <th>Más 30 Mb/s</th>\n",
       "      <th>Otros</th>\n",
       "      <th>Total</th>\n",
       "      <th>Año-Trimestre</th>\n",
       "      <th>Id_Provincia</th>\n",
       "    </tr>\n",
       "  </thead>\n",
       "  <tbody>\n",
       "    <tr>\n",
       "      <th>0</th>\n",
       "      <td>2024</td>\n",
       "      <td>2</td>\n",
       "      <td>25287.0</td>\n",
       "      <td>23034.00</td>\n",
       "      <td>222627.00</td>\n",
       "      <td>221660.00</td>\n",
       "      <td>244528.00</td>\n",
       "      <td>106302.00</td>\n",
       "      <td>4020395.00</td>\n",
       "      <td>125547.0</td>\n",
       "      <td>4989380.00</td>\n",
       "      <td>20242</td>\n",
       "      <td>2</td>\n",
       "    </tr>\n",
       "    <tr>\n",
       "      <th>1</th>\n",
       "      <td>2024</td>\n",
       "      <td>2</td>\n",
       "      <td>518.0</td>\n",
       "      <td>4122.00</td>\n",
       "      <td>24539.00</td>\n",
       "      <td>40296.00</td>\n",
       "      <td>33158.00</td>\n",
       "      <td>5633.00</td>\n",
       "      <td>1355333.00</td>\n",
       "      <td>0.0</td>\n",
       "      <td>1463599.00</td>\n",
       "      <td>20242</td>\n",
       "      <td>1</td>\n",
       "    </tr>\n",
       "    <tr>\n",
       "      <th>2</th>\n",
       "      <td>2024</td>\n",
       "      <td>2</td>\n",
       "      <td>72.0</td>\n",
       "      <td>164.00</td>\n",
       "      <td>2660.00</td>\n",
       "      <td>3093.00</td>\n",
       "      <td>3799.00</td>\n",
       "      <td>1279.00</td>\n",
       "      <td>63954.00</td>\n",
       "      <td>53.0</td>\n",
       "      <td>75074.00</td>\n",
       "      <td>20242</td>\n",
       "      <td>3</td>\n",
       "    </tr>\n",
       "    <tr>\n",
       "      <th>3</th>\n",
       "      <td>2024</td>\n",
       "      <td>2</td>\n",
       "      <td>236.0</td>\n",
       "      <td>349.00</td>\n",
       "      <td>14594.00</td>\n",
       "      <td>8336.00</td>\n",
       "      <td>6208.00</td>\n",
       "      <td>6454.00</td>\n",
       "      <td>107707.00</td>\n",
       "      <td>3208.0</td>\n",
       "      <td>147092.00</td>\n",
       "      <td>20242</td>\n",
       "      <td>4</td>\n",
       "    </tr>\n",
       "    <tr>\n",
       "      <th>4</th>\n",
       "      <td>2024</td>\n",
       "      <td>2</td>\n",
       "      <td>125.0</td>\n",
       "      <td>1139.00</td>\n",
       "      <td>43699.00</td>\n",
       "      <td>31971.00</td>\n",
       "      <td>22696.00</td>\n",
       "      <td>19827.00</td>\n",
       "      <td>38212.00</td>\n",
       "      <td>16554.0</td>\n",
       "      <td>174223.00</td>\n",
       "      <td>20242</td>\n",
       "      <td>5</td>\n",
       "    </tr>\n",
       "    <tr>\n",
       "      <th>...</th>\n",
       "      <td>...</td>\n",
       "      <td>...</td>\n",
       "      <td>...</td>\n",
       "      <td>...</td>\n",
       "      <td>...</td>\n",
       "      <td>...</td>\n",
       "      <td>...</td>\n",
       "      <td>...</td>\n",
       "      <td>...</td>\n",
       "      <td>...</td>\n",
       "      <td>...</td>\n",
       "      <td>...</td>\n",
       "      <td>...</td>\n",
       "    </tr>\n",
       "    <tr>\n",
       "      <th>1003</th>\n",
       "      <td>2014</td>\n",
       "      <td>1</td>\n",
       "      <td>2639.0</td>\n",
       "      <td>31002.06</td>\n",
       "      <td>280969.19</td>\n",
       "      <td>15465.81</td>\n",
       "      <td>5843.38</td>\n",
       "      <td>19.88</td>\n",
       "      <td>682.81</td>\n",
       "      <td>0.0</td>\n",
       "      <td>336622.31</td>\n",
       "      <td>20141</td>\n",
       "      <td>20</td>\n",
       "    </tr>\n",
       "    <tr>\n",
       "      <th>1004</th>\n",
       "      <td>2014</td>\n",
       "      <td>1</td>\n",
       "      <td>2639.0</td>\n",
       "      <td>31002.06</td>\n",
       "      <td>280969.19</td>\n",
       "      <td>15465.81</td>\n",
       "      <td>5843.38</td>\n",
       "      <td>19.88</td>\n",
       "      <td>682.81</td>\n",
       "      <td>0.0</td>\n",
       "      <td>336622.31</td>\n",
       "      <td>20141</td>\n",
       "      <td>21</td>\n",
       "    </tr>\n",
       "    <tr>\n",
       "      <th>1005</th>\n",
       "      <td>2014</td>\n",
       "      <td>1</td>\n",
       "      <td>2639.0</td>\n",
       "      <td>31002.06</td>\n",
       "      <td>280969.19</td>\n",
       "      <td>15465.81</td>\n",
       "      <td>5843.38</td>\n",
       "      <td>19.88</td>\n",
       "      <td>682.81</td>\n",
       "      <td>0.0</td>\n",
       "      <td>336622.31</td>\n",
       "      <td>20141</td>\n",
       "      <td>22</td>\n",
       "    </tr>\n",
       "    <tr>\n",
       "      <th>1006</th>\n",
       "      <td>2014</td>\n",
       "      <td>1</td>\n",
       "      <td>2639.0</td>\n",
       "      <td>31002.06</td>\n",
       "      <td>280969.19</td>\n",
       "      <td>15465.81</td>\n",
       "      <td>5843.38</td>\n",
       "      <td>19.88</td>\n",
       "      <td>682.81</td>\n",
       "      <td>0.0</td>\n",
       "      <td>336622.31</td>\n",
       "      <td>20141</td>\n",
       "      <td>23</td>\n",
       "    </tr>\n",
       "    <tr>\n",
       "      <th>1007</th>\n",
       "      <td>2014</td>\n",
       "      <td>1</td>\n",
       "      <td>2639.0</td>\n",
       "      <td>31002.06</td>\n",
       "      <td>280969.19</td>\n",
       "      <td>15465.81</td>\n",
       "      <td>5843.38</td>\n",
       "      <td>19.88</td>\n",
       "      <td>682.81</td>\n",
       "      <td>0.0</td>\n",
       "      <td>336622.31</td>\n",
       "      <td>20141</td>\n",
       "      <td>24</td>\n",
       "    </tr>\n",
       "  </tbody>\n",
       "</table>\n",
       "<p>1008 rows × 13 columns</p>\n",
       "</div>"
      ],
      "text/plain": [
       "       Año  Trimestre  Menos 0.512 Mb/s  [0.512 , 1] Mb/s  [1 , 6] Mb/s  \\\n",
       "0     2024          2           25287.0          23034.00     222627.00   \n",
       "1     2024          2             518.0           4122.00      24539.00   \n",
       "2     2024          2              72.0            164.00       2660.00   \n",
       "3     2024          2             236.0            349.00      14594.00   \n",
       "4     2024          2             125.0           1139.00      43699.00   \n",
       "...    ...        ...               ...               ...           ...   \n",
       "1003  2014          1            2639.0          31002.06     280969.19   \n",
       "1004  2014          1            2639.0          31002.06     280969.19   \n",
       "1005  2014          1            2639.0          31002.06     280969.19   \n",
       "1006  2014          1            2639.0          31002.06     280969.19   \n",
       "1007  2014          1            2639.0          31002.06     280969.19   \n",
       "\n",
       "      [6 , 10] Mb/s  [10 , 20] Mb/s  [20 , 30] Mb/s  Más 30 Mb/s     Otros  \\\n",
       "0         221660.00       244528.00       106302.00   4020395.00  125547.0   \n",
       "1          40296.00        33158.00         5633.00   1355333.00       0.0   \n",
       "2           3093.00         3799.00         1279.00     63954.00      53.0   \n",
       "3           8336.00         6208.00         6454.00    107707.00    3208.0   \n",
       "4          31971.00        22696.00        19827.00     38212.00   16554.0   \n",
       "...             ...             ...             ...          ...       ...   \n",
       "1003       15465.81         5843.38           19.88       682.81       0.0   \n",
       "1004       15465.81         5843.38           19.88       682.81       0.0   \n",
       "1005       15465.81         5843.38           19.88       682.81       0.0   \n",
       "1006       15465.81         5843.38           19.88       682.81       0.0   \n",
       "1007       15465.81         5843.38           19.88       682.81       0.0   \n",
       "\n",
       "           Total  Año-Trimestre  Id_Provincia  \n",
       "0     4989380.00          20242             2  \n",
       "1     1463599.00          20242             1  \n",
       "2       75074.00          20242             3  \n",
       "3      147092.00          20242             4  \n",
       "4      174223.00          20242             5  \n",
       "...          ...            ...           ...  \n",
       "1003   336622.31          20141            20  \n",
       "1004   336622.31          20141            21  \n",
       "1005   336622.31          20141            22  \n",
       "1006   336622.31          20141            23  \n",
       "1007   336622.31          20141            24  \n",
       "\n",
       "[1008 rows x 13 columns]"
      ]
     },
     "execution_count": 72,
     "metadata": {},
     "output_type": "execute_result"
    }
   ],
   "source": [
    "dicc={\"Año\":[2014 for i in range(8)],\n",
    "      \"Trimestre\":[1 for i in range(8)],\n",
    "      \"Menos 0.512 Mb/s\":[round(acc_rang2.loc[999-15:999,\"Menos 0.512 Mb/s\"].mean(),2) for i in range(8)],\n",
    "      \"[0.512 , 1] Mb/s\":[round(acc_rang2.loc[999-15:999,\"[0.512 , 1] Mb/s\"].mean(),2) for i in range(8)],\n",
    "      \"[1 , 6] Mb/s\":[round(acc_rang2.loc[999-15:999,\"[1 , 6] Mb/s\"].mean(),2) for i in range(8)],\n",
    "      \"[6 , 10] Mb/s\":[round(acc_rang2.loc[999-15:999,\"[6 , 10] Mb/s\"].mean(),2) for i in range(8)],\n",
    "      \"[10 , 20] Mb/s\":[round(acc_rang2.loc[999-15:999,\"[10 , 20] Mb/s\"].mean(),2) for i in range(8)],\n",
    "      \"[20 , 30] Mb/s\":[round(acc_rang2.loc[999-15:999,\"[20 , 30] Mb/s\"].mean(),2) for i in range(8)],\n",
    "      \"Más 30 Mb/s\":[round(acc_rang2.loc[999-15:999,\"Más 30 Mb/s\"].mean(),2) for i in range(8)],\n",
    "      \"Otros\":[round(acc_rang2.loc[999-15:999,\"Otros\"].mean(),2) for i in range(8)],\n",
    "      \"Total\":[round(acc_rang2.loc[999-15:999,\"Total\"].mean(),2) for i in range(8)],\n",
    "      \"Año-Trimestre\":[20141 for i in range(8)],\n",
    "      \"Id_Provincia\":[i for i in range(17,25)]}\n",
    "df=pd.DataFrame(dicc)\n",
    "acc_rang3=pd.concat([acc_rang2, df], ignore_index=True)\n",
    "acc_rang3"
   ]
  },
  {
   "cell_type": "code",
   "execution_count": 73,
   "metadata": {},
   "outputs": [],
   "source": [
    "acc_rang3.to_csv('./Database/Tablas_de_hecho/Acceso_por_rango.csv',index=False, decimal=',')"
   ]
  },
  {
   "cell_type": "markdown",
   "metadata": {},
   "source": [
    "<u>TOTAL_DIAL-BAF</u>"
   ]
  },
  {
   "cell_type": "code",
   "execution_count": 74,
   "metadata": {},
   "outputs": [
    {
     "data": {
      "text/html": [
       "<div>\n",
       "<style scoped>\n",
       "    .dataframe tbody tr th:only-of-type {\n",
       "        vertical-align: middle;\n",
       "    }\n",
       "\n",
       "    .dataframe tbody tr th {\n",
       "        vertical-align: top;\n",
       "    }\n",
       "\n",
       "    .dataframe thead th {\n",
       "        text-align: right;\n",
       "    }\n",
       "</style>\n",
       "<table border=\"1\" class=\"dataframe\">\n",
       "  <thead>\n",
       "    <tr style=\"text-align: right;\">\n",
       "      <th></th>\n",
       "      <th>Año</th>\n",
       "      <th>Trimestre</th>\n",
       "      <th>Banda ancha fija</th>\n",
       "      <th>Dial up</th>\n",
       "      <th>Total</th>\n",
       "      <th>Periodo</th>\n",
       "    </tr>\n",
       "  </thead>\n",
       "  <tbody>\n",
       "    <tr>\n",
       "      <th>0</th>\n",
       "      <td>2024</td>\n",
       "      <td>2</td>\n",
       "      <td>11544314</td>\n",
       "      <td>11793</td>\n",
       "      <td>11556107</td>\n",
       "      <td>Abr-Jun 2024</td>\n",
       "    </tr>\n",
       "    <tr>\n",
       "      <th>1</th>\n",
       "      <td>2024</td>\n",
       "      <td>1</td>\n",
       "      <td>11621363</td>\n",
       "      <td>11793</td>\n",
       "      <td>11633156</td>\n",
       "      <td>Ene-Mar 2024</td>\n",
       "    </tr>\n",
       "    <tr>\n",
       "      <th>2</th>\n",
       "      <td>2023</td>\n",
       "      <td>4</td>\n",
       "      <td>11535868</td>\n",
       "      <td>11793</td>\n",
       "      <td>11547661</td>\n",
       "      <td>Oct-Dic 2023</td>\n",
       "    </tr>\n",
       "    <tr>\n",
       "      <th>3</th>\n",
       "      <td>2023</td>\n",
       "      <td>3</td>\n",
       "      <td>11395115</td>\n",
       "      <td>11793</td>\n",
       "      <td>11406908</td>\n",
       "      <td>Jul-Sept 2023</td>\n",
       "    </tr>\n",
       "    <tr>\n",
       "      <th>4</th>\n",
       "      <td>2023</td>\n",
       "      <td>2</td>\n",
       "      <td>11239781</td>\n",
       "      <td>12116</td>\n",
       "      <td>11251897</td>\n",
       "      <td>Abr-Jun 2023</td>\n",
       "    </tr>\n",
       "  </tbody>\n",
       "</table>\n",
       "</div>"
      ],
      "text/plain": [
       "    Año  Trimestre  Banda ancha fija  Dial up     Total        Periodo\n",
       "0  2024          2          11544314    11793  11556107   Abr-Jun 2024\n",
       "1  2024          1          11621363    11793  11633156   Ene-Mar 2024\n",
       "2  2023          4          11535868    11793  11547661   Oct-Dic 2023\n",
       "3  2023          3          11395115    11793  11406908  Jul-Sept 2023\n",
       "4  2023          2          11239781    12116  11251897   Abr-Jun 2023"
      ]
     },
     "execution_count": 74,
     "metadata": {},
     "output_type": "execute_result"
    }
   ],
   "source": [
    "dial_baf_tot1=dial_baf_tot.copy()\n",
    "dial_baf_tot1.head()"
   ]
  },
  {
   "cell_type": "code",
   "execution_count": 75,
   "metadata": {},
   "outputs": [
    {
     "name": "stdout",
     "output_type": "stream",
     "text": [
      "<class 'pandas.core.frame.DataFrame'>\n",
      "RangeIndex: 42 entries, 0 to 41\n",
      "Data columns (total 6 columns):\n",
      " #   Column            Non-Null Count  Dtype \n",
      "---  ------            --------------  ----- \n",
      " 0   Año               42 non-null     int64 \n",
      " 1   Trimestre         42 non-null     int64 \n",
      " 2   Banda ancha fija  42 non-null     int64 \n",
      " 3   Dial up           42 non-null     int64 \n",
      " 4   Total             42 non-null     int64 \n",
      " 5   Periodo           42 non-null     object\n",
      "dtypes: int64(5), object(1)\n",
      "memory usage: 2.1+ KB\n"
     ]
    }
   ],
   "source": [
    "dial_baf_tot1.info()"
   ]
  },
  {
   "cell_type": "markdown",
   "metadata": {},
   "source": [
    "La columna Periodo es irrelevante y ya está en la tabla de dimension Trimestre"
   ]
  },
  {
   "cell_type": "code",
   "execution_count": 76,
   "metadata": {},
   "outputs": [],
   "source": [
    "dial_baf_tot1=dial_baf_tot1.drop(columns=\"Periodo\")"
   ]
  },
  {
   "cell_type": "markdown",
   "metadata": {},
   "source": [
    "Analizamos una linea histórica de los accesos"
   ]
  },
  {
   "cell_type": "code",
   "execution_count": 77,
   "metadata": {},
   "outputs": [
    {
     "data": {
      "image/png": "[encoded data removed]",
      "text/plain": [
       "<Figure size 1000x1200 with 2 Axes>"
      ]
     },
     "metadata": {},
     "output_type": "display_data"
    }
   ],
   "source": [
    "# Creamos la nueva columna 'Año-Trimestre'\n",
    "dial_baf_tot1['Año-Trimestre'] = dial_baf_tot1['Año'].astype(str) + dial_baf_tot1['Trimestre'].astype(str)\n",
    "\n",
    "# Convertir la nueva columna a tipo numérico \n",
    "dial_baf_tot1['Año-Trimestre'] = dial_baf_tot1['Año-Trimestre'].astype(int)\n",
    "\n",
    "#Agrupamos por 'Año-Trimestre' y sumar los valores de ambas columnas\n",
    "dial_baf_tot1_agrupado = dial_baf_tot1.groupby('Año-Trimestre')[['Banda ancha fija', 'Dial up']].sum()\n",
    "\n",
    "# Crear dos gráficos de línea separados\n",
    "fig, ax = plt.subplots(2, 1, figsize=(10, 12))  # Dos filas, una columna\n",
    "\n",
    "# Gráfico 1: 'Accesos por cada 100 hogares'\n",
    "ax[0].plot(dial_baf_tot1_agrupado.index, dial_baf_tot1_agrupado['Banda ancha fija'], marker='o', linestyle='-', color='b')\n",
    "ax[0].set_title('Accesos Banda ancha fija')\n",
    "ax[0].set_xlabel('Año-Trimestre')\n",
    "ax[0].set_ylabel('Accesos Banda ancha fija')\n",
    "ax[0].grid(True)\n",
    "\n",
    "# Gráfico 2: 'Accesos por cada 100 hab'\n",
    "ax[1].plot(dial_baf_tot1_agrupado.index, dial_baf_tot1_agrupado['Dial up'], marker='o', linestyle='-', color='g')\n",
    "ax[1].set_title('Accesos Dial up')\n",
    "ax[1].set_xlabel('Año-Trimestre')\n",
    "ax[1].set_ylabel('Accesos Dial up')\n",
    "ax[1].grid(True)\n",
    "\n",
    "# Obtener solo las etiquetas correspondientes al primer trimestre de cada año\n",
    "# Aquí se extraen los valores de 'Año' de los primeros trimestres de cada año\n",
    "xticks = sorted(set([int(str(x)[:4] + '1') for x in dial_baf_tot1_agrupado.index]))  # Año + 1\n",
    "\n",
    "# Establecer los ticks del eje X para que solo muestren los primeros trimestres de cada año\n",
    "for axis in ax:\n",
    "    axis.set_xticks(xticks)\n",
    "    axis.set_xticklabels([str(x) for x in xticks])  # Convertir los valores a cadenas si es necesario\n",
    "    axis.tick_params(axis='x', rotation=45)  # Rotar las etiquetas del eje X para mayor legibilidad\n",
    "\n",
    "\n",
    "# Ajustar la visualización\n",
    "plt.tight_layout()\n",
    "\n",
    "# Mostrar los gráficos\n",
    "plt.show()"
   ]
  },
  {
   "cell_type": "markdown",
   "metadata": {},
   "source": [
    "La conexión Dial up es una forma de acceso a Internet que utiliza una línea telefónica analógica para establecer una conexión con un proveedor de servicios de Internet. La concexión Banda ancha fija incluye conexiones DSL, redes de cable y fibra óptica, entre otras. Como Puede verse mientras la segunda a aumentado su número de accesos a lo largo de los años, la primera ha perdido muchos, teniendo una bajada drástica en el último trimestre del 2019. Esto puede deverse a que, con el aumento del uso del celular, se produjo una fuerte disminucion en el uso de teléfonos fijos y, por ende, en el uso de las cooperativas telefónicas que brindan internet (Dial up)"
   ]
  },
  {
   "cell_type": "code",
   "execution_count": 78,
   "metadata": {},
   "outputs": [],
   "source": [
    "dial_baf_tot1.to_csv('./Database/Tablas_de_hecho/Total_Dial_Baf.csv',index=False, decimal=',')"
   ]
  },
  {
   "cell_type": "markdown",
   "metadata": {},
   "source": [
    "<u>DIAL-BAF</u>"
   ]
  },
  {
   "cell_type": "code",
   "execution_count": 79,
   "metadata": {},
   "outputs": [
    {
     "data": {
      "text/html": [
       "<div>\n",
       "<style scoped>\n",
       "    .dataframe tbody tr th:only-of-type {\n",
       "        vertical-align: middle;\n",
       "    }\n",
       "\n",
       "    .dataframe tbody tr th {\n",
       "        vertical-align: top;\n",
       "    }\n",
       "\n",
       "    .dataframe thead th {\n",
       "        text-align: right;\n",
       "    }\n",
       "</style>\n",
       "<table border=\"1\" class=\"dataframe\">\n",
       "  <thead>\n",
       "    <tr style=\"text-align: right;\">\n",
       "      <th></th>\n",
       "      <th>Año</th>\n",
       "      <th>Trimestre</th>\n",
       "      <th>Provincia</th>\n",
       "      <th>Banda ancha fija</th>\n",
       "      <th>Dial up</th>\n",
       "      <th>Total</th>\n",
       "    </tr>\n",
       "  </thead>\n",
       "  <tbody>\n",
       "    <tr>\n",
       "      <th>0</th>\n",
       "      <td>2024</td>\n",
       "      <td>2</td>\n",
       "      <td>Buenos Aires</td>\n",
       "      <td>4983480</td>\n",
       "      <td>5900.0</td>\n",
       "      <td>4989380</td>\n",
       "    </tr>\n",
       "    <tr>\n",
       "      <th>1</th>\n",
       "      <td>2024</td>\n",
       "      <td>2</td>\n",
       "      <td>Capital Federal</td>\n",
       "      <td>1461549</td>\n",
       "      <td>2050.0</td>\n",
       "      <td>1463599</td>\n",
       "    </tr>\n",
       "    <tr>\n",
       "      <th>2</th>\n",
       "      <td>2024</td>\n",
       "      <td>2</td>\n",
       "      <td>Catamarca</td>\n",
       "      <td>75073</td>\n",
       "      <td>1.0</td>\n",
       "      <td>75074</td>\n",
       "    </tr>\n",
       "    <tr>\n",
       "      <th>3</th>\n",
       "      <td>2024</td>\n",
       "      <td>2</td>\n",
       "      <td>Chaco</td>\n",
       "      <td>147087</td>\n",
       "      <td>5.0</td>\n",
       "      <td>147092</td>\n",
       "    </tr>\n",
       "    <tr>\n",
       "      <th>4</th>\n",
       "      <td>2024</td>\n",
       "      <td>2</td>\n",
       "      <td>Chubut</td>\n",
       "      <td>173366</td>\n",
       "      <td>857.0</td>\n",
       "      <td>174223</td>\n",
       "    </tr>\n",
       "  </tbody>\n",
       "</table>\n",
       "</div>"
      ],
      "text/plain": [
       "    Año  Trimestre        Provincia  Banda ancha fija  Dial up    Total\n",
       "0  2024          2     Buenos Aires           4983480   5900.0  4989380\n",
       "1  2024          2  Capital Federal           1461549   2050.0  1463599\n",
       "2  2024          2        Catamarca             75073      1.0    75074\n",
       "3  2024          2            Chaco            147087      5.0   147092\n",
       "4  2024          2           Chubut            173366    857.0   174223"
      ]
     },
     "execution_count": 79,
     "metadata": {},
     "output_type": "execute_result"
    }
   ],
   "source": [
    "dial_baf1=dial_baf.copy()\n",
    "dial_baf1.head()"
   ]
  },
  {
   "cell_type": "code",
   "execution_count": 80,
   "metadata": {},
   "outputs": [
    {
     "name": "stdout",
     "output_type": "stream",
     "text": [
      "<class 'pandas.core.frame.DataFrame'>\n",
      "RangeIndex: 1992 entries, 0 to 1991\n",
      "Data columns (total 6 columns):\n",
      " #   Column            Non-Null Count  Dtype  \n",
      "---  ------            --------------  -----  \n",
      " 0   Año               1992 non-null   int64  \n",
      " 1   Trimestre         1992 non-null   int64  \n",
      " 2   Provincia         1992 non-null   object \n",
      " 3   Banda ancha fija  1992 non-null   int64  \n",
      " 4   Dial up           1988 non-null   float64\n",
      " 5   Total             1992 non-null   int64  \n",
      "dtypes: float64(1), int64(4), object(1)\n",
      "memory usage: 93.5+ KB\n"
     ]
    }
   ],
   "source": [
    "dial_baf1.info()"
   ]
  },
  {
   "cell_type": "code",
   "execution_count": 81,
   "metadata": {},
   "outputs": [
    {
     "name": "stdout",
     "output_type": "stream",
     "text": [
      "584     0\n",
      "589     0\n",
      "1568    0\n",
      "1573    0\n",
      "dtype: int64\n"
     ]
    }
   ],
   "source": [
    "nan = dial_baf1[dial_baf1['Dial up'].isna()]\n",
    "print(nan[\"Banda ancha fija\"]-nan[\"Total\"])"
   ]
  },
  {
   "cell_type": "markdown",
   "metadata": {},
   "source": [
    "Como se puede ver que, en las filas que la columna \"Dial up\" tiene NaN, Banda ancha fija = Total. Por lo que podemos reemplazar los NaN por ceros"
   ]
  },
  {
   "cell_type": "code",
   "execution_count": 82,
   "metadata": {},
   "outputs": [],
   "source": [
    "dial_baf1.fillna(0,inplace=True)"
   ]
  },
  {
   "cell_type": "markdown",
   "metadata": {},
   "source": [
    "Normalizamos el formato de texto en la columna Provincias, traemos la columna Id_Provinvias y eliminamos la anterior"
   ]
  },
  {
   "cell_type": "code",
   "execution_count": 83,
   "metadata": {},
   "outputs": [],
   "source": [
    "dial_baf1.loc[:, \"Provincia\"]=dial_baf1[\"Provincia\"].apply(normalizacion_palabras)\n",
    "dial_baf1[\"Provincia\"] = dial_baf1[\"Provincia\"].replace(\"Ciudad Autonoma de Buenos Aires\", \"Caba\")\n",
    "dial_baf1[\"Provincia\"] = dial_baf1[\"Provincia\"].replace(\"Capital Federal\", \"Caba\")\n",
    "dial_baf1 = dial_baf1.merge(provincias[[\"Provincia\", \"Id_Provincia\"]], left_on=\"Provincia\", right_on=\"Provincia\", how=\"left\")\n",
    "dial_baf2=dial_baf1.drop(columns=\"Provincia\")"
   ]
  },
  {
   "cell_type": "code",
   "execution_count": 84,
   "metadata": {},
   "outputs": [],
   "source": [
    "dial_baf2['Año-Trimestre'] = dial_baf2['Año'].astype(str) + dial_baf2['Trimestre'].astype(str)\n",
    "dial_baf2['Año-Trimestre'] = dial_baf2['Año-Trimestre'].astype(int)"
   ]
  },
  {
   "cell_type": "code",
   "execution_count": 85,
   "metadata": {},
   "outputs": [],
   "source": [
    "dial_baf2[\"Dial up\"]=dial_baf2[\"Dial up\"].astype(int)"
   ]
  },
  {
   "cell_type": "code",
   "execution_count": 86,
   "metadata": {},
   "outputs": [],
   "source": [
    "dial_baf2.to_csv('./Database/Tablas_de_hecho/Dial_Baf.csv',index=False, decimal=',')"
   ]
  },
  {
   "cell_type": "markdown",
   "metadata": {},
   "source": [
    "<u>INGRESOS</u>"
   ]
  },
  {
   "cell_type": "code",
   "execution_count": 87,
   "metadata": {},
   "outputs": [
    {
     "data": {
      "text/html": [
       "<div>\n",
       "<style scoped>\n",
       "    .dataframe tbody tr th:only-of-type {\n",
       "        vertical-align: middle;\n",
       "    }\n",
       "\n",
       "    .dataframe tbody tr th {\n",
       "        vertical-align: top;\n",
       "    }\n",
       "\n",
       "    .dataframe thead th {\n",
       "        text-align: right;\n",
       "    }\n",
       "</style>\n",
       "<table border=\"1\" class=\"dataframe\">\n",
       "  <thead>\n",
       "    <tr style=\"text-align: right;\">\n",
       "      <th></th>\n",
       "      <th>Año</th>\n",
       "      <th>Trimestre</th>\n",
       "      <th>Ingresos (miles de pesos)</th>\n",
       "      <th>Periodo</th>\n",
       "    </tr>\n",
       "  </thead>\n",
       "  <tbody>\n",
       "    <tr>\n",
       "      <th>0</th>\n",
       "      <td>2024</td>\n",
       "      <td>2</td>\n",
       "      <td>4.420322e+08</td>\n",
       "      <td>Abr-Jun 2024</td>\n",
       "    </tr>\n",
       "    <tr>\n",
       "      <th>1</th>\n",
       "      <td>2024</td>\n",
       "      <td>1</td>\n",
       "      <td>3.461990e+08</td>\n",
       "      <td>Ene-Mar 2024</td>\n",
       "    </tr>\n",
       "    <tr>\n",
       "      <th>2</th>\n",
       "      <td>2023</td>\n",
       "      <td>4</td>\n",
       "      <td>1.673760e+08</td>\n",
       "      <td>Oct-Dic 2023</td>\n",
       "    </tr>\n",
       "    <tr>\n",
       "      <th>3</th>\n",
       "      <td>2023</td>\n",
       "      <td>3</td>\n",
       "      <td>1.331066e+08</td>\n",
       "      <td>Jul-Sept 2023</td>\n",
       "    </tr>\n",
       "    <tr>\n",
       "      <th>4</th>\n",
       "      <td>2023</td>\n",
       "      <td>2</td>\n",
       "      <td>1.180603e+08</td>\n",
       "      <td>Jun-Mar 2023</td>\n",
       "    </tr>\n",
       "  </tbody>\n",
       "</table>\n",
       "</div>"
      ],
      "text/plain": [
       "    Año  Trimestre  Ingresos (miles de pesos)        Periodo\n",
       "0  2024          2               4.420322e+08   Abr-Jun 2024\n",
       "1  2024          1               3.461990e+08   Ene-Mar 2024\n",
       "2  2023          4               1.673760e+08   Oct-Dic 2023\n",
       "3  2023          3               1.331066e+08  Jul-Sept 2023\n",
       "4  2023          2               1.180603e+08   Jun-Mar 2023"
      ]
     },
     "execution_count": 87,
     "metadata": {},
     "output_type": "execute_result"
    }
   ],
   "source": [
    "Ingresos1=Ingresos.copy()\n",
    "Ingresos1.head()"
   ]
  },
  {
   "cell_type": "markdown",
   "metadata": {},
   "source": [
    "La columna Periodo es irrelevante y ya está en la tabla de dimension Trimestre"
   ]
  },
  {
   "cell_type": "code",
   "execution_count": 88,
   "metadata": {},
   "outputs": [],
   "source": [
    "Ingresos1=Ingresos1.drop(columns=\"Periodo\")"
   ]
  },
  {
   "cell_type": "code",
   "execution_count": 89,
   "metadata": {},
   "outputs": [
    {
     "name": "stdout",
     "output_type": "stream",
     "text": [
      "<class 'pandas.core.frame.DataFrame'>\n",
      "RangeIndex: 42 entries, 0 to 41\n",
      "Data columns (total 3 columns):\n",
      " #   Column                     Non-Null Count  Dtype  \n",
      "---  ------                     --------------  -----  \n",
      " 0   Año                        42 non-null     int64  \n",
      " 1   Trimestre                  42 non-null     int64  \n",
      " 2   Ingresos (miles de pesos)  42 non-null     float64\n",
      "dtypes: float64(1), int64(2)\n",
      "memory usage: 1.1 KB\n"
     ]
    }
   ],
   "source": [
    "Ingresos1.info()"
   ]
  },
  {
   "cell_type": "markdown",
   "metadata": {},
   "source": [
    "Hagamos una linea histórica de los ingresos"
   ]
  },
  {
   "cell_type": "code",
   "execution_count": 90,
   "metadata": {},
   "outputs": [
    {
     "data": {
      "image/png": "[encoded data removed]",
      "text/plain": [
       "<Figure size 1000x600 with 1 Axes>"
      ]
     },
     "metadata": {},
     "output_type": "display_data"
    }
   ],
   "source": [
    "Ingresos1['Año-Trimestre'] = Ingresos1['Año'].astype(str) + Ingresos1['Trimestre'].astype(str)\n",
    "\n",
    "Ingresos1['Año-Trimestre'] = Ingresos1['Año-Trimestre'].astype(int)\n",
    "\n",
    "Ingresos1_agrupado = Ingresos1.groupby('Año-Trimestre')['Ingresos (miles de pesos)'].sum()\n",
    "punto=5\n",
    "\n",
    "plt.figure(figsize=(10, 6))\n",
    "\n",
    "plt.plot(Ingresos1_agrupado.index, Ingresos1_agrupado, marker='o', linestyle='-', label='Ingresos (miles de pesos)', color='b',markersize=punto)\n",
    "\n",
    "# Etiquetas y título\n",
    "plt.xlabel('Año-Trimestre')\n",
    "plt.ylabel('Ingresos (miles de pesos)')\n",
    "plt.title('Evolución histórica de los Ingresos (miles de pesos)')\n",
    "plt.xticks(rotation=45) \n",
    "\n",
    "xticks = sorted(set([int(str(x)[:4] + '1') for x in Ingresos1_agrupado.index]))\n",
    "plt.xticks(xticks, [str(x) for x in xticks], rotation=45)\n",
    "\n",
    "plt.grid(True)\n",
    "\n",
    "# Mostrar la leyenda\n",
    "plt.legend()\n",
    "\n",
    "# Ajuste de la visualización\n",
    "plt.tight_layout()\n",
    "\n",
    "# Mostrar el gráfico\n",
    "plt.show()"
   ]
  },
  {
   "cell_type": "markdown",
   "metadata": {},
   "source": [
    "Este grafico también tiene sentido "
   ]
  },
  {
   "cell_type": "markdown",
   "metadata": {},
   "source": [
    "En este caso vamos a redondear los números para que no tengan decimales, ya que hablamos de millones de pesos"
   ]
  },
  {
   "cell_type": "code",
   "execution_count": 91,
   "metadata": {},
   "outputs": [],
   "source": [
    "Ingresos1[\"Ingresos (miles de pesos)\"]=Ingresos1[\"Ingresos (miles de pesos)\"].round()"
   ]
  },
  {
   "cell_type": "code",
   "execution_count": 92,
   "metadata": {},
   "outputs": [],
   "source": [
    "Ingresos1.to_csv('./Database/Tablas_de_hecho/Ingresos.csv',index=False, decimal=',')"
   ]
  },
  {
   "cell_type": "markdown",
   "metadata": {},
   "source": [
    "<u>VELOCIDAD SIN RANGOS</u>"
   ]
  },
  {
   "cell_type": "code",
   "execution_count": 93,
   "metadata": {},
   "outputs": [
    {
     "data": {
      "text/html": [
       "<div>\n",
       "<style scoped>\n",
       "    .dataframe tbody tr th:only-of-type {\n",
       "        vertical-align: middle;\n",
       "    }\n",
       "\n",
       "    .dataframe tbody tr th {\n",
       "        vertical-align: top;\n",
       "    }\n",
       "\n",
       "    .dataframe thead th {\n",
       "        text-align: right;\n",
       "    }\n",
       "</style>\n",
       "<table border=\"1\" class=\"dataframe\">\n",
       "  <thead>\n",
       "    <tr style=\"text-align: right;\">\n",
       "      <th></th>\n",
       "      <th>Año</th>\n",
       "      <th>Trimestre</th>\n",
       "      <th>Provincia</th>\n",
       "      <th>Velocidad</th>\n",
       "      <th>Accesos</th>\n",
       "    </tr>\n",
       "  </thead>\n",
       "  <tbody>\n",
       "    <tr>\n",
       "      <th>0</th>\n",
       "      <td>2024</td>\n",
       "      <td>2</td>\n",
       "      <td>BUENOS AIRES</td>\n",
       "      <td>75.0</td>\n",
       "      <td>1062</td>\n",
       "    </tr>\n",
       "    <tr>\n",
       "      <th>1</th>\n",
       "      <td>2024</td>\n",
       "      <td>2</td>\n",
       "      <td>BUENOS AIRES</td>\n",
       "      <td>59.0</td>\n",
       "      <td>59</td>\n",
       "    </tr>\n",
       "    <tr>\n",
       "      <th>2</th>\n",
       "      <td>2024</td>\n",
       "      <td>2</td>\n",
       "      <td>BUENOS AIRES</td>\n",
       "      <td>480.0</td>\n",
       "      <td>5</td>\n",
       "    </tr>\n",
       "    <tr>\n",
       "      <th>3</th>\n",
       "      <td>2024</td>\n",
       "      <td>2</td>\n",
       "      <td>BUENOS AIRES</td>\n",
       "      <td>3.5</td>\n",
       "      <td>41735</td>\n",
       "    </tr>\n",
       "    <tr>\n",
       "      <th>4</th>\n",
       "      <td>2024</td>\n",
       "      <td>2</td>\n",
       "      <td>BUENOS AIRES</td>\n",
       "      <td>18.0</td>\n",
       "      <td>1042</td>\n",
       "    </tr>\n",
       "  </tbody>\n",
       "</table>\n",
       "</div>"
      ],
      "text/plain": [
       "    Año  Trimestre     Provincia  Velocidad  Accesos\n",
       "0  2024          2  BUENOS AIRES       75.0     1062\n",
       "1  2024          2  BUENOS AIRES       59.0       59\n",
       "2  2024          2  BUENOS AIRES      480.0        5\n",
       "3  2024          2  BUENOS AIRES        3.5    41735\n",
       "4  2024          2  BUENOS AIRES       18.0     1042"
      ]
     },
     "execution_count": 93,
     "metadata": {},
     "output_type": "execute_result"
    }
   ],
   "source": [
    "vel_sinrang1=vel_sinrang.copy()\n",
    "vel_sinrang1.head()"
   ]
  },
  {
   "cell_type": "code",
   "execution_count": 94,
   "metadata": {},
   "outputs": [
    {
     "name": "stdout",
     "output_type": "stream",
     "text": [
      "<class 'pandas.core.frame.DataFrame'>\n",
      "RangeIndex: 18884 entries, 0 to 18883\n",
      "Data columns (total 5 columns):\n",
      " #   Column     Non-Null Count  Dtype  \n",
      "---  ------     --------------  -----  \n",
      " 0   Año        18884 non-null  int64  \n",
      " 1   Trimestre  18884 non-null  int64  \n",
      " 2   Provincia  18884 non-null  object \n",
      " 3   Velocidad  18874 non-null  float64\n",
      " 4   Accesos    18884 non-null  int64  \n",
      "dtypes: float64(1), int64(3), object(1)\n",
      "memory usage: 737.8+ KB\n"
     ]
    }
   ],
   "source": [
    "vel_sinrang1.info()"
   ]
  },
  {
   "cell_type": "markdown",
   "metadata": {},
   "source": [
    "Veamos los valores NaN"
   ]
  },
  {
   "cell_type": "code",
   "execution_count": 95,
   "metadata": {},
   "outputs": [
    {
     "name": "stdout",
     "output_type": "stream",
     "text": [
      "        Año  Trimestre     Provincia  Velocidad  Accesos\n",
      "1155   2024          1       Córdoba        NaN        1\n",
      "1644   2024          1      Santa Fe        NaN        9\n",
      "3753   2023          2       Córdoba        NaN        1\n",
      "4239   2023          2      Santa Fe        NaN        9\n",
      "6303   2022          3       Córdoba        NaN        1\n",
      "6785   2022          3      Santa Fe        NaN        9\n",
      "9255   2021          3  Buenos Aires        NaN        4\n",
      "10031  2021          2  Buenos Aires        NaN        4\n",
      "10794  2021          1  Buenos Aires        NaN        4\n",
      "11538  2020          4  Buenos Aires        NaN        4\n"
     ]
    }
   ],
   "source": [
    "nan = vel_sinrang1[vel_sinrang1['Velocidad'].isna()]\n",
    "print(nan)"
   ]
  },
  {
   "cell_type": "markdown",
   "metadata": {},
   "source": [
    "Tomaremos como que los valores cero de velocidad reprecentan una flata de informacion sobre este. Por lo que los NaN seran reemplazados por ceros "
   ]
  },
  {
   "cell_type": "code",
   "execution_count": 96,
   "metadata": {},
   "outputs": [],
   "source": [
    "vel_sinrang1.fillna(0,inplace=True)"
   ]
  },
  {
   "cell_type": "code",
   "execution_count": 97,
   "metadata": {},
   "outputs": [
    {
     "name": "stdout",
     "output_type": "stream",
     "text": [
      "<class 'pandas.core.frame.DataFrame'>\n",
      "RangeIndex: 18884 entries, 0 to 18883\n",
      "Data columns (total 5 columns):\n",
      " #   Column     Non-Null Count  Dtype  \n",
      "---  ------     --------------  -----  \n",
      " 0   Año        18884 non-null  int64  \n",
      " 1   Trimestre  18884 non-null  int64  \n",
      " 2   Provincia  18884 non-null  object \n",
      " 3   Velocidad  18884 non-null  float64\n",
      " 4   Accesos    18884 non-null  int64  \n",
      "dtypes: float64(1), int64(3), object(1)\n",
      "memory usage: 737.8+ KB\n"
     ]
    }
   ],
   "source": [
    "vel_sinrang1.info()"
   ]
  },
  {
   "cell_type": "markdown",
   "metadata": {},
   "source": [
    "Normalicemos el formato de texto de la columna Provincia. Ademas traigamos la columna de Id_Provincia y eliminemos la columna Provincia "
   ]
  },
  {
   "cell_type": "code",
   "execution_count": 98,
   "metadata": {},
   "outputs": [],
   "source": [
    "vel_sinrang1.loc[:, \"Provincia\"]=vel_sinrang1[\"Provincia\"].apply(normalizacion_palabras)\n",
    "vel_sinrang1[\"Provincia\"] = vel_sinrang1[\"Provincia\"].replace(\"Ciudad Autonoma de Buenos Aires\", \"Caba\")\n",
    "vel_sinrang1[\"Provincia\"] = vel_sinrang1[\"Provincia\"].replace(\"Capital Federal\", \"Caba\")\n",
    "vel_sinrang1 = vel_sinrang1.merge(provincias[[\"Provincia\", \"Id_Provincia\"]], left_on=\"Provincia\", right_on=\"Provincia\", how=\"left\")\n",
    "vel_sinrang2=vel_sinrang1.drop(columns=\"Provincia\")"
   ]
  },
  {
   "cell_type": "code",
   "execution_count": 99,
   "metadata": {},
   "outputs": [],
   "source": [
    "vel_sinrang2['Año-Trimestre'] = vel_sinrang2['Año'].astype(str) + vel_sinrang2['Trimestre'].astype(str)\n",
    "vel_sinrang2['Año-Trimestre'] = vel_sinrang2['Año-Trimestre'].astype(int)"
   ]
  },
  {
   "cell_type": "code",
   "execution_count": 100,
   "metadata": {},
   "outputs": [],
   "source": [
    "vel_sinrang2.to_csv('./Database/Tablas_de_hecho/Velocidad_sin_Rangos.csv',index=False, decimal=',')"
   ]
  },
  {
   "cell_type": "markdown",
   "metadata": {},
   "source": [
    "<u>ACCESOS TECNOLOGÍA LOCALDAD</u>"
   ]
  },
  {
   "cell_type": "code",
   "execution_count": 101,
   "metadata": {},
   "outputs": [
    {
     "data": {
      "text/html": [
       "<div>\n",
       "<style scoped>\n",
       "    .dataframe tbody tr th:only-of-type {\n",
       "        vertical-align: middle;\n",
       "    }\n",
       "\n",
       "    .dataframe tbody tr th {\n",
       "        vertical-align: top;\n",
       "    }\n",
       "\n",
       "    .dataframe thead th {\n",
       "        text-align: right;\n",
       "    }\n",
       "</style>\n",
       "<table border=\"1\" class=\"dataframe\">\n",
       "  <thead>\n",
       "    <tr style=\"text-align: right;\">\n",
       "      <th></th>\n",
       "      <th>Provincia</th>\n",
       "      <th>Partido</th>\n",
       "      <th>Localidad</th>\n",
       "      <th>Tecnologia</th>\n",
       "      <th>Link Indec</th>\n",
       "      <th>Accesos</th>\n",
       "    </tr>\n",
       "  </thead>\n",
       "  <tbody>\n",
       "    <tr>\n",
       "      <th>0</th>\n",
       "      <td>BUENOS AIRES</td>\n",
       "      <td>25 de Mayo</td>\n",
       "      <td>25 de Mayo</td>\n",
       "      <td>ADSL</td>\n",
       "      <td>6854100</td>\n",
       "      <td>755.0</td>\n",
       "    </tr>\n",
       "    <tr>\n",
       "      <th>1</th>\n",
       "      <td>BUENOS AIRES</td>\n",
       "      <td>25 de Mayo</td>\n",
       "      <td>25 de Mayo</td>\n",
       "      <td>CABLEMODEM</td>\n",
       "      <td>6854100</td>\n",
       "      <td>4600.0</td>\n",
       "    </tr>\n",
       "    <tr>\n",
       "      <th>2</th>\n",
       "      <td>BUENOS AIRES</td>\n",
       "      <td>25 de Mayo</td>\n",
       "      <td>25 de Mayo</td>\n",
       "      <td>FIBRA OPTICA</td>\n",
       "      <td>6854100</td>\n",
       "      <td>2.0</td>\n",
       "    </tr>\n",
       "    <tr>\n",
       "      <th>3</th>\n",
       "      <td>BUENOS AIRES</td>\n",
       "      <td>25 de Mayo</td>\n",
       "      <td>25 de Mayo</td>\n",
       "      <td>SATELITAL</td>\n",
       "      <td>6854100</td>\n",
       "      <td>742.0</td>\n",
       "    </tr>\n",
       "    <tr>\n",
       "      <th>4</th>\n",
       "      <td>BUENOS AIRES</td>\n",
       "      <td>25 de Mayo</td>\n",
       "      <td>25 de Mayo</td>\n",
       "      <td>WIRELESS</td>\n",
       "      <td>6854100</td>\n",
       "      <td>727.0</td>\n",
       "    </tr>\n",
       "  </tbody>\n",
       "</table>\n",
       "</div>"
      ],
      "text/plain": [
       "      Provincia     Partido   Localidad    Tecnologia Link Indec  Accesos\n",
       "0  BUENOS AIRES  25 de Mayo  25 de Mayo          ADSL    6854100    755.0\n",
       "1  BUENOS AIRES  25 de Mayo  25 de Mayo    CABLEMODEM    6854100   4600.0\n",
       "2  BUENOS AIRES  25 de Mayo  25 de Mayo  FIBRA OPTICA    6854100      2.0\n",
       "3  BUENOS AIRES  25 de Mayo  25 de Mayo     SATELITAL    6854100    742.0\n",
       "4  BUENOS AIRES  25 de Mayo  25 de Mayo      WIRELESS    6854100    727.0"
      ]
     },
     "execution_count": 101,
     "metadata": {},
     "output_type": "execute_result"
    }
   ],
   "source": [
    "Acc_tec_loc1=Acc_tec_loc.copy()\n",
    "Acc_tec_loc1.head()"
   ]
  },
  {
   "cell_type": "code",
   "execution_count": 102,
   "metadata": {},
   "outputs": [
    {
     "name": "stdout",
     "output_type": "stream",
     "text": [
      "<class 'pandas.core.frame.DataFrame'>\n",
      "RangeIndex: 7753 entries, 0 to 7752\n",
      "Data columns (total 6 columns):\n",
      " #   Column      Non-Null Count  Dtype  \n",
      "---  ------      --------------  -----  \n",
      " 0   Provincia   7753 non-null   object \n",
      " 1   Partido     7753 non-null   object \n",
      " 2   Localidad   7753 non-null   object \n",
      " 3   Tecnologia  7753 non-null   object \n",
      " 4   Link Indec  7753 non-null   object \n",
      " 5   Accesos     7747 non-null   float64\n",
      "dtypes: float64(1), object(5)\n",
      "memory usage: 363.6+ KB\n"
     ]
    }
   ],
   "source": [
    "Acc_tec_loc1.info()"
   ]
  },
  {
   "cell_type": "markdown",
   "metadata": {},
   "source": [
    "Vemos los NaN de Accesos"
   ]
  },
  {
   "cell_type": "code",
   "execution_count": 103,
   "metadata": {},
   "outputs": [
    {
     "name": "stdout",
     "output_type": "stream",
     "text": [
      "                Provincia     Partido         Localidad Tecnologia Link Indec  \\\n",
      "3755           CORRIENTES   Ituzaingó  Colonia Liebig's      Otros   18084010   \n",
      "4101           ENTRE RIOS        Tala  Rosario del Tala      Otros   30091100   \n",
      "5744                SALTA    Cafayate          Tolombón      Otros   66021020   \n",
      "6005                SALTA  San Carlos           Animaná      Otros   66154020   \n",
      "6010                SALTA  San Carlos        San Carlos      Otros   66154040   \n",
      "7372  SANTIAGO DEL ESTERO       Choya             Frías      Otros   86063040   \n",
      "\n",
      "      Accesos  \n",
      "3755      NaN  \n",
      "4101      NaN  \n",
      "5744      NaN  \n",
      "6005      NaN  \n",
      "6010      NaN  \n",
      "7372      NaN  \n"
     ]
    }
   ],
   "source": [
    "nan = Acc_tec_loc1[Acc_tec_loc1['Accesos'].isna()]\n",
    "print(nan)"
   ]
  },
  {
   "cell_type": "markdown",
   "metadata": {},
   "source": [
    "Como hicimos al principio, rellenaremos los NaN de Accesos con ceros"
   ]
  },
  {
   "cell_type": "code",
   "execution_count": 104,
   "metadata": {},
   "outputs": [],
   "source": [
    "Acc_tec_loc1.fillna(0.0,inplace=True)"
   ]
  },
  {
   "cell_type": "markdown",
   "metadata": {},
   "source": [
    "Eliminamos la columna de Link Indec, normalizamos el formato de texto de la columna Provincia, Partido y Localiad y, por último, traemos los Id's"
   ]
  },
  {
   "cell_type": "code",
   "execution_count": 105,
   "metadata": {},
   "outputs": [
    {
     "name": "stdout",
     "output_type": "stream",
     "text": [
      "<class 'pandas.core.frame.DataFrame'>\n",
      "RangeIndex: 7753 entries, 0 to 7752\n",
      "Data columns (total 5 columns):\n",
      " #   Column         Non-Null Count  Dtype  \n",
      "---  ------         --------------  -----  \n",
      " 0   Accesos        7753 non-null   float64\n",
      " 1   Id_Provincia   7753 non-null   int64  \n",
      " 2   Id_Partido     7753 non-null   int64  \n",
      " 3   Id_Localidad   7753 non-null   int64  \n",
      " 4   Id_Tecnologia  7753 non-null   int64  \n",
      "dtypes: float64(1), int64(4)\n",
      "memory usage: 303.0 KB\n"
     ]
    }
   ],
   "source": [
    "Acc_tec_loc1.drop(columns=\"Link Indec\",inplace=True)\n",
    "# Normalizamos el formato del texto\n",
    "Acc_tec_loc1.loc[:, \"Provincia\"]=Acc_tec_loc1[\"Provincia\"].apply(normalizacion_palabras)\n",
    "Acc_tec_loc1.loc[:, \"Partido\"]=Acc_tec_loc1[\"Partido\"].apply(normalizacion_palabras)\n",
    "Acc_tec_loc1.loc[:, \"Localidad\"]=Acc_tec_loc1[\"Localidad\"].apply(normalizacion_palabras)\n",
    "Acc_tec_loc1.loc[:, \"Tecnologia\"]=Acc_tec_loc1[\"Tecnologia\"].apply(normalizacion_palabras)\n",
    "Acc_tec_loc1[[\"Provincia\",\"Partido\",\"Localidad\"]] = Acc_tec_loc1[[\"Provincia\",\"Partido\",\"Localidad\"]].replace(\"Ciudad Autonoma de Buenos Aires\", \"Caba\")\n",
    "Acc_tec_loc1[[\"Provincia\",\"Partido\",\"Localidad\"]] = Acc_tec_loc1[[\"Provincia\",\"Partido\",\"Localidad\"]].replace(\"Capital Federal\", \"Caba\")\n",
    "# Traemos los Id's\n",
    "Acc_tec_loc1 = Acc_tec_loc1.merge(provincias[[\"Provincia\", \"Id_Provincia\"]], left_on=\"Provincia\", right_on=\"Provincia\", how=\"left\")\n",
    "Acc_tec_loc1 = Acc_tec_loc1.merge(partidos[[\"Partido\", \"Id_Partido\"]], left_on=\"Partido\", right_on=\"Partido\", how=\"left\")\n",
    "Acc_tec_loc1 = Acc_tec_loc1.merge(localidades[[\"Localidad\", \"Id_Localidad\"]], left_on=\"Localidad\", right_on=\"Localidad\", how=\"left\")\n",
    "Acc_tec_loc1 = Acc_tec_loc1.merge(tecnologias[[\"Tecnologia\", \"Id_Tecnologia\"]], left_on=\"Tecnologia\", right_on=\"Tecnologia\", how=\"left\")\n",
    "# Eliminamos las columas\n",
    "Acc_tec_loc2=Acc_tec_loc1.drop(columns=[\"Provincia\",\"Partido\",\"Localidad\",\"Tecnologia\"])\n",
    "Acc_tec_loc2.info()"
   ]
  },
  {
   "cell_type": "code",
   "execution_count": 106,
   "metadata": {},
   "outputs": [],
   "source": [
    "Acc_tec_loc2[\"Accesos\"]=Acc_tec_loc2[\"Accesos\"].astype(int)"
   ]
  },
  {
   "cell_type": "code",
   "execution_count": 107,
   "metadata": {},
   "outputs": [],
   "source": [
    "Acc_tec_loc2.to_csv('./Database/Tablas_de_hecho/Accesos_Tecnologia_Localidad.csv',index=False, decimal=',')"
   ]
  },
  {
   "cell_type": "markdown",
   "metadata": {},
   "source": [
    "<u>VELOCIDAD % POR PROV</u>"
   ]
  },
  {
   "cell_type": "code",
   "execution_count": 108,
   "metadata": {},
   "outputs": [
    {
     "data": {
      "text/html": [
       "<div>\n",
       "<style scoped>\n",
       "    .dataframe tbody tr th:only-of-type {\n",
       "        vertical-align: middle;\n",
       "    }\n",
       "\n",
       "    .dataframe tbody tr th {\n",
       "        vertical-align: top;\n",
       "    }\n",
       "\n",
       "    .dataframe thead th {\n",
       "        text-align: right;\n",
       "    }\n",
       "</style>\n",
       "<table border=\"1\" class=\"dataframe\">\n",
       "  <thead>\n",
       "    <tr style=\"text-align: right;\">\n",
       "      <th></th>\n",
       "      <th>Año</th>\n",
       "      <th>Trimestre</th>\n",
       "      <th>Provincia</th>\n",
       "      <th>Mbps (Media de bajada)</th>\n",
       "    </tr>\n",
       "  </thead>\n",
       "  <tbody>\n",
       "    <tr>\n",
       "      <th>0</th>\n",
       "      <td>2024</td>\n",
       "      <td>2</td>\n",
       "      <td>Buenos Aires</td>\n",
       "      <td>157.41</td>\n",
       "    </tr>\n",
       "    <tr>\n",
       "      <th>1</th>\n",
       "      <td>2024</td>\n",
       "      <td>2</td>\n",
       "      <td>Capital Federal</td>\n",
       "      <td>233.01</td>\n",
       "    </tr>\n",
       "    <tr>\n",
       "      <th>2</th>\n",
       "      <td>2024</td>\n",
       "      <td>2</td>\n",
       "      <td>Catamarca</td>\n",
       "      <td>97.38</td>\n",
       "    </tr>\n",
       "    <tr>\n",
       "      <th>3</th>\n",
       "      <td>2024</td>\n",
       "      <td>2</td>\n",
       "      <td>Chaco</td>\n",
       "      <td>107.76</td>\n",
       "    </tr>\n",
       "    <tr>\n",
       "      <th>4</th>\n",
       "      <td>2024</td>\n",
       "      <td>2</td>\n",
       "      <td>Chubut</td>\n",
       "      <td>21.67</td>\n",
       "    </tr>\n",
       "  </tbody>\n",
       "</table>\n",
       "</div>"
      ],
      "text/plain": [
       "    Año  Trimestre        Provincia  Mbps (Media de bajada)\n",
       "0  2024          2     Buenos Aires                  157.41\n",
       "1  2024          2  Capital Federal                  233.01\n",
       "2  2024          2        Catamarca                   97.38\n",
       "3  2024          2            Chaco                  107.76\n",
       "4  2024          2           Chubut                   21.67"
      ]
     },
     "execution_count": 108,
     "metadata": {},
     "output_type": "execute_result"
    }
   ],
   "source": [
    "vel_prov1=vel_prov.copy()\n",
    "vel_prov1.head()"
   ]
  },
  {
   "cell_type": "code",
   "execution_count": 109,
   "metadata": {},
   "outputs": [
    {
     "name": "stdout",
     "output_type": "stream",
     "text": [
      "<class 'pandas.core.frame.DataFrame'>\n",
      "RangeIndex: 1008 entries, 0 to 1007\n",
      "Data columns (total 4 columns):\n",
      " #   Column                  Non-Null Count  Dtype  \n",
      "---  ------                  --------------  -----  \n",
      " 0   Año                     1008 non-null   int64  \n",
      " 1   Trimestre               1008 non-null   int64  \n",
      " 2   Provincia               1008 non-null   object \n",
      " 3   Mbps (Media de bajada)  1008 non-null   float64\n",
      "dtypes: float64(1), int64(2), object(1)\n",
      "memory usage: 31.6+ KB\n"
     ]
    }
   ],
   "source": [
    "vel_prov1.info()"
   ]
  },
  {
   "cell_type": "markdown",
   "metadata": {},
   "source": [
    "Normalicemos el formato de texto de la columna Provincia. Ademas traigamos la columna de Id_Provincia y eliminemos la columna Provincia "
   ]
  },
  {
   "cell_type": "code",
   "execution_count": 110,
   "metadata": {},
   "outputs": [],
   "source": [
    "vel_prov1['Año-Trimestre'] = vel_prov1['Año'].astype(str) + vel_prov1['Trimestre'].astype(str)\n",
    "vel_prov1['Año-Trimestre'] = vel_prov1['Año-Trimestre'].astype(int)"
   ]
  },
  {
   "cell_type": "code",
   "execution_count": 111,
   "metadata": {},
   "outputs": [
    {
     "name": "stdout",
     "output_type": "stream",
     "text": [
      "<class 'pandas.core.frame.DataFrame'>\n",
      "RangeIndex: 1008 entries, 0 to 1007\n",
      "Data columns (total 5 columns):\n",
      " #   Column                  Non-Null Count  Dtype  \n",
      "---  ------                  --------------  -----  \n",
      " 0   Año                     1008 non-null   int64  \n",
      " 1   Trimestre               1008 non-null   int64  \n",
      " 2   Mbps (Media de bajada)  1008 non-null   float64\n",
      " 3   Año-Trimestre           1008 non-null   int64  \n",
      " 4   Id_Provincia            1008 non-null   int64  \n",
      "dtypes: float64(1), int64(4)\n",
      "memory usage: 39.5 KB\n"
     ]
    }
   ],
   "source": [
    "vel_prov1.loc[:, \"Provincia\"]=vel_prov1[\"Provincia\"].apply(normalizacion_palabras)\n",
    "vel_prov1[\"Provincia\"] = vel_prov1[\"Provincia\"].replace(\"Ciudad Autonoma de Buenos Aires\", \"Caba\")\n",
    "vel_prov1[\"Provincia\"] = vel_prov1[\"Provincia\"].replace(\"Capital Federal\", \"Caba\")\n",
    "vel_prov1 = vel_prov1.merge(provincias[[\"Provincia\", \"Id_Provincia\"]], left_on=\"Provincia\", right_on=\"Provincia\", how=\"left\")\n",
    "vel_prov2=vel_prov1.drop(columns=\"Provincia\")\n",
    "vel_prov2.info()"
   ]
  },
  {
   "cell_type": "markdown",
   "metadata": {},
   "source": [
    "Hacemos que los números enteros, queden solo con dos cifras decimales."
   ]
  },
  {
   "cell_type": "code",
   "execution_count": 112,
   "metadata": {},
   "outputs": [],
   "source": [
    "vel_prov2[\"Mbps (Media de bajada)\"]=vel_prov2[\"Mbps (Media de bajada)\"].round(2)"
   ]
  },
  {
   "cell_type": "code",
   "execution_count": 113,
   "metadata": {},
   "outputs": [],
   "source": [
    "vel_prov2.to_csv('./Database/Tablas_de_hecho/Velocidad_%_por_provincia.csv',index=False, decimal=',')"
   ]
  },
  {
   "cell_type": "markdown",
   "metadata": {},
   "source": [
    "<u>TOTALES VMD</u>"
   ]
  },
  {
   "cell_type": "code",
   "execution_count": 114,
   "metadata": {},
   "outputs": [
    {
     "data": {
      "text/html": [
       "<div>\n",
       "<style scoped>\n",
       "    .dataframe tbody tr th:only-of-type {\n",
       "        vertical-align: middle;\n",
       "    }\n",
       "\n",
       "    .dataframe tbody tr th {\n",
       "        vertical-align: top;\n",
       "    }\n",
       "\n",
       "    .dataframe thead th {\n",
       "        text-align: right;\n",
       "    }\n",
       "</style>\n",
       "<table border=\"1\" class=\"dataframe\">\n",
       "  <thead>\n",
       "    <tr style=\"text-align: right;\">\n",
       "      <th></th>\n",
       "      <th>Año</th>\n",
       "      <th>Trimestre</th>\n",
       "      <th>Mbps (Media de bajada)</th>\n",
       "      <th>Trimestre.1</th>\n",
       "    </tr>\n",
       "  </thead>\n",
       "  <tbody>\n",
       "    <tr>\n",
       "      <th>0</th>\n",
       "      <td>2024</td>\n",
       "      <td>2</td>\n",
       "      <td>139.25</td>\n",
       "      <td>Abr-Jun 2024</td>\n",
       "    </tr>\n",
       "    <tr>\n",
       "      <th>1</th>\n",
       "      <td>2024</td>\n",
       "      <td>1</td>\n",
       "      <td>139.15</td>\n",
       "      <td>Ene-Mar 2024</td>\n",
       "    </tr>\n",
       "    <tr>\n",
       "      <th>2</th>\n",
       "      <td>2023</td>\n",
       "      <td>4</td>\n",
       "      <td>139.04</td>\n",
       "      <td>Oct-Dic 2023</td>\n",
       "    </tr>\n",
       "    <tr>\n",
       "      <th>3</th>\n",
       "      <td>2023</td>\n",
       "      <td>3</td>\n",
       "      <td>129.67</td>\n",
       "      <td>Jul-Sept 2023</td>\n",
       "    </tr>\n",
       "    <tr>\n",
       "      <th>4</th>\n",
       "      <td>2023</td>\n",
       "      <td>2</td>\n",
       "      <td>123.95</td>\n",
       "      <td>Abr-Jun 2023</td>\n",
       "    </tr>\n",
       "  </tbody>\n",
       "</table>\n",
       "</div>"
      ],
      "text/plain": [
       "    Año  Trimestre  Mbps (Media de bajada)    Trimestre.1\n",
       "0  2024          2                  139.25   Abr-Jun 2024\n",
       "1  2024          1                  139.15   Ene-Mar 2024\n",
       "2  2023          4                  139.04   Oct-Dic 2023\n",
       "3  2023          3                  129.67  Jul-Sept 2023\n",
       "4  2023          2                  123.95   Abr-Jun 2023"
      ]
     },
     "execution_count": 114,
     "metadata": {},
     "output_type": "execute_result"
    }
   ],
   "source": [
    "vmd_tot1=vmd_tot.copy()\n",
    "vmd_tot1.head()"
   ]
  },
  {
   "cell_type": "code",
   "execution_count": 115,
   "metadata": {},
   "outputs": [
    {
     "name": "stdout",
     "output_type": "stream",
     "text": [
      "<class 'pandas.core.frame.DataFrame'>\n",
      "RangeIndex: 42 entries, 0 to 41\n",
      "Data columns (total 4 columns):\n",
      " #   Column                  Non-Null Count  Dtype  \n",
      "---  ------                  --------------  -----  \n",
      " 0   Año                     42 non-null     int64  \n",
      " 1   Trimestre               42 non-null     int64  \n",
      " 2   Mbps (Media de bajada)  42 non-null     float64\n",
      " 3   Trimestre.1             42 non-null     object \n",
      "dtypes: float64(1), int64(2), object(1)\n",
      "memory usage: 1.4+ KB\n"
     ]
    }
   ],
   "source": [
    "vmd_tot1.info()"
   ]
  },
  {
   "cell_type": "code",
   "execution_count": 116,
   "metadata": {},
   "outputs": [
    {
     "data": {
      "text/plain": [
       "Index(['Año', 'Trimestre', 'Mbps (Media de bajada)'], dtype='object')"
      ]
     },
     "execution_count": 116,
     "metadata": {},
     "output_type": "execute_result"
    }
   ],
   "source": [
    "vmd_tot1.drop(columns=\"Trimestre.1\",inplace=True)\n",
    "vmd_tot1.columns"
   ]
  },
  {
   "cell_type": "code",
   "execution_count": 117,
   "metadata": {},
   "outputs": [],
   "source": [
    "vmd_tot1['Año-Trimestre'] = vmd_tot1['Año'].astype(str) + vmd_tot1['Trimestre'].astype(str)\n",
    "vmd_tot1['Año-Trimestre'] = vmd_tot1['Año-Trimestre'].astype(int)"
   ]
  },
  {
   "cell_type": "markdown",
   "metadata": {},
   "source": [
    "Hacemos que los números enteros, queden solo con dos cifras decimales."
   ]
  },
  {
   "cell_type": "code",
   "execution_count": 118,
   "metadata": {},
   "outputs": [],
   "source": [
    "vmd_tot1[\"Mbps (Media de bajada)\"]=vmd_tot1[\"Mbps (Media de bajada)\"].round(2)"
   ]
  },
  {
   "cell_type": "code",
   "execution_count": 119,
   "metadata": {},
   "outputs": [],
   "source": [
    "vmd_tot1.to_csv('./Database/Tablas_de_hecho/Totales_VMD.csv',index=False, decimal=',')"
   ]
  },
  {
   "cell_type": "markdown",
   "metadata": {},
   "source": [
    "<u>TOTAL ACCESO POR TECNOLOGIA</u>"
   ]
  },
  {
   "cell_type": "code",
   "execution_count": 120,
   "metadata": {},
   "outputs": [
    {
     "data": {
      "text/html": [
       "<div>\n",
       "<style scoped>\n",
       "    .dataframe tbody tr th:only-of-type {\n",
       "        vertical-align: middle;\n",
       "    }\n",
       "\n",
       "    .dataframe tbody tr th {\n",
       "        vertical-align: top;\n",
       "    }\n",
       "\n",
       "    .dataframe thead th {\n",
       "        text-align: right;\n",
       "    }\n",
       "</style>\n",
       "<table border=\"1\" class=\"dataframe\">\n",
       "  <thead>\n",
       "    <tr style=\"text-align: right;\">\n",
       "      <th></th>\n",
       "      <th>Año</th>\n",
       "      <th>Trimestre</th>\n",
       "      <th>ADSL</th>\n",
       "      <th>Cablemodem</th>\n",
       "      <th>Fibra óptica</th>\n",
       "      <th>Wireless</th>\n",
       "      <th>Otros</th>\n",
       "      <th>Total</th>\n",
       "      <th>Periodo</th>\n",
       "    </tr>\n",
       "  </thead>\n",
       "  <tbody>\n",
       "    <tr>\n",
       "      <th>0</th>\n",
       "      <td>2024</td>\n",
       "      <td>2</td>\n",
       "      <td>733491</td>\n",
       "      <td>5867504</td>\n",
       "      <td>4169958</td>\n",
       "      <td>593197</td>\n",
       "      <td>191957</td>\n",
       "      <td>11556107</td>\n",
       "      <td>Abr-Jun 2024</td>\n",
       "    </tr>\n",
       "    <tr>\n",
       "      <th>1</th>\n",
       "      <td>2024</td>\n",
       "      <td>1</td>\n",
       "      <td>774475</td>\n",
       "      <td>5986957</td>\n",
       "      <td>4015101</td>\n",
       "      <td>598682</td>\n",
       "      <td>257941</td>\n",
       "      <td>11633156</td>\n",
       "      <td>Ene-Mar 2024</td>\n",
       "    </tr>\n",
       "    <tr>\n",
       "      <th>2</th>\n",
       "      <td>2023</td>\n",
       "      <td>4</td>\n",
       "      <td>836390</td>\n",
       "      <td>6022532</td>\n",
       "      <td>3908183</td>\n",
       "      <td>585760</td>\n",
       "      <td>194796</td>\n",
       "      <td>11547661</td>\n",
       "      <td>Oct-Dic 2023</td>\n",
       "    </tr>\n",
       "    <tr>\n",
       "      <th>3</th>\n",
       "      <td>2023</td>\n",
       "      <td>3</td>\n",
       "      <td>897895</td>\n",
       "      <td>6018832</td>\n",
       "      <td>3708718</td>\n",
       "      <td>581436</td>\n",
       "      <td>200027</td>\n",
       "      <td>11406908</td>\n",
       "      <td>Jul-Sept 2023</td>\n",
       "    </tr>\n",
       "    <tr>\n",
       "      <th>4</th>\n",
       "      <td>2023</td>\n",
       "      <td>2</td>\n",
       "      <td>1006509</td>\n",
       "      <td>5997149</td>\n",
       "      <td>3463988</td>\n",
       "      <td>581823</td>\n",
       "      <td>202428</td>\n",
       "      <td>11251897</td>\n",
       "      <td>Abr-Jun 2023</td>\n",
       "    </tr>\n",
       "  </tbody>\n",
       "</table>\n",
       "</div>"
      ],
      "text/plain": [
       "    Año  Trimestre     ADSL  Cablemodem  Fibra óptica  Wireless   Otros  \\\n",
       "0  2024          2   733491     5867504       4169958    593197  191957   \n",
       "1  2024          1   774475     5986957       4015101    598682  257941   \n",
       "2  2023          4   836390     6022532       3908183    585760  194796   \n",
       "3  2023          3   897895     6018832       3708718    581436  200027   \n",
       "4  2023          2  1006509     5997149       3463988    581823  202428   \n",
       "\n",
       "      Total        Periodo  \n",
       "0  11556107   Abr-Jun 2024  \n",
       "1  11633156   Ene-Mar 2024  \n",
       "2  11547661   Oct-Dic 2023  \n",
       "3  11406908  Jul-Sept 2023  \n",
       "4  11251897   Abr-Jun 2023  "
      ]
     },
     "execution_count": 120,
     "metadata": {},
     "output_type": "execute_result"
    }
   ],
   "source": [
    "acc_total_tec1=acc_total_tec.copy()\n",
    "acc_total_tec1.head()"
   ]
  },
  {
   "cell_type": "code",
   "execution_count": 121,
   "metadata": {},
   "outputs": [
    {
     "name": "stdout",
     "output_type": "stream",
     "text": [
      "<class 'pandas.core.frame.DataFrame'>\n",
      "RangeIndex: 42 entries, 0 to 41\n",
      "Data columns (total 9 columns):\n",
      " #   Column        Non-Null Count  Dtype \n",
      "---  ------        --------------  ----- \n",
      " 0   Año           42 non-null     int64 \n",
      " 1   Trimestre     42 non-null     int64 \n",
      " 2   ADSL          42 non-null     int64 \n",
      " 3   Cablemodem    42 non-null     int64 \n",
      " 4   Fibra óptica  42 non-null     int64 \n",
      " 5   Wireless      42 non-null     int64 \n",
      " 6   Otros         42 non-null     int64 \n",
      " 7   Total         42 non-null     int64 \n",
      " 8   Periodo       42 non-null     object\n",
      "dtypes: int64(8), object(1)\n",
      "memory usage: 3.1+ KB\n"
     ]
    }
   ],
   "source": [
    "acc_total_tec1.info()"
   ]
  },
  {
   "cell_type": "code",
   "execution_count": 122,
   "metadata": {},
   "outputs": [],
   "source": [
    "acc_total_tec1=acc_total_tec1.rename(columns={\"ADSL\":\"Adsl\"})\n",
    "acc_total_tec1.drop(columns=\"Periodo\",inplace=True)"
   ]
  },
  {
   "cell_type": "code",
   "execution_count": 123,
   "metadata": {},
   "outputs": [],
   "source": [
    "acc_total_tec1['Año-Trimestre'] = acc_total_tec1['Año'].astype(str) + acc_total_tec1['Trimestre'].astype(str)\n",
    "acc_total_tec1['Año-Trimestre'] = acc_total_tec1['Año-Trimestre'].astype(int)"
   ]
  },
  {
   "cell_type": "code",
   "execution_count": 124,
   "metadata": {},
   "outputs": [],
   "source": [
    "acc_total_tec1.to_csv('./Database/Tablas_de_hecho/Total_Acceso_por_Tecnologia.csv',index=False, decimal=',')"
   ]
  },
  {
   "cell_type": "markdown",
   "metadata": {},
   "source": [
    "<u>TELEFONÍA FIJA</u>"
   ]
  },
  {
   "cell_type": "code",
   "execution_count": 125,
   "metadata": {},
   "outputs": [
    {
     "data": {
      "text/html": [
       "<div>\n",
       "<style scoped>\n",
       "    .dataframe tbody tr th:only-of-type {\n",
       "        vertical-align: middle;\n",
       "    }\n",
       "\n",
       "    .dataframe tbody tr th {\n",
       "        vertical-align: top;\n",
       "    }\n",
       "\n",
       "    .dataframe thead th {\n",
       "        text-align: right;\n",
       "    }\n",
       "</style>\n",
       "<table border=\"1\" class=\"dataframe\">\n",
       "  <thead>\n",
       "    <tr style=\"text-align: right;\">\n",
       "      <th></th>\n",
       "      <th>Año</th>\n",
       "      <th>Trimestre</th>\n",
       "      <th>Ingresos (miles de $)</th>\n",
       "    </tr>\n",
       "  </thead>\n",
       "  <tbody>\n",
       "    <tr>\n",
       "      <th>0</th>\n",
       "      <td>2014</td>\n",
       "      <td>1</td>\n",
       "      <td>2916071.754</td>\n",
       "    </tr>\n",
       "    <tr>\n",
       "      <th>1</th>\n",
       "      <td>2014</td>\n",
       "      <td>2</td>\n",
       "      <td>2974865.204</td>\n",
       "    </tr>\n",
       "    <tr>\n",
       "      <th>2</th>\n",
       "      <td>2014</td>\n",
       "      <td>3</td>\n",
       "      <td>3105462.022</td>\n",
       "    </tr>\n",
       "    <tr>\n",
       "      <th>3</th>\n",
       "      <td>2014</td>\n",
       "      <td>4</td>\n",
       "      <td>3339690.895</td>\n",
       "    </tr>\n",
       "    <tr>\n",
       "      <th>4</th>\n",
       "      <td>2015</td>\n",
       "      <td>1</td>\n",
       "      <td>3260124.752</td>\n",
       "    </tr>\n",
       "  </tbody>\n",
       "</table>\n",
       "</div>"
      ],
      "text/plain": [
       "    Año  Trimestre  Ingresos (miles de $)\n",
       "0  2014          1            2916071.754\n",
       "1  2014          2            2974865.204\n",
       "2  2014          3            3105462.022\n",
       "3  2014          4            3339690.895\n",
       "4  2015          1            3260124.752"
      ]
     },
     "execution_count": 125,
     "metadata": {},
     "output_type": "execute_result"
    }
   ],
   "source": [
    "Ingresos_tel_fij1=Ingresos_tel_fij.copy()\n",
    "Ingresos_tel_fij1.head()"
   ]
  },
  {
   "cell_type": "code",
   "execution_count": 126,
   "metadata": {},
   "outputs": [],
   "source": [
    "Ingresos_tel_fij1['Año-Trimestre'] = Ingresos_tel_fij1['Año'].astype(str) + Ingresos_tel_fij1['Trimestre'].astype(str)\n",
    "Ingresos_tel_fij1['Año-Trimestre'] = Ingresos_tel_fij1['Año-Trimestre'].astype(int)"
   ]
  },
  {
   "cell_type": "code",
   "execution_count": 127,
   "metadata": {},
   "outputs": [
    {
     "name": "stdout",
     "output_type": "stream",
     "text": [
      "<class 'pandas.core.frame.DataFrame'>\n",
      "RangeIndex: 42 entries, 0 to 41\n",
      "Data columns (total 4 columns):\n",
      " #   Column                 Non-Null Count  Dtype  \n",
      "---  ------                 --------------  -----  \n",
      " 0   Año                    42 non-null     int64  \n",
      " 1   Trimestre              42 non-null     int64  \n",
      " 2   Ingresos (miles de $)  42 non-null     float64\n",
      " 3   Año-Trimestre          42 non-null     int64  \n",
      "dtypes: float64(1), int64(3)\n",
      "memory usage: 1.4 KB\n"
     ]
    }
   ],
   "source": [
    "Ingresos_tel_fij1.info()"
   ]
  },
  {
   "cell_type": "code",
   "execution_count": 128,
   "metadata": {},
   "outputs": [],
   "source": [
    "Ingresos_tel_fij1.to_csv('./Database/Tablas_de_hecho/Telefonia_fija.csv',index=False, decimal=',')"
   ]
  },
  {
   "cell_type": "markdown",
   "metadata": {},
   "source": [
    "<u>TELEFONÍA MOVIL</u>"
   ]
  },
  {
   "cell_type": "code",
   "execution_count": 129,
   "metadata": {},
   "outputs": [
    {
     "data": {
      "text/html": [
       "<div>\n",
       "<style scoped>\n",
       "    .dataframe tbody tr th:only-of-type {\n",
       "        vertical-align: middle;\n",
       "    }\n",
       "\n",
       "    .dataframe tbody tr th {\n",
       "        vertical-align: top;\n",
       "    }\n",
       "\n",
       "    .dataframe thead th {\n",
       "        text-align: right;\n",
       "    }\n",
       "</style>\n",
       "<table border=\"1\" class=\"dataframe\">\n",
       "  <thead>\n",
       "    <tr style=\"text-align: right;\">\n",
       "      <th></th>\n",
       "      <th>Año</th>\n",
       "      <th>Trimestre</th>\n",
       "      <th>Ingresos (miles de $)</th>\n",
       "      <th>Periodo</th>\n",
       "    </tr>\n",
       "  </thead>\n",
       "  <tbody>\n",
       "    <tr>\n",
       "      <th>0</th>\n",
       "      <td>2013</td>\n",
       "      <td>1</td>\n",
       "      <td>13135235</td>\n",
       "      <td>Ene-Mar 2013</td>\n",
       "    </tr>\n",
       "    <tr>\n",
       "      <th>1</th>\n",
       "      <td>2013</td>\n",
       "      <td>2</td>\n",
       "      <td>13970806</td>\n",
       "      <td>Abr-Jun 2013</td>\n",
       "    </tr>\n",
       "    <tr>\n",
       "      <th>2</th>\n",
       "      <td>2013</td>\n",
       "      <td>3</td>\n",
       "      <td>15235659</td>\n",
       "      <td>Jul-Sept 2013</td>\n",
       "    </tr>\n",
       "    <tr>\n",
       "      <th>3</th>\n",
       "      <td>2013</td>\n",
       "      <td>4</td>\n",
       "      <td>16218846</td>\n",
       "      <td>Oct-Dic 2013</td>\n",
       "    </tr>\n",
       "    <tr>\n",
       "      <th>4</th>\n",
       "      <td>2014</td>\n",
       "      <td>1</td>\n",
       "      <td>15938353</td>\n",
       "      <td>Ene-Mar 2013</td>\n",
       "    </tr>\n",
       "  </tbody>\n",
       "</table>\n",
       "</div>"
      ],
      "text/plain": [
       "    Año  Trimestre  Ingresos (miles de $)        Periodo\n",
       "0  2013          1               13135235   Ene-Mar 2013\n",
       "1  2013          2               13970806   Abr-Jun 2013\n",
       "2  2013          3               15235659  Jul-Sept 2013\n",
       "3  2013          4               16218846   Oct-Dic 2013\n",
       "4  2014          1               15938353   Ene-Mar 2013"
      ]
     },
     "execution_count": 129,
     "metadata": {},
     "output_type": "execute_result"
    }
   ],
   "source": [
    "Ingresos_tel_mov1=Ingresos_tel_mov.copy()\n",
    "Ingresos_tel_mov1.head()"
   ]
  },
  {
   "cell_type": "code",
   "execution_count": 130,
   "metadata": {},
   "outputs": [
    {
     "name": "stdout",
     "output_type": "stream",
     "text": [
      "<class 'pandas.core.frame.DataFrame'>\n",
      "RangeIndex: 46 entries, 0 to 45\n",
      "Data columns (total 4 columns):\n",
      " #   Column                 Non-Null Count  Dtype \n",
      "---  ------                 --------------  ----- \n",
      " 0   Año                    46 non-null     int64 \n",
      " 1   Trimestre              46 non-null     int64 \n",
      " 2   Ingresos (miles de $)  46 non-null     int64 \n",
      " 3   Periodo                46 non-null     object\n",
      "dtypes: int64(3), object(1)\n",
      "memory usage: 1.6+ KB\n"
     ]
    }
   ],
   "source": [
    "Ingresos_tel_mov1.info()"
   ]
  },
  {
   "cell_type": "code",
   "execution_count": 131,
   "metadata": {},
   "outputs": [],
   "source": [
    "Ingresos_tel_mov1.drop(columns=\"Periodo\",inplace=True)\n",
    "Ingresos_tel_mov1['Año-Trimestre'] = Ingresos_tel_mov1['Año'].astype(str) + Ingresos_tel_mov1['Trimestre'].astype(str)\n",
    "Ingresos_tel_mov1['Año-Trimestre'] = Ingresos_tel_mov1['Año-Trimestre'].astype(int)"
   ]
  },
  {
   "cell_type": "code",
   "execution_count": 132,
   "metadata": {},
   "outputs": [],
   "source": [
    "Ingresos_tel_mov1.to_csv('./Database/Tablas_de_hecho/Telefonia_movil.csv',index=False, decimal=',')"
   ]
  }
 ],
 "metadata": {
  "kernelspec": {
   "display_name": "ENTORNO_VIRTUAL",
   "language": "python",
   "name": "python3"
  },
  "language_info": {
   "codemirror_mode": {
    "name": "ipython",
    "version": 3
   },
   "file_extension": ".py",
   "mimetype": "text/x-python",
   "name": "python",
   "nbconvert_exporter": "python",
   "pygments_lexer": "ipython3",
   "version": "3.11.9"
  }
 },
 "nbformat": 4,
 "nbformat_minor": 2
}
